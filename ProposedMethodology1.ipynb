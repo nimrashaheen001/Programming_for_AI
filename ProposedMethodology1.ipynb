{
  "nbformat": 4,
  "nbformat_minor": 0,
  "metadata": {
    "colab": {
      "provenance": [],
      "gpuType": "T4",
      "authorship_tag": "ABX9TyMITZhhhmC/iYAjd0aXBPg6",
      "include_colab_link": true
    },
    "kernelspec": {
      "name": "python3",
      "display_name": "Python 3"
    },
    "language_info": {
      "name": "python"
    },
    "accelerator": "GPU"
  },
  "cells": [
    {
      "cell_type": "markdown",
      "metadata": {
        "id": "view-in-github",
        "colab_type": "text"
      },
      "source": [
        "<a href=\"https://colab.research.google.com/github/nimrashaheen001/Programming_for_AI/blob/main/ProposedMethodology1.ipynb\" target=\"_parent\"><img src=\"https://colab.research.google.com/assets/colab-badge.svg\" alt=\"Open In Colab\"/></a>"
      ]
    },
    {
      "cell_type": "code",
      "execution_count": 129,
      "metadata": {
        "colab": {
          "base_uri": "https://localhost:8080/"
        },
        "id": "aZTo4bb6mENx",
        "outputId": "1ea0ee35-ff75-4e51-8475-b6f7d4229f19"
      },
      "outputs": [
        {
          "output_type": "stream",
          "name": "stdout",
          "text": [
            "Extraction complete.\n"
          ]
        }
      ],
      "source": [
        "import zipfile\n",
        "import os\n",
        "\n",
        "zip_path = '/content/project_TransUNet.zip'\n",
        "extract_path = '/content/project_TransUNet'\n",
        "\n",
        "if zipfile.is_zipfile(zip_path):\n",
        "    with zipfile.ZipFile(zip_path, 'r') as zip_ref:\n",
        "        zip_ref.extractall(extract_path)\n",
        "    print(\"Extraction complete.\")\n",
        "else:\n",
        "    print(\"❌ The file is not a valid zip file.\")"
      ]
    },
    {
      "cell_type": "code",
      "source": [
        "!pip install ml-collections"
      ],
      "metadata": {
        "colab": {
          "base_uri": "https://localhost:8080/"
        },
        "id": "80TWnE-HmLDf",
        "outputId": "699ceac1-0f84-4135-dfbe-56339e4df560"
      },
      "execution_count": 130,
      "outputs": [
        {
          "output_type": "stream",
          "name": "stdout",
          "text": [
            "Requirement already satisfied: ml-collections in /usr/local/lib/python3.12/dist-packages (1.1.0)\n",
            "Requirement already satisfied: absl-py in /usr/local/lib/python3.12/dist-packages (from ml-collections) (1.4.0)\n",
            "Requirement already satisfied: PyYAML in /usr/local/lib/python3.12/dist-packages (from ml-collections) (6.0.2)\n"
          ]
        }
      ]
    },
    {
      "cell_type": "code",
      "source": [
        "!pip install tensorboardX"
      ],
      "metadata": {
        "colab": {
          "base_uri": "https://localhost:8080/"
        },
        "id": "N3_gjKvwmOWz",
        "outputId": "ba4489ec-43ea-41a7-8a50-5e1a0a9091ec"
      },
      "execution_count": 131,
      "outputs": [
        {
          "output_type": "stream",
          "name": "stdout",
          "text": [
            "Requirement already satisfied: tensorboardX in /usr/local/lib/python3.12/dist-packages (2.6.4)\n",
            "Requirement already satisfied: numpy in /usr/local/lib/python3.12/dist-packages (from tensorboardX) (2.0.2)\n",
            "Requirement already satisfied: packaging in /usr/local/lib/python3.12/dist-packages (from tensorboardX) (25.0)\n",
            "Requirement already satisfied: protobuf>=3.20 in /usr/local/lib/python3.12/dist-packages (from tensorboardX) (5.29.5)\n"
          ]
        }
      ]
    },
    {
      "cell_type": "code",
      "source": [
        "!pip install medpy"
      ],
      "metadata": {
        "colab": {
          "base_uri": "https://localhost:8080/"
        },
        "id": "ObErUrNwmRZg",
        "outputId": "419a3241-77cf-40a2-a3e0-a9dca4281a12"
      },
      "execution_count": 132,
      "outputs": [
        {
          "output_type": "stream",
          "name": "stdout",
          "text": [
            "Requirement already satisfied: medpy in /usr/local/lib/python3.12/dist-packages (0.5.2)\n",
            "Requirement already satisfied: scipy>=1.10 in /usr/local/lib/python3.12/dist-packages (from medpy) (1.16.1)\n",
            "Requirement already satisfied: numpy>=1.24 in /usr/local/lib/python3.12/dist-packages (from medpy) (2.0.2)\n",
            "Requirement already satisfied: SimpleITK>=2.1 in /usr/local/lib/python3.12/dist-packages (from medpy) (2.5.2)\n"
          ]
        }
      ]
    },
    {
      "cell_type": "code",
      "source": [
        "import fileinput\n",
        "\n",
        "config_path = \"/content/project_TransUNet/project_TransUNet/TransUNet/networks/vit_seg_configs.py\"\n",
        "new_path = \"/content/project_TransUNet/project_TransUNet/model/vit_checkpoint/imagenet21k/R50+ViT-B_16.npz\"\n",
        "\n",
        "for line in fileinput.input(config_path, inplace=True):\n",
        "    if \"pretrained_path\" in line:\n",
        "        print(f'    config_vit.pretrained_path = \"{new_path}\"')\n",
        "    else:\n",
        "        print(line, end=\"\")"
      ],
      "metadata": {
        "id": "dTIaXocmmURq"
      },
      "execution_count": 133,
      "outputs": []
    },
    {
      "cell_type": "code",
      "source": [
        "!touch /content/project_TransUNet/project_TransUNet/TransUNet/datasets/__init__.py"
      ],
      "metadata": {
        "id": "JhlJgwFPtz4m"
      },
      "execution_count": 142,
      "outputs": []
    },
    {
      "cell_type": "code",
      "source": [
        "!ls /content/project_TransUNet/project_TransUNet/data/Synapse"
      ],
      "metadata": {
        "colab": {
          "base_uri": "https://localhost:8080/"
        },
        "id": "CM5YB1KPuSEa",
        "outputId": "e2277b79-fb64-41e4-cebc-5904066c33c1"
      },
      "execution_count": 144,
      "outputs": [
        {
          "output_type": "stream",
          "name": "stdout",
          "text": [
            "test_vol_h5  train_npz\n"
          ]
        }
      ]
    },
    {
      "cell_type": "code",
      "source": [],
      "metadata": {
        "id": "KwYNP4oDunUs"
      },
      "execution_count": 151,
      "outputs": []
    },
    {
      "cell_type": "code",
      "source": [
        "!ls /content/project_TransUNet/project_TransUNet/TransUNet/lists/lists_Synapse"
      ],
      "metadata": {
        "colab": {
          "base_uri": "https://localhost:8080/"
        },
        "id": "UfsyeUxEuqBI",
        "outputId": "294cde08-9887-4913-e473-476fb55b666a"
      },
      "execution_count": 149,
      "outputs": [
        {
          "output_type": "stream",
          "name": "stdout",
          "text": [
            "all.lst  test_vol.txt  train.txt  val.txt\n"
          ]
        }
      ]
    },
    {
      "cell_type": "code",
      "source": [
        "import sys\n",
        "sys.path.append(\"/content/project_TransUNet/project_TransUNet/TransUNet\")"
      ],
      "metadata": {
        "id": "npqsoPNAyegY"
      },
      "execution_count": 154,
      "outputs": []
    },
    {
      "cell_type": "code",
      "source": [
        "!python /content/project_TransUNet/project_TransUNet/TransUNet/train.py \\\n",
        "    --root_path /content/project_TransUNet/project_TransUNet/data/Synapse/train_npz \\\n",
        "    --list_dir /content/project_TransUNet/project_TransUNet/TransUNet/lists/lists_Synapse"
      ],
      "metadata": {
        "colab": {
          "base_uri": "https://localhost:8080/"
        },
        "id": "0dLoPe22t6j3",
        "outputId": "63648143-a092-4c68-80b2-0f188fc4bdc3"
      },
      "execution_count": null,
      "outputs": [
        {
          "output_type": "stream",
          "name": "stdout",
          "text": [
            "Namespace(root_path='/content/project_TransUNet/project_TransUNet/data/Synapse/train_npz', dataset='Synapse', list_dir='/content/project_TransUNet/project_TransUNet/TransUNet/lists/lists_Synapse', num_classes=9, max_iterations=30000, max_epochs=150, batch_size=24, n_gpu=1, deterministic=1, base_lr=0.01, img_size=224, seed=1234, n_skip=3, vit_name='R50-ViT-B_16', vit_patches_size=16, is_pretrain=True, exp='TU_Synapse224')\n",
            "The length of train set is: 1768\n",
            "/usr/local/lib/python3.12/dist-packages/torch/utils/data/dataloader.py:627: UserWarning: This DataLoader will create 8 worker processes in total. Our suggested max number of worker in current system is 2, which is smaller than what this DataLoader is going to create. Please be aware that excessive worker creation might get DataLoader running slow or even freeze, lower the worker number to avoid potential slowness/freeze if necessary.\n",
            "  warnings.warn(\n",
            "74 iterations per epoch. 11100 max iterations \n",
            "\r  0%|                                         | 0/150 [00:00<?, ?it/s]"
          ]
        }
      ]
    },
    {
      "cell_type": "code",
      "source": [
        "!python /content/project_TransUNet/project_TransUNet/TransUNet/train.py\n"
      ],
      "metadata": {
        "colab": {
          "base_uri": "https://localhost:8080/"
        },
        "id": "n_jhW3GusVKt",
        "outputId": "85450a14-900c-459f-802e-3ba0d5892c1f"
      },
      "execution_count": 141,
      "outputs": [
        {
          "output_type": "stream",
          "name": "stdout",
          "text": [
            "Traceback (most recent call last):\n",
            "  File \"/content/project_TransUNet/project_TransUNet/TransUNet/train.py\", line 97, in <module>\n",
            "    trainer[dataset_name](args, net, snapshot_path)\n",
            "  File \"/content/project_TransUNet/project_TransUNet/TransUNet/trainer.py\", line 19, in trainer_synapse\n",
            "    from datasets.dataset_synapse import Synapse_dataset, RandomGenerator\n",
            "ModuleNotFoundError: No module named 'datasets.dataset_synapse'\n"
          ]
        }
      ]
    },
    {
      "cell_type": "code",
      "source": [
        "!python /content/project_TransUNet/project_TransUNet/TransUNet/train.py \\\n",
        "  --dataset Synapse \\\n",
        "  --vit_name R50-ViT-B_16 \\\n",
        "  --root_path /content/project_TransUNet/data/Synapse \\\n",
        "  --vit_patches_size 16"
      ],
      "metadata": {
        "colab": {
          "base_uri": "https://localhost:8080/"
        },
        "id": "0-wwmCddmXye",
        "outputId": "ce774785-0493-4c62-badd-b6dda40aacfc"
      },
      "execution_count": 138,
      "outputs": [
        {
          "output_type": "stream",
          "name": "stdout",
          "text": [
            "Traceback (most recent call last):\n",
            "  File \"/content/project_TransUNet/project_TransUNet/TransUNet/train.py\", line 97, in <module>\n",
            "    trainer[dataset_name](args, net, snapshot_path)\n",
            "  File \"/content/project_TransUNet/project_TransUNet/TransUNet/trainer.py\", line 19, in trainer_synapse\n",
            "    from TransUNet.datasets.dataset_synapse import Synapse_dataset, RandomGenerator\n",
            "ModuleNotFoundError: No module named 'TransUNet'\n"
          ]
        }
      ]
    },
    {
      "cell_type": "code",
      "source": [
        "!python test.py --dataset Synapse --vit_name R50-ViT-B_16"
      ],
      "metadata": {
        "colab": {
          "base_uri": "https://localhost:8080/"
        },
        "id": "TgdQma4wmbk0",
        "outputId": "ee0c3f76-9255-4fce-940a-1193b0fab71f"
      },
      "execution_count": 101,
      "outputs": [
        {
          "output_type": "stream",
          "name": "stdout",
          "text": [
            "python3: can't open file '/content/test.py': [Errno 2] No such file or directory\n"
          ]
        }
      ]
    },
    {
      "cell_type": "code",
      "source": [
        "import shutil\n",
        "from google.colab import files\n",
        "\n",
        "# Path to your project folder\n",
        "project_path = \"/content/project_TransUNet\"\n",
        "\n",
        "# Create a zip archive\n",
        "shutil.make_archive(\"/content/project_TransUNet_modified\", 'zip', project_path)\n",
        "\n",
        "# Download it\n",
        "files.download(\"/content/project_TransUNet_modified.zip\")"
      ],
      "metadata": {
        "colab": {
          "base_uri": "https://localhost:8080/",
          "height": 17
        },
        "id": "y-yM6JAI0Dub",
        "outputId": "0c21a793-ac92-4638-ce27-5027446b78db"
      },
      "execution_count": 159,
      "outputs": [
        {
          "output_type": "display_data",
          "data": {
            "text/plain": [
              "<IPython.core.display.Javascript object>"
            ],
            "application/javascript": [
              "\n",
              "    async function download(id, filename, size) {\n",
              "      if (!google.colab.kernel.accessAllowed) {\n",
              "        return;\n",
              "      }\n",
              "      const div = document.createElement('div');\n",
              "      const label = document.createElement('label');\n",
              "      label.textContent = `Downloading \"${filename}\": `;\n",
              "      div.appendChild(label);\n",
              "      const progress = document.createElement('progress');\n",
              "      progress.max = size;\n",
              "      div.appendChild(progress);\n",
              "      document.body.appendChild(div);\n",
              "\n",
              "      const buffers = [];\n",
              "      let downloaded = 0;\n",
              "\n",
              "      const channel = await google.colab.kernel.comms.open(id);\n",
              "      // Send a message to notify the kernel that we're ready.\n",
              "      channel.send({})\n",
              "\n",
              "      for await (const message of channel.messages) {\n",
              "        // Send a message to notify the kernel that we're ready.\n",
              "        channel.send({})\n",
              "        if (message.buffers) {\n",
              "          for (const buffer of message.buffers) {\n",
              "            buffers.push(buffer);\n",
              "            downloaded += buffer.byteLength;\n",
              "            progress.value = downloaded;\n",
              "          }\n",
              "        }\n",
              "      }\n",
              "      const blob = new Blob(buffers, {type: 'application/binary'});\n",
              "      const a = document.createElement('a');\n",
              "      a.href = window.URL.createObjectURL(blob);\n",
              "      a.download = filename;\n",
              "      div.appendChild(a);\n",
              "      a.click();\n",
              "      div.remove();\n",
              "    }\n",
              "  "
            ]
          },
          "metadata": {}
        },
        {
          "output_type": "display_data",
          "data": {
            "text/plain": [
              "<IPython.core.display.Javascript object>"
            ],
            "application/javascript": [
              "download(\"download_fa1033d1-5e83-43ce-826a-0dc7971460a6\", \"project_TransUNet_modified.zip\", 976835237)"
            ]
          },
          "metadata": {}
        }
      ]
    }
  ]
}