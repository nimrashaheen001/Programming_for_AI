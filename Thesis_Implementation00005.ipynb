{
  "nbformat": 4,
  "nbformat_minor": 0,
  "metadata": {
    "colab": {
      "provenance": [],
      "gpuType": "T4",
      "authorship_tag": "ABX9TyO7ByC5/ucJXME/31VZpPuJ",
      "include_colab_link": true
    },
    "kernelspec": {
      "name": "python3",
      "display_name": "Python 3"
    },
    "language_info": {
      "name": "python"
    },
    "accelerator": "GPU",
    "widgets": {
      "application/vnd.jupyter.widget-state+json": {
        "ae39900390754faba2965d62cce1daf6": {
          "model_module": "@jupyter-widgets/controls",
          "model_name": "HBoxModel",
          "model_module_version": "1.5.0",
          "state": {
            "_dom_classes": [],
            "_model_module": "@jupyter-widgets/controls",
            "_model_module_version": "1.5.0",
            "_model_name": "HBoxModel",
            "_view_count": null,
            "_view_module": "@jupyter-widgets/controls",
            "_view_module_version": "1.5.0",
            "_view_name": "HBoxView",
            "box_style": "",
            "children": [
              "IPY_MODEL_f1c08ed88d364824aab8757c9338b55c",
              "IPY_MODEL_f578e5ebab6d4cd2aa2e93844fd8c90c",
              "IPY_MODEL_91df39d087fe453db61e876a863e5f1f"
            ],
            "layout": "IPY_MODEL_de6f84fe633d492a89bd2ccab566f7b8"
          }
        },
        "f1c08ed88d364824aab8757c9338b55c": {
          "model_module": "@jupyter-widgets/controls",
          "model_name": "HTMLModel",
          "model_module_version": "1.5.0",
          "state": {
            "_dom_classes": [],
            "_model_module": "@jupyter-widgets/controls",
            "_model_module_version": "1.5.0",
            "_model_name": "HTMLModel",
            "_view_count": null,
            "_view_module": "@jupyter-widgets/controls",
            "_view_module_version": "1.5.0",
            "_view_name": "HTMLView",
            "description": "",
            "description_tooltip": null,
            "layout": "IPY_MODEL_ec882351c8624f109ad5657bf433cc53",
            "placeholder": "​",
            "style": "IPY_MODEL_4ce6f50f56c64ecf8644dbbbaf526ebb",
            "value": "model.safetensors: 100%"
          }
        },
        "f578e5ebab6d4cd2aa2e93844fd8c90c": {
          "model_module": "@jupyter-widgets/controls",
          "model_name": "FloatProgressModel",
          "model_module_version": "1.5.0",
          "state": {
            "_dom_classes": [],
            "_model_module": "@jupyter-widgets/controls",
            "_model_module_version": "1.5.0",
            "_model_name": "FloatProgressModel",
            "_view_count": null,
            "_view_module": "@jupyter-widgets/controls",
            "_view_module_version": "1.5.0",
            "_view_name": "ProgressView",
            "bar_style": "success",
            "description": "",
            "description_tooltip": null,
            "layout": "IPY_MODEL_63875d252aed4d2e911730d49f9889b9",
            "max": 346284714,
            "min": 0,
            "orientation": "horizontal",
            "style": "IPY_MODEL_a21e841ad78b41539b6199828957bb21",
            "value": 346284714
          }
        },
        "91df39d087fe453db61e876a863e5f1f": {
          "model_module": "@jupyter-widgets/controls",
          "model_name": "HTMLModel",
          "model_module_version": "1.5.0",
          "state": {
            "_dom_classes": [],
            "_model_module": "@jupyter-widgets/controls",
            "_model_module_version": "1.5.0",
            "_model_name": "HTMLModel",
            "_view_count": null,
            "_view_module": "@jupyter-widgets/controls",
            "_view_module_version": "1.5.0",
            "_view_name": "HTMLView",
            "description": "",
            "description_tooltip": null,
            "layout": "IPY_MODEL_37eac0ce111a4978a6f7c7cdfdce805d",
            "placeholder": "​",
            "style": "IPY_MODEL_3e9b8e27dcd4426da6e13d5700f9da83",
            "value": " 346M/346M [00:03&lt;00:00, 68.9MB/s]"
          }
        },
        "de6f84fe633d492a89bd2ccab566f7b8": {
          "model_module": "@jupyter-widgets/base",
          "model_name": "LayoutModel",
          "model_module_version": "1.2.0",
          "state": {
            "_model_module": "@jupyter-widgets/base",
            "_model_module_version": "1.2.0",
            "_model_name": "LayoutModel",
            "_view_count": null,
            "_view_module": "@jupyter-widgets/base",
            "_view_module_version": "1.2.0",
            "_view_name": "LayoutView",
            "align_content": null,
            "align_items": null,
            "align_self": null,
            "border": null,
            "bottom": null,
            "display": null,
            "flex": null,
            "flex_flow": null,
            "grid_area": null,
            "grid_auto_columns": null,
            "grid_auto_flow": null,
            "grid_auto_rows": null,
            "grid_column": null,
            "grid_gap": null,
            "grid_row": null,
            "grid_template_areas": null,
            "grid_template_columns": null,
            "grid_template_rows": null,
            "height": null,
            "justify_content": null,
            "justify_items": null,
            "left": null,
            "margin": null,
            "max_height": null,
            "max_width": null,
            "min_height": null,
            "min_width": null,
            "object_fit": null,
            "object_position": null,
            "order": null,
            "overflow": null,
            "overflow_x": null,
            "overflow_y": null,
            "padding": null,
            "right": null,
            "top": null,
            "visibility": null,
            "width": null
          }
        },
        "ec882351c8624f109ad5657bf433cc53": {
          "model_module": "@jupyter-widgets/base",
          "model_name": "LayoutModel",
          "model_module_version": "1.2.0",
          "state": {
            "_model_module": "@jupyter-widgets/base",
            "_model_module_version": "1.2.0",
            "_model_name": "LayoutModel",
            "_view_count": null,
            "_view_module": "@jupyter-widgets/base",
            "_view_module_version": "1.2.0",
            "_view_name": "LayoutView",
            "align_content": null,
            "align_items": null,
            "align_self": null,
            "border": null,
            "bottom": null,
            "display": null,
            "flex": null,
            "flex_flow": null,
            "grid_area": null,
            "grid_auto_columns": null,
            "grid_auto_flow": null,
            "grid_auto_rows": null,
            "grid_column": null,
            "grid_gap": null,
            "grid_row": null,
            "grid_template_areas": null,
            "grid_template_columns": null,
            "grid_template_rows": null,
            "height": null,
            "justify_content": null,
            "justify_items": null,
            "left": null,
            "margin": null,
            "max_height": null,
            "max_width": null,
            "min_height": null,
            "min_width": null,
            "object_fit": null,
            "object_position": null,
            "order": null,
            "overflow": null,
            "overflow_x": null,
            "overflow_y": null,
            "padding": null,
            "right": null,
            "top": null,
            "visibility": null,
            "width": null
          }
        },
        "4ce6f50f56c64ecf8644dbbbaf526ebb": {
          "model_module": "@jupyter-widgets/controls",
          "model_name": "DescriptionStyleModel",
          "model_module_version": "1.5.0",
          "state": {
            "_model_module": "@jupyter-widgets/controls",
            "_model_module_version": "1.5.0",
            "_model_name": "DescriptionStyleModel",
            "_view_count": null,
            "_view_module": "@jupyter-widgets/base",
            "_view_module_version": "1.2.0",
            "_view_name": "StyleView",
            "description_width": ""
          }
        },
        "63875d252aed4d2e911730d49f9889b9": {
          "model_module": "@jupyter-widgets/base",
          "model_name": "LayoutModel",
          "model_module_version": "1.2.0",
          "state": {
            "_model_module": "@jupyter-widgets/base",
            "_model_module_version": "1.2.0",
            "_model_name": "LayoutModel",
            "_view_count": null,
            "_view_module": "@jupyter-widgets/base",
            "_view_module_version": "1.2.0",
            "_view_name": "LayoutView",
            "align_content": null,
            "align_items": null,
            "align_self": null,
            "border": null,
            "bottom": null,
            "display": null,
            "flex": null,
            "flex_flow": null,
            "grid_area": null,
            "grid_auto_columns": null,
            "grid_auto_flow": null,
            "grid_auto_rows": null,
            "grid_column": null,
            "grid_gap": null,
            "grid_row": null,
            "grid_template_areas": null,
            "grid_template_columns": null,
            "grid_template_rows": null,
            "height": null,
            "justify_content": null,
            "justify_items": null,
            "left": null,
            "margin": null,
            "max_height": null,
            "max_width": null,
            "min_height": null,
            "min_width": null,
            "object_fit": null,
            "object_position": null,
            "order": null,
            "overflow": null,
            "overflow_x": null,
            "overflow_y": null,
            "padding": null,
            "right": null,
            "top": null,
            "visibility": null,
            "width": null
          }
        },
        "a21e841ad78b41539b6199828957bb21": {
          "model_module": "@jupyter-widgets/controls",
          "model_name": "ProgressStyleModel",
          "model_module_version": "1.5.0",
          "state": {
            "_model_module": "@jupyter-widgets/controls",
            "_model_module_version": "1.5.0",
            "_model_name": "ProgressStyleModel",
            "_view_count": null,
            "_view_module": "@jupyter-widgets/base",
            "_view_module_version": "1.2.0",
            "_view_name": "StyleView",
            "bar_color": null,
            "description_width": ""
          }
        },
        "37eac0ce111a4978a6f7c7cdfdce805d": {
          "model_module": "@jupyter-widgets/base",
          "model_name": "LayoutModel",
          "model_module_version": "1.2.0",
          "state": {
            "_model_module": "@jupyter-widgets/base",
            "_model_module_version": "1.2.0",
            "_model_name": "LayoutModel",
            "_view_count": null,
            "_view_module": "@jupyter-widgets/base",
            "_view_module_version": "1.2.0",
            "_view_name": "LayoutView",
            "align_content": null,
            "align_items": null,
            "align_self": null,
            "border": null,
            "bottom": null,
            "display": null,
            "flex": null,
            "flex_flow": null,
            "grid_area": null,
            "grid_auto_columns": null,
            "grid_auto_flow": null,
            "grid_auto_rows": null,
            "grid_column": null,
            "grid_gap": null,
            "grid_row": null,
            "grid_template_areas": null,
            "grid_template_columns": null,
            "grid_template_rows": null,
            "height": null,
            "justify_content": null,
            "justify_items": null,
            "left": null,
            "margin": null,
            "max_height": null,
            "max_width": null,
            "min_height": null,
            "min_width": null,
            "object_fit": null,
            "object_position": null,
            "order": null,
            "overflow": null,
            "overflow_x": null,
            "overflow_y": null,
            "padding": null,
            "right": null,
            "top": null,
            "visibility": null,
            "width": null
          }
        },
        "3e9b8e27dcd4426da6e13d5700f9da83": {
          "model_module": "@jupyter-widgets/controls",
          "model_name": "DescriptionStyleModel",
          "model_module_version": "1.5.0",
          "state": {
            "_model_module": "@jupyter-widgets/controls",
            "_model_module_version": "1.5.0",
            "_model_name": "DescriptionStyleModel",
            "_view_count": null,
            "_view_module": "@jupyter-widgets/base",
            "_view_module_version": "1.2.0",
            "_view_name": "StyleView",
            "description_width": ""
          }
        }
      }
    }
  },
  "cells": [
    {
      "cell_type": "markdown",
      "metadata": {
        "id": "view-in-github",
        "colab_type": "text"
      },
      "source": [
        "<a href=\"https://colab.research.google.com/github/nimrashaheen001/Programming_for_AI/blob/main/Thesis_Implementation00005.ipynb\" target=\"_parent\"><img src=\"https://colab.research.google.com/assets/colab-badge.svg\" alt=\"Open In Colab\"/></a>"
      ]
    },
    {
      "cell_type": "code",
      "execution_count": null,
      "metadata": {
        "colab": {
          "base_uri": "https://localhost:8080/"
        },
        "id": "GhLicRwbsNm_",
        "outputId": "3ca1fcaa-ecd1-4073-f2bb-2c75e070b840"
      },
      "outputs": [
        {
          "output_type": "stream",
          "name": "stdout",
          "text": [
            "Collecting pytorch-tabnet\n",
            "  Downloading pytorch_tabnet-4.1.0-py3-none-any.whl.metadata (15 kB)\n",
            "Requirement already satisfied: numpy>=1.17 in /usr/local/lib/python3.11/dist-packages (from pytorch-tabnet) (2.0.2)\n",
            "Requirement already satisfied: scikit_learn>0.21 in /usr/local/lib/python3.11/dist-packages (from pytorch-tabnet) (1.6.1)\n",
            "Requirement already satisfied: scipy>1.4 in /usr/local/lib/python3.11/dist-packages (from pytorch-tabnet) (1.16.1)\n",
            "Requirement already satisfied: torch>=1.3 in /usr/local/lib/python3.11/dist-packages (from pytorch-tabnet) (2.6.0+cu124)\n",
            "Requirement already satisfied: tqdm>=4.36 in /usr/local/lib/python3.11/dist-packages (from pytorch-tabnet) (4.67.1)\n",
            "Requirement already satisfied: joblib>=1.2.0 in /usr/local/lib/python3.11/dist-packages (from scikit_learn>0.21->pytorch-tabnet) (1.5.1)\n",
            "Requirement already satisfied: threadpoolctl>=3.1.0 in /usr/local/lib/python3.11/dist-packages (from scikit_learn>0.21->pytorch-tabnet) (3.6.0)\n",
            "Requirement already satisfied: filelock in /usr/local/lib/python3.11/dist-packages (from torch>=1.3->pytorch-tabnet) (3.18.0)\n",
            "Requirement already satisfied: typing-extensions>=4.10.0 in /usr/local/lib/python3.11/dist-packages (from torch>=1.3->pytorch-tabnet) (4.14.1)\n",
            "Requirement already satisfied: networkx in /usr/local/lib/python3.11/dist-packages (from torch>=1.3->pytorch-tabnet) (3.5)\n",
            "Requirement already satisfied: jinja2 in /usr/local/lib/python3.11/dist-packages (from torch>=1.3->pytorch-tabnet) (3.1.6)\n",
            "Requirement already satisfied: fsspec in /usr/local/lib/python3.11/dist-packages (from torch>=1.3->pytorch-tabnet) (2025.3.0)\n",
            "Collecting nvidia-cuda-nvrtc-cu12==12.4.127 (from torch>=1.3->pytorch-tabnet)\n",
            "  Downloading nvidia_cuda_nvrtc_cu12-12.4.127-py3-none-manylinux2014_x86_64.whl.metadata (1.5 kB)\n",
            "Collecting nvidia-cuda-runtime-cu12==12.4.127 (from torch>=1.3->pytorch-tabnet)\n",
            "  Downloading nvidia_cuda_runtime_cu12-12.4.127-py3-none-manylinux2014_x86_64.whl.metadata (1.5 kB)\n",
            "Collecting nvidia-cuda-cupti-cu12==12.4.127 (from torch>=1.3->pytorch-tabnet)\n",
            "  Downloading nvidia_cuda_cupti_cu12-12.4.127-py3-none-manylinux2014_x86_64.whl.metadata (1.6 kB)\n",
            "Collecting nvidia-cudnn-cu12==9.1.0.70 (from torch>=1.3->pytorch-tabnet)\n",
            "  Downloading nvidia_cudnn_cu12-9.1.0.70-py3-none-manylinux2014_x86_64.whl.metadata (1.6 kB)\n",
            "Collecting nvidia-cublas-cu12==12.4.5.8 (from torch>=1.3->pytorch-tabnet)\n",
            "  Downloading nvidia_cublas_cu12-12.4.5.8-py3-none-manylinux2014_x86_64.whl.metadata (1.5 kB)\n",
            "Collecting nvidia-cufft-cu12==11.2.1.3 (from torch>=1.3->pytorch-tabnet)\n",
            "  Downloading nvidia_cufft_cu12-11.2.1.3-py3-none-manylinux2014_x86_64.whl.metadata (1.5 kB)\n",
            "Collecting nvidia-curand-cu12==10.3.5.147 (from torch>=1.3->pytorch-tabnet)\n",
            "  Downloading nvidia_curand_cu12-10.3.5.147-py3-none-manylinux2014_x86_64.whl.metadata (1.5 kB)\n",
            "Collecting nvidia-cusolver-cu12==11.6.1.9 (from torch>=1.3->pytorch-tabnet)\n",
            "  Downloading nvidia_cusolver_cu12-11.6.1.9-py3-none-manylinux2014_x86_64.whl.metadata (1.6 kB)\n",
            "Collecting nvidia-cusparse-cu12==12.3.1.170 (from torch>=1.3->pytorch-tabnet)\n",
            "  Downloading nvidia_cusparse_cu12-12.3.1.170-py3-none-manylinux2014_x86_64.whl.metadata (1.6 kB)\n",
            "Requirement already satisfied: nvidia-cusparselt-cu12==0.6.2 in /usr/local/lib/python3.11/dist-packages (from torch>=1.3->pytorch-tabnet) (0.6.2)\n",
            "Collecting nvidia-nccl-cu12==2.21.5 (from torch>=1.3->pytorch-tabnet)\n",
            "  Downloading nvidia_nccl_cu12-2.21.5-py3-none-manylinux2014_x86_64.whl.metadata (1.8 kB)\n",
            "Requirement already satisfied: nvidia-nvtx-cu12==12.4.127 in /usr/local/lib/python3.11/dist-packages (from torch>=1.3->pytorch-tabnet) (12.4.127)\n",
            "Collecting nvidia-nvjitlink-cu12==12.4.127 (from torch>=1.3->pytorch-tabnet)\n",
            "  Downloading nvidia_nvjitlink_cu12-12.4.127-py3-none-manylinux2014_x86_64.whl.metadata (1.5 kB)\n",
            "Requirement already satisfied: triton==3.2.0 in /usr/local/lib/python3.11/dist-packages (from torch>=1.3->pytorch-tabnet) (3.2.0)\n",
            "Requirement already satisfied: sympy==1.13.1 in /usr/local/lib/python3.11/dist-packages (from torch>=1.3->pytorch-tabnet) (1.13.1)\n",
            "Requirement already satisfied: mpmath<1.4,>=1.1.0 in /usr/local/lib/python3.11/dist-packages (from sympy==1.13.1->torch>=1.3->pytorch-tabnet) (1.3.0)\n",
            "Requirement already satisfied: MarkupSafe>=2.0 in /usr/local/lib/python3.11/dist-packages (from jinja2->torch>=1.3->pytorch-tabnet) (3.0.2)\n",
            "Downloading pytorch_tabnet-4.1.0-py3-none-any.whl (44 kB)\n",
            "\u001b[2K   \u001b[90m━━━━━━━━━━━━━━━━━━━━━━━━━━━━━━━━━━━━━━━━\u001b[0m \u001b[32m44.5/44.5 kB\u001b[0m \u001b[31m1.9 MB/s\u001b[0m eta \u001b[36m0:00:00\u001b[0m\n",
            "\u001b[?25hDownloading nvidia_cublas_cu12-12.4.5.8-py3-none-manylinux2014_x86_64.whl (363.4 MB)\n",
            "\u001b[2K   \u001b[90m━━━━━━━━━━━━━━━━━━━━━━━━━━━━━━━━━━━━━━━━\u001b[0m \u001b[32m363.4/363.4 MB\u001b[0m \u001b[31m1.6 MB/s\u001b[0m eta \u001b[36m0:00:00\u001b[0m\n",
            "\u001b[?25hDownloading nvidia_cuda_cupti_cu12-12.4.127-py3-none-manylinux2014_x86_64.whl (13.8 MB)\n",
            "\u001b[2K   \u001b[90m━━━━━━━━━━━━━━━━━━━━━━━━━━━━━━━━━━━━━━━━\u001b[0m \u001b[32m13.8/13.8 MB\u001b[0m \u001b[31m103.7 MB/s\u001b[0m eta \u001b[36m0:00:00\u001b[0m\n",
            "\u001b[?25hDownloading nvidia_cuda_nvrtc_cu12-12.4.127-py3-none-manylinux2014_x86_64.whl (24.6 MB)\n",
            "\u001b[2K   \u001b[90m━━━━━━━━━━━━━━━━━━━━━━━━━━━━━━━━━━━━━━━━\u001b[0m \u001b[32m24.6/24.6 MB\u001b[0m \u001b[31m95.2 MB/s\u001b[0m eta \u001b[36m0:00:00\u001b[0m\n",
            "\u001b[?25hDownloading nvidia_cuda_runtime_cu12-12.4.127-py3-none-manylinux2014_x86_64.whl (883 kB)\n",
            "\u001b[2K   \u001b[90m━━━━━━━━━━━━━━━━━━━━━━━━━━━━━━━━━━━━━━━━\u001b[0m \u001b[32m883.7/883.7 kB\u001b[0m \u001b[31m33.6 MB/s\u001b[0m eta \u001b[36m0:00:00\u001b[0m\n",
            "\u001b[?25hDownloading nvidia_cudnn_cu12-9.1.0.70-py3-none-manylinux2014_x86_64.whl (664.8 MB)\n",
            "\u001b[2K   \u001b[90m━━━━━━━━━━━━━━━━━━━━━━━━━━━━━━━━━━━━━━━━\u001b[0m \u001b[32m664.8/664.8 MB\u001b[0m \u001b[31m2.7 MB/s\u001b[0m eta \u001b[36m0:00:00\u001b[0m\n",
            "\u001b[?25hDownloading nvidia_cufft_cu12-11.2.1.3-py3-none-manylinux2014_x86_64.whl (211.5 MB)\n",
            "\u001b[2K   \u001b[90m━━━━━━━━━━━━━━━━━━━━━━━━━━━━━━━━━━━━━━━━\u001b[0m \u001b[32m211.5/211.5 MB\u001b[0m \u001b[31m5.3 MB/s\u001b[0m eta \u001b[36m0:00:00\u001b[0m\n",
            "\u001b[?25hDownloading nvidia_curand_cu12-10.3.5.147-py3-none-manylinux2014_x86_64.whl (56.3 MB)\n",
            "\u001b[2K   \u001b[90m━━━━━━━━━━━━━━━━━━━━━━━━━━━━━━━━━━━━━━━━\u001b[0m \u001b[32m56.3/56.3 MB\u001b[0m \u001b[31m12.5 MB/s\u001b[0m eta \u001b[36m0:00:00\u001b[0m\n",
            "\u001b[?25hDownloading nvidia_cusolver_cu12-11.6.1.9-py3-none-manylinux2014_x86_64.whl (127.9 MB)\n",
            "\u001b[2K   \u001b[90m━━━━━━━━━━━━━━━━━━━━━━━━━━━━━━━━━━━━━━━━\u001b[0m \u001b[32m127.9/127.9 MB\u001b[0m \u001b[31m7.7 MB/s\u001b[0m eta \u001b[36m0:00:00\u001b[0m\n",
            "\u001b[?25hDownloading nvidia_cusparse_cu12-12.3.1.170-py3-none-manylinux2014_x86_64.whl (207.5 MB)\n",
            "\u001b[2K   \u001b[90m━━━━━━━━━━━━━━━━━━━━━━━━━━━━━━━━━━━━━━━━\u001b[0m \u001b[32m207.5/207.5 MB\u001b[0m \u001b[31m5.4 MB/s\u001b[0m eta \u001b[36m0:00:00\u001b[0m\n",
            "\u001b[?25hDownloading nvidia_nccl_cu12-2.21.5-py3-none-manylinux2014_x86_64.whl (188.7 MB)\n",
            "\u001b[2K   \u001b[90m━━━━━━━━━━━━━━━━━━━━━━━━━━━━━━━━━━━━━━━━\u001b[0m \u001b[32m188.7/188.7 MB\u001b[0m \u001b[31m5.9 MB/s\u001b[0m eta \u001b[36m0:00:00\u001b[0m\n",
            "\u001b[?25hDownloading nvidia_nvjitlink_cu12-12.4.127-py3-none-manylinux2014_x86_64.whl (21.1 MB)\n",
            "\u001b[2K   \u001b[90m━━━━━━━━━━━━━━━━━━━━━━━━━━━━━━━━━━━━━━━━\u001b[0m \u001b[32m21.1/21.1 MB\u001b[0m \u001b[31m84.6 MB/s\u001b[0m eta \u001b[36m0:00:00\u001b[0m\n",
            "\u001b[?25hInstalling collected packages: nvidia-nvjitlink-cu12, nvidia-nccl-cu12, nvidia-curand-cu12, nvidia-cufft-cu12, nvidia-cuda-runtime-cu12, nvidia-cuda-nvrtc-cu12, nvidia-cuda-cupti-cu12, nvidia-cublas-cu12, nvidia-cusparse-cu12, nvidia-cudnn-cu12, nvidia-cusolver-cu12, pytorch-tabnet\n",
            "  Attempting uninstall: nvidia-nvjitlink-cu12\n",
            "    Found existing installation: nvidia-nvjitlink-cu12 12.5.82\n",
            "    Uninstalling nvidia-nvjitlink-cu12-12.5.82:\n",
            "      Successfully uninstalled nvidia-nvjitlink-cu12-12.5.82\n",
            "  Attempting uninstall: nvidia-nccl-cu12\n",
            "    Found existing installation: nvidia-nccl-cu12 2.23.4\n",
            "    Uninstalling nvidia-nccl-cu12-2.23.4:\n",
            "      Successfully uninstalled nvidia-nccl-cu12-2.23.4\n",
            "  Attempting uninstall: nvidia-curand-cu12\n",
            "    Found existing installation: nvidia-curand-cu12 10.3.6.82\n",
            "    Uninstalling nvidia-curand-cu12-10.3.6.82:\n",
            "      Successfully uninstalled nvidia-curand-cu12-10.3.6.82\n",
            "  Attempting uninstall: nvidia-cufft-cu12\n",
            "    Found existing installation: nvidia-cufft-cu12 11.2.3.61\n",
            "    Uninstalling nvidia-cufft-cu12-11.2.3.61:\n",
            "      Successfully uninstalled nvidia-cufft-cu12-11.2.3.61\n",
            "  Attempting uninstall: nvidia-cuda-runtime-cu12\n",
            "    Found existing installation: nvidia-cuda-runtime-cu12 12.5.82\n",
            "    Uninstalling nvidia-cuda-runtime-cu12-12.5.82:\n",
            "      Successfully uninstalled nvidia-cuda-runtime-cu12-12.5.82\n",
            "  Attempting uninstall: nvidia-cuda-nvrtc-cu12\n",
            "    Found existing installation: nvidia-cuda-nvrtc-cu12 12.5.82\n",
            "    Uninstalling nvidia-cuda-nvrtc-cu12-12.5.82:\n",
            "      Successfully uninstalled nvidia-cuda-nvrtc-cu12-12.5.82\n",
            "  Attempting uninstall: nvidia-cuda-cupti-cu12\n",
            "    Found existing installation: nvidia-cuda-cupti-cu12 12.5.82\n",
            "    Uninstalling nvidia-cuda-cupti-cu12-12.5.82:\n",
            "      Successfully uninstalled nvidia-cuda-cupti-cu12-12.5.82\n",
            "  Attempting uninstall: nvidia-cublas-cu12\n",
            "    Found existing installation: nvidia-cublas-cu12 12.5.3.2\n",
            "    Uninstalling nvidia-cublas-cu12-12.5.3.2:\n",
            "      Successfully uninstalled nvidia-cublas-cu12-12.5.3.2\n",
            "  Attempting uninstall: nvidia-cusparse-cu12\n",
            "    Found existing installation: nvidia-cusparse-cu12 12.5.1.3\n",
            "    Uninstalling nvidia-cusparse-cu12-12.5.1.3:\n",
            "      Successfully uninstalled nvidia-cusparse-cu12-12.5.1.3\n",
            "  Attempting uninstall: nvidia-cudnn-cu12\n",
            "    Found existing installation: nvidia-cudnn-cu12 9.3.0.75\n",
            "    Uninstalling nvidia-cudnn-cu12-9.3.0.75:\n",
            "      Successfully uninstalled nvidia-cudnn-cu12-9.3.0.75\n",
            "  Attempting uninstall: nvidia-cusolver-cu12\n",
            "    Found existing installation: nvidia-cusolver-cu12 11.6.3.83\n",
            "    Uninstalling nvidia-cusolver-cu12-11.6.3.83:\n",
            "      Successfully uninstalled nvidia-cusolver-cu12-11.6.3.83\n",
            "Successfully installed nvidia-cublas-cu12-12.4.5.8 nvidia-cuda-cupti-cu12-12.4.127 nvidia-cuda-nvrtc-cu12-12.4.127 nvidia-cuda-runtime-cu12-12.4.127 nvidia-cudnn-cu12-9.1.0.70 nvidia-cufft-cu12-11.2.1.3 nvidia-curand-cu12-10.3.5.147 nvidia-cusolver-cu12-11.6.1.9 nvidia-cusparse-cu12-12.3.1.170 nvidia-nccl-cu12-2.21.5 nvidia-nvjitlink-cu12-12.4.127 pytorch-tabnet-4.1.0\n"
          ]
        }
      ],
      "source": [
        "pip install pytorch-tabnet"
      ]
    },
    {
      "cell_type": "code",
      "source": [],
      "metadata": {
        "id": "rFj5_rSgt_fk"
      },
      "execution_count": null,
      "outputs": []
    },
    {
      "cell_type": "code",
      "source": [
        "# =========================================================\n",
        "# TabNet Notebook for Alzheimer's Clinical Data (Multiclass AUC + Bug Fixes)\n",
        "# =========================================================\n",
        "\n",
        "# 0) Install and imports\n",
        "try:\n",
        "    from pytorch_tabnet.tab_model import TabNetClassifier\n",
        "except Exception:\n",
        "    !pip install pytorch-tabnet -q\n",
        "    from pytorch_tabnet.tab_model import TabNetClassifier\n",
        "\n",
        "import os\n",
        "import numpy as np\n",
        "import pandas as pd\n",
        "from sklearn.preprocessing import LabelEncoder\n",
        "from sklearn.model_selection import train_test_split\n",
        "from sklearn.metrics import roc_auc_score, accuracy_score\n",
        "from pytorch_tabnet.metrics import Metric\n",
        "import torch\n",
        "import matplotlib.pyplot as plt\n",
        "%matplotlib inline\n",
        "\n",
        "# 1) Config\n",
        "CSV_PATH = \"/content/tabular.csv\"\n",
        "TARGET_COL = \"class\"\n",
        "ID_COL = \"ImageID\"\n",
        "TEST_SIZE = 0.15\n",
        "VALID_SIZE = 0.10\n",
        "RANDOM_STATE = 42\n",
        "TOP_K_FEATURES = 10\n",
        "\n",
        "# 2) Load data\n",
        "df = pd.read_csv(CSV_PATH)\n",
        "print(\"CSV loaded:\", CSV_PATH)\n",
        "print(\"Shape:\", df.shape)\n",
        "print(\"Columns:\", list(df.columns))\n",
        "\n",
        "if TARGET_COL not in df.columns:\n",
        "    raise ValueError(f\"Target column '{TARGET_COL}' not found.\")\n",
        "\n",
        "# 3) Preprocess\n",
        "nunique = df.nunique(dropna=False)\n",
        "types = df.dtypes\n",
        "exclude_cols = [ID_COL, TARGET_COL] if ID_COL in df.columns else [TARGET_COL]\n",
        "features = [c for c in df.columns if c not in exclude_cols]\n",
        "\n",
        "categorical_columns = []\n",
        "categorical_dims = {}\n",
        "for col in features:\n",
        "    if types[col] == 'object' or nunique[col] < 200:\n",
        "        categorical_columns.append(col)\n",
        "        df[col] = df[col].fillna(\"NA_VALUE\")\n",
        "        le = LabelEncoder()\n",
        "        df[col] = le.fit_transform(df[col].astype(str))\n",
        "        categorical_dims[col] = len(le.classes_)\n",
        "    else:\n",
        "        df[col] = df[col].fillna(df[col].mean())\n",
        "\n",
        "print(\"Categorical columns:\", categorical_columns)\n",
        "\n",
        "# 4) Prepare arrays\n",
        "X = df[features].values\n",
        "y_raw = df[TARGET_COL].values\n",
        "if y_raw.dtype == object or y_raw.dtype == 'O' or not np.issubdtype(y_raw.dtype, np.number):\n",
        "    le_target = LabelEncoder()\n",
        "    y = le_target.fit_transform(y_raw.astype(str))\n",
        "    print(\"Target classes:\", list(le_target.classes_))\n",
        "else:\n",
        "    y = y_raw.astype(int)\n",
        "\n",
        "# 5) Split data\n",
        "X_tmp, X_test, y_tmp, y_test, idx_tmp, idx_test = train_test_split(\n",
        "    X, y, df.index.values, test_size=TEST_SIZE, random_state=RANDOM_STATE, stratify=y\n",
        ")\n",
        "valid_relative = VALID_SIZE / (1 - TEST_SIZE)\n",
        "X_train, X_valid, y_train, y_valid, idx_train, idx_valid = train_test_split(\n",
        "    X_tmp, y_tmp, idx_tmp, test_size=valid_relative, random_state=RANDOM_STATE, stratify=y_tmp\n",
        ")\n",
        "\n",
        "print(\"Train/Valid/Test sizes:\", X_train.shape[0], X_valid.shape[0], X_test.shape[0])\n",
        "\n",
        "# 6) TabNet cat_idxs/dims\n",
        "ordered_features = features\n",
        "cat_idxs = [i for i, f in enumerate(ordered_features) if f in categorical_columns]\n",
        "cat_dims = [categorical_dims[f] for f in ordered_features if f in categorical_columns]\n",
        "print(\"cat_idxs:\", cat_idxs)\n",
        "print(\"cat_dims:\", cat_dims)\n",
        "\n",
        "# 7) MacroAUC metric class\n",
        "class MacroAUC(Metric):\n",
        "    def __init__(self):\n",
        "        self._name = \"macro_auc\"\n",
        "        self._maximize = True\n",
        "    def __call__(self, y_true, y_score):\n",
        "        from sklearn.preprocessing import label_binarize\n",
        "        y_true = y_true.astype(int)\n",
        "        y_true_bin = label_binarize(y_true, classes=np.arange(y_score.shape[1]))\n",
        "        return roc_auc_score(y_true_bin, y_score, average=\"macro\", multi_class=\"ovr\")\n",
        "\n",
        "# 8) TabNet model\n",
        "max_epochs = 200\n",
        "batch_size = 256\n",
        "clf = TabNetClassifier(\n",
        "    cat_idxs=cat_idxs,\n",
        "    cat_dims=cat_dims,\n",
        "    cat_emb_dim=1,\n",
        "    optimizer_fn=torch.optim.Adam,\n",
        "    optimizer_params=dict(lr=2e-2),\n",
        "    scheduler_params={\n",
        "        \"is_batch_level\": True,\n",
        "        \"max_lr\": 5e-2,\n",
        "        \"steps_per_epoch\": int(X_train.shape[0] / batch_size) + 1,\n",
        "        \"epochs\": max_epochs\n",
        "    },\n",
        "    scheduler_fn=torch.optim.lr_scheduler.OneCycleLR,\n",
        "    mask_type='entmax',\n",
        ")\n",
        "\n",
        "# 9) Train\n",
        "clf.fit(\n",
        "    X_train=X_train, y_train=y_train,\n",
        "    eval_set=[(X_train, y_train), (X_valid, y_valid)],\n",
        "    eval_name=['train', 'valid'],\n",
        "    eval_metric=[MacroAUC, 'accuracy'],\n",
        "    max_epochs=max_epochs,\n",
        "    patience=20,\n",
        "    batch_size=batch_size,\n",
        "    virtual_batch_size=64,\n",
        "    num_workers=0,\n",
        "    drop_last=False\n",
        ")\n",
        "\n",
        "# 10) History handling\n",
        "hist_dict = clf.history\n",
        "if hasattr(hist_dict, \"history\"):\n",
        "    hist_dict = hist_dict.history\n",
        "if not isinstance(hist_dict, dict):\n",
        "    hist_dict = dict(hist_dict)\n",
        "\n",
        "plt.figure(figsize=(12, 4))\n",
        "plt.subplot(1, 2, 1)\n",
        "if 'loss' in hist_dict:\n",
        "    plt.plot(hist_dict['loss'])\n",
        "plt.title('Training loss')\n",
        "\n",
        "plt.subplot(1, 2, 2)\n",
        "train_key = 'train_macro_auc'\n",
        "valid_key = 'valid_macro_auc'\n",
        "if train_key in hist_dict and valid_key in hist_dict:\n",
        "    plt.plot(hist_dict[train_key], label=train_key)\n",
        "    plt.plot(hist_dict[valid_key], label=valid_key)\n",
        "plt.legend()\n",
        "plt.show()\n",
        "\n",
        "# 11) Evaluate\n",
        "preds_proba = clf.predict_proba(X_test)\n",
        "from sklearn.preprocessing import label_binarize\n",
        "y_test_bin = label_binarize(y_test, classes=np.arange(preds_proba.shape[1]))\n",
        "test_auc = roc_auc_score(y_test_bin, preds_proba, average='macro', multi_class='ovr')\n",
        "test_preds = clf.predict(X_test)\n",
        "test_acc = accuracy_score(y_test, test_preds)\n",
        "print(\"Test AUC:\", test_auc, \"Test Acc:\", test_acc)\n",
        "\n",
        "# 12) Feature importances\n",
        "feat_importances = clf.feature_importances_\n",
        "feat_df = pd.DataFrame({\"feature\": ordered_features, \"importance\": feat_importances}).sort_values(\"importance\", ascending=False)\n",
        "feat_df.to_csv(\"tabnet_feature_importances.csv\", index=False)\n",
        "print(feat_df.head(20))\n",
        "\n",
        "# Top-k reduced CSV\n",
        "topk = min(TOP_K_FEATURES, len(ordered_features))\n",
        "top_features = feat_df.head(topk)[\"feature\"].tolist()\n",
        "if ID_COL in df.columns:\n",
        "    export_df = df[[ID_COL, TARGET_COL] + top_features]\n",
        "else:\n",
        "    export_df = df[[TARGET_COL] + top_features]\n",
        "export_df.to_csv(f\"tabular_top{topk}_features.csv\", index=False)\n",
        "print(f\"Saved reduced feature CSV with top {topk} features.\")\n",
        "\n",
        "# 13) Local explainability\n",
        "explained = clf.explain(X_test[:50])\n",
        "\n",
        "if isinstance(explained, dict):\n",
        "    masks_dict = explained['masks']\n",
        "    explain_matrix = explained.get('explain_matrix', None)\n",
        "    masks_array = np.stack(list(masks_dict.values()), axis=0)\n",
        "else:\n",
        "    explain_matrix, masks_array = explained\n",
        "    if isinstance(masks_array, dict):\n",
        "        masks_array = np.stack(list(masks_array.values()), axis=0)\n",
        "\n",
        "fig, axs = plt.subplots(1, 3, figsize=(14, 4))\n",
        "for i in range(min(3, masks_array.shape[0])):\n",
        "    axs[i].imshow(masks_array[i][:, :50], aspect='auto')\n",
        "    axs[i].set_title(f\"Sample {i} mask (first 50 features)\")\n",
        "plt.show()\n",
        "\n",
        "# 14) Save model and masks\n",
        "clf.save_model(\"tabnet_adni_model.zip\")\n",
        "masks_avg = masks_array.mean(axis=1)\n",
        "masks_df = pd.DataFrame(masks_avg, columns=ordered_features)\n",
        "masks_df[\"index\"] = idx_test[:masks_df.shape[0]]\n",
        "masks_df.to_csv(\"tabnet_local_masks_test_subset.csv\", index=False)\n",
        "print(\"Saved TabNet model and masks.\")"
      ],
      "metadata": {
        "colab": {
          "base_uri": "https://localhost:8080/",
          "height": 1000
        },
        "id": "vLVEaKfG1dDL",
        "outputId": "7d118953-8edd-4c91-ac15-0dcfdba8aa4a"
      },
      "execution_count": null,
      "outputs": [
        {
          "output_type": "stream",
          "name": "stdout",
          "text": [
            "CSV loaded: /content/tabular.csv\n",
            "Shape: (84, 9)\n",
            "Columns: ['image_path', 'class', 'age', 'sex', 'years_in_education', 'APoe4', 'Abeta', 'P-tau181', 'T-tau']\n",
            "Categorical columns: ['image_path', 'age', 'sex', 'years_in_education', 'APoe4', 'Abeta', 'P-tau181', 'T-tau']\n",
            "Target classes: [np.str_('AD'), np.str_('CN'), np.str_('MCI')]\n",
            "Train/Valid/Test sizes: 62 9 13\n",
            "cat_idxs: [0, 1, 2, 3, 4, 5, 6, 7]\n",
            "cat_dims: [84, 33, 2, 13, 2, 84, 84, 84]\n",
            "epoch 0  | loss: 1.46819 | train_macro_auc: 0.59571 | train_accuracy: 0.35484 | valid_macro_auc: 0.48148 | valid_accuracy: 0.22222 |  0:00:00s\n",
            "epoch 1  | loss: 1.34181 | train_macro_auc: 0.59563 | train_accuracy: 0.37097 | valid_macro_auc: 0.42593 | valid_accuracy: 0.11111 |  0:00:00s\n",
            "epoch 2  | loss: 1.27008 | train_macro_auc: 0.59328 | train_accuracy: 0.41935 | valid_macro_auc: 0.42593 | valid_accuracy: 0.22222 |  0:00:00s\n"
          ]
        },
        {
          "output_type": "stream",
          "name": "stderr",
          "text": [
            "/usr/local/lib/python3.11/dist-packages/pytorch_tabnet/abstract_model.py:82: UserWarning: Device used : cuda\n",
            "  warnings.warn(f\"Device used : {self.device}\")\n"
          ]
        },
        {
          "output_type": "stream",
          "name": "stdout",
          "text": [
            "epoch 3  | loss: 1.2058  | train_macro_auc: 0.58788 | train_accuracy: 0.37097 | valid_macro_auc: 0.40741 | valid_accuracy: 0.22222 |  0:00:00s\n",
            "epoch 4  | loss: 1.15024 | train_macro_auc: 0.56792 | train_accuracy: 0.37097 | valid_macro_auc: 0.42593 | valid_accuracy: 0.11111 |  0:00:00s\n",
            "epoch 5  | loss: 1.10093 | train_macro_auc: 0.55383 | train_accuracy: 0.37097 | valid_macro_auc: 0.42593 | valid_accuracy: 0.11111 |  0:00:00s\n",
            "epoch 6  | loss: 1.0543  | train_macro_auc: 0.5386  | train_accuracy: 0.3871  | valid_macro_auc: 0.48148 | valid_accuracy: 0.11111 |  0:00:00s\n",
            "epoch 7  | loss: 1.00682 | train_macro_auc: 0.52839 | train_accuracy: 0.37097 | valid_macro_auc: 0.5     | valid_accuracy: 0.11111 |  0:00:00s\n",
            "epoch 8  | loss: 0.95992 | train_macro_auc: 0.51747 | train_accuracy: 0.37097 | valid_macro_auc: 0.5     | valid_accuracy: 0.11111 |  0:00:00s\n",
            "epoch 9  | loss: 0.92452 | train_macro_auc: 0.50964 | train_accuracy: 0.35484 | valid_macro_auc: 0.5     | valid_accuracy: 0.22222 |  0:00:00s\n",
            "epoch 10 | loss: 0.88615 | train_macro_auc: 0.5038  | train_accuracy: 0.37097 | valid_macro_auc: 0.46296 | valid_accuracy: 0.22222 |  0:00:00s\n",
            "epoch 11 | loss: 0.83702 | train_macro_auc: 0.49926 | train_accuracy: 0.33871 | valid_macro_auc: 0.42593 | valid_accuracy: 0.11111 |  0:00:00s\n",
            "epoch 12 | loss: 0.78834 | train_macro_auc: 0.50913 | train_accuracy: 0.33871 | valid_macro_auc: 0.40741 | valid_accuracy: 0.11111 |  0:00:00s\n",
            "epoch 13 | loss: 0.76211 | train_macro_auc: 0.51945 | train_accuracy: 0.35484 | valid_macro_auc: 0.37037 | valid_accuracy: 0.11111 |  0:00:00s\n",
            "epoch 14 | loss: 0.73247 | train_macro_auc: 0.53358 | train_accuracy: 0.37097 | valid_macro_auc: 0.38889 | valid_accuracy: 0.11111 |  0:00:00s\n",
            "epoch 15 | loss: 0.69733 | train_macro_auc: 0.55669 | train_accuracy: 0.35484 | valid_macro_auc: 0.37037 | valid_accuracy: 0.11111 |  0:00:00s\n",
            "epoch 16 | loss: 0.66841 | train_macro_auc: 0.57483 | train_accuracy: 0.33871 | valid_macro_auc: 0.35185 | valid_accuracy: 0.11111 |  0:00:00s\n",
            "epoch 17 | loss: 0.64865 | train_macro_auc: 0.59407 | train_accuracy: 0.35484 | valid_macro_auc: 0.33333 | valid_accuracy: 0.11111 |  0:00:01s\n",
            "epoch 18 | loss: 0.63427 | train_macro_auc: 0.60469 | train_accuracy: 0.35484 | valid_macro_auc: 0.35185 | valid_accuracy: 0.11111 |  0:00:01s\n",
            "epoch 19 | loss: 0.60903 | train_macro_auc: 0.62779 | train_accuracy: 0.3871  | valid_macro_auc: 0.33333 | valid_accuracy: 0.22222 |  0:00:01s\n",
            "epoch 20 | loss: 0.56993 | train_macro_auc: 0.63829 | train_accuracy: 0.40323 | valid_macro_auc: 0.2963  | valid_accuracy: 0.22222 |  0:00:01s\n",
            "\n",
            "Early stopping occurred at epoch 20 with best_epoch = 0 and best_valid_accuracy = 0.22222\n"
          ]
        },
        {
          "output_type": "stream",
          "name": "stderr",
          "text": [
            "/usr/local/lib/python3.11/dist-packages/pytorch_tabnet/callbacks.py:172: UserWarning: Best weights from best epoch are automatically used!\n",
            "  warnings.warn(wrn_msg)\n"
          ]
        },
        {
          "output_type": "display_data",
          "data": {
            "text/plain": [
              "<Figure size 1200x400 with 2 Axes>"
            ],
            "image/png": "[encoded data removed]"
          },
          "metadata": {}
        },
        {
          "output_type": "stream",
          "name": "stdout",
          "text": [
            "Test AUC: 0.41944444444444445 Test Acc: 0.38461538461538464\n",
            "              feature  importance\n",
            "4               APoe4    0.357366\n",
            "6            P-tau181    0.176716\n",
            "5               Abeta    0.117170\n",
            "3  years_in_education    0.116156\n",
            "7               T-tau    0.102527\n",
            "2                 sex    0.061096\n",
            "1                 age    0.037800\n",
            "0          image_path    0.031170\n",
            "Saved reduced feature CSV with top 8 features.\n"
          ]
        },
        {
          "output_type": "display_data",
          "data": {
            "text/plain": [
              "<Figure size 1400x400 with 3 Axes>"
            ],
            "image/png": "[encoded data removed]"
          },
          "metadata": {}
        },
        {
          "output_type": "stream",
          "name": "stdout",
          "text": [
            "Successfully saved model at tabnet_adni_model.zip.zip\n",
            "Saved TabNet model and masks.\n"
          ]
        }
      ]
    },
    {
      "cell_type": "code",
      "source": [
        "import zipfile\n",
        "import os\n",
        "\n",
        "zip_path = '/content/train.zip'\n",
        "extract_path = '/content/train'\n",
        "\n",
        "if zipfile.is_zipfile(zip_path):\n",
        "    with zipfile.ZipFile(zip_path, 'r') as zip_ref:\n",
        "        zip_ref.extractall(extract_path)\n",
        "    print(\"Extraction complete.\")\n",
        "else:\n",
        "    print(\"❌ The file is not a valid zip file.\")\n"
      ],
      "metadata": {
        "colab": {
          "base_uri": "https://localhost:8080/"
        },
        "id": "nEIFB4J2rmoA",
        "outputId": "0596d609-ef51-46cc-9d34-48d2d69a422e"
      },
      "execution_count": null,
      "outputs": [
        {
          "output_type": "stream",
          "name": "stdout",
          "text": [
            "Extraction complete.\n"
          ]
        }
      ]
    },
    {
      "cell_type": "code",
      "source": [
        "import zipfile\n",
        "import os\n",
        "\n",
        "zip_path = '/content/val.zip'\n",
        "extract_path = '/content/val'\n",
        "\n",
        "if zipfile.is_zipfile(zip_path):\n",
        "    with zipfile.ZipFile(zip_path, 'r') as zip_ref:\n",
        "        zip_ref.extractall(extract_path)\n",
        "    print(\"Extraction complete.\")\n",
        "else:\n",
        "    print(\"❌ The file is not a valid zip file.\")\n"
      ],
      "metadata": {
        "colab": {
          "base_uri": "https://localhost:8080/"
        },
        "id": "vrLhC2mcsqvS",
        "outputId": "d5a40cfe-b9ba-4727-f7cc-7af2fab4d199"
      },
      "execution_count": null,
      "outputs": [
        {
          "output_type": "stream",
          "name": "stdout",
          "text": [
            "Extraction complete.\n"
          ]
        }
      ]
    },
    {
      "cell_type": "code",
      "source": [
        "import zipfile\n",
        "import os\n",
        "\n",
        "zip_path = '/content/Data-1.zip'\n",
        "extract_path = '/content/dataset'\n",
        "\n",
        "if zipfile.is_zipfile(zip_path):\n",
        "    with zipfile.ZipFile(zip_path, 'r') as zip_ref:\n",
        "        zip_ref.extractall(extract_path)\n",
        "    print(\"Extraction complete.\")\n",
        "else:\n",
        "    print(\"❌ The file is not a valid zip file.\")"
      ],
      "metadata": {
        "colab": {
          "base_uri": "https://localhost:8080/"
        },
        "id": "B52PGnr4VBC6",
        "outputId": "bb1dcff4-9a42-47fa-8548-4f44d6a0c543"
      },
      "execution_count": 3,
      "outputs": [
        {
          "output_type": "stream",
          "name": "stdout",
          "text": [
            "Extraction complete.\n"
          ]
        }
      ]
    },
    {
      "cell_type": "code",
      "source": [],
      "metadata": {
        "id": "MgSQziz2s2tc"
      },
      "execution_count": null,
      "outputs": []
    },
    {
      "cell_type": "code",
      "source": [
        "\"\"\"\n",
        "Modified MRI ViT training script for direct dataset usage\n",
        "\n",
        "- Automatically creates train/test splits from your dataset structure\n",
        "- No text files needed - works directly with image folders\n",
        "- Configured for your AD/CN/MCI-1 classification task\n",
        "\"\"\"\n",
        "\n",
        "import os\n",
        "import random\n",
        "from pathlib import Path\n",
        "from typing import Dict, List, Tuple\n",
        "from sklearn.model_selection import train_test_split\n",
        "\n",
        "import timm\n",
        "import torch\n",
        "import torch.nn as nn\n",
        "from torch.utils.data import Dataset, DataLoader\n",
        "from PIL import Image\n",
        "import numpy as np\n",
        "import csv\n",
        "\n",
        "# ------------------------- utils -------------------------\n",
        "\n",
        "def set_seed(seed: int = 42):\n",
        "    random.seed(seed)\n",
        "    os.environ[\"PYTHONHASHSEED\"] = str(seed)\n",
        "    torch.manual_seed(seed)\n",
        "    torch.cuda.manual_seed_all(seed)\n",
        "    torch.backends.cudnn.deterministic = False\n",
        "    torch.backends.cudnn.benchmark = True\n",
        "\n",
        "def explore_dataset_structure(data_root: Path):\n",
        "    \"\"\"\n",
        "    Debug function to explore the actual dataset structure\n",
        "    \"\"\"\n",
        "    print(f\"Exploring dataset structure at: {data_root}\")\n",
        "    print(f\"Dataset root exists: {data_root.exists()}\")\n",
        "\n",
        "    if data_root.exists():\n",
        "        print(\"\\nContents of dataset root:\")\n",
        "        for item in data_root.iterdir():\n",
        "            print(f\"  {item.name} ({'directory' if item.is_dir() else 'file'})\")\n",
        "\n",
        "        # Check if there's a Data folder\n",
        "        data_folder = data_root / \"Data\"\n",
        "        print(f\"\\nData folder exists: {data_folder.exists()}\")\n",
        "\n",
        "        if data_folder.exists():\n",
        "            print(\"\\nContents of Data folder:\")\n",
        "            for item in data_folder.iterdir():\n",
        "                print(f\"  {item.name} ({'directory' if item.is_dir() else 'file'})\")\n",
        "\n",
        "                # If it's a directory, check its contents\n",
        "                if item.is_dir():\n",
        "                    print(f\"    Contents of {item.name}:\")\n",
        "                    try:\n",
        "                        files = list(item.glob(\"*\"))\n",
        "                        print(f\"      Total files: {len(files)}\")\n",
        "                        image_files = [f for f in files if f.suffix.lower() in ['.png', '.jpg', '.jpeg', '.bmp', '.tif', '.tiff']]\n",
        "                        print(f\"      Image files: {len(image_files)}\")\n",
        "                        if image_files:\n",
        "                            print(f\"      First few images: {[f.name for f in image_files[:3]]}\")\n",
        "                    except Exception as e:\n",
        "                        print(f\"      Error reading folder: {e}\")\n",
        "\n",
        "def create_dataset_splits(data_root: Path, test_size: float = 0.2, random_state: int = 42):\n",
        "    \"\"\"\n",
        "    Create train/test splits from your dataset structure\n",
        "    \"\"\"\n",
        "\n",
        "    # First, explore the structure\n",
        "    explore_dataset_structure(data_root)\n",
        "\n",
        "    # Define class mapping\n",
        "    class_mapping = {'AD': 0, 'CN': 1, 'MCI-1': 2}\n",
        "\n",
        "    all_samples = []\n",
        "\n",
        "    # Try different possible structures\n",
        "    possible_structures = [\n",
        "        data_root / \"Data\" / \"Data\",  # Your actual structure\n",
        "        data_root / \"Data\",  # Original assumption\n",
        "        data_root,           # Direct in root\n",
        "        data_root / \"dataset\" / \"Data\",  # Nested dataset\n",
        "    ]\n",
        "\n",
        "    data_folder = None\n",
        "    for structure in possible_structures:\n",
        "        print(f\"\\nTrying structure: {structure}\")\n",
        "        if structure.exists():\n",
        "            # Check if it has the class folders\n",
        "            class_folders_exist = all((structure / class_name).exists() for class_name in ['AD', 'CN', 'MCI-1'])\n",
        "            if class_folders_exist:\n",
        "                data_folder = structure\n",
        "                print(f\"Found valid structure at: {data_folder}\")\n",
        "                break\n",
        "\n",
        "    if data_folder is None:\n",
        "        print(\"Could not find a valid dataset structure with AD, CN, MCI-1 folders\")\n",
        "\n",
        "        # Let's try to find any folders with images\n",
        "        print(\"\\nSearching for any folders with images...\")\n",
        "        for root in [data_root, data_root / \"Data\", data_root / \"dataset\"]:\n",
        "            if root.exists():\n",
        "                for item in root.rglob(\"*\"):\n",
        "                    if item.is_dir():\n",
        "                        image_files = list(item.glob(\"*.png\")) + list(item.glob(\"*.jpg\")) + list(item.glob(\"*.jpeg\"))\n",
        "                        if len(image_files) > 0:\n",
        "                            print(f\"Found {len(image_files)} images in: {item}\")\n",
        "\n",
        "        raise ValueError(\"No valid dataset structure found! Please check your dataset path and folder names.\")\n",
        "\n",
        "    # Collect all images from each class folder\n",
        "    for class_name in ['AD', 'CN', 'MCI-1']:\n",
        "        class_folder = data_folder / class_name\n",
        "        if class_folder.exists():\n",
        "            image_files = []\n",
        "            for ext in ['.png', '.jpg', '.jpeg', '.bmp', '.tif', '.tiff']:\n",
        "                image_files.extend(class_folder.glob(f\"*{ext}\"))\n",
        "                image_files.extend(class_folder.glob(f\"*{ext.upper()}\"))\n",
        "\n",
        "            for img_file in image_files:\n",
        "                all_samples.append((str(img_file), class_mapping[class_name]))\n",
        "\n",
        "            print(f\"Found {len(image_files)} images in {class_name}\")\n",
        "        else:\n",
        "            print(f\"Warning: {class_name} folder not found at {class_folder}\")\n",
        "\n",
        "    print(f\"Total samples found: {len(all_samples)}\")\n",
        "\n",
        "    # Create train/test split\n",
        "    if len(all_samples) == 0:\n",
        "        raise ValueError(\"No images found! Please check your dataset path and structure.\")\n",
        "\n",
        "    train_samples, test_samples = train_test_split(\n",
        "        all_samples,\n",
        "        test_size=test_size,\n",
        "        random_state=random_state,\n",
        "        stratify=[sample[1] for sample in all_samples]  # Stratify by class\n",
        "    )\n",
        "\n",
        "    print(f\"Train samples: {len(train_samples)}\")\n",
        "    print(f\"Test samples: {len(test_samples)}\")\n",
        "\n",
        "    return train_samples, test_samples\n",
        "\n",
        "# ------------------------- dataset -------------------------\n",
        "class MRIImageDataset(Dataset):\n",
        "    def __init__(self, samples: List[Tuple[str, int]], rgb: bool = True, image_size: int = 224, is_training: bool = True):\n",
        "        self.samples = samples\n",
        "        self.rgb = rgb\n",
        "        self.image_size = image_size\n",
        "        self.is_training = is_training\n",
        "\n",
        "    def __len__(self):\n",
        "        return len(self.samples)\n",
        "\n",
        "    def __getitem__(self, idx):\n",
        "        img_path, label = self.samples[idx]\n",
        "\n",
        "        try:\n",
        "            img = Image.open(img_path)\n",
        "            img = img.convert(\"RGB\") if self.rgb else img.convert(\"L\")\n",
        "            img = img.resize((self.image_size, self.image_size), Image.BILINEAR)\n",
        "\n",
        "            # Data augmentation for training\n",
        "            if self.is_training:\n",
        "                if random.random() < 0.5:\n",
        "                    img = img.transpose(Image.FLIP_LEFT_RIGHT)\n",
        "                if random.random() < 0.3:\n",
        "                    img = img.rotate(random.uniform(-10, 10), resample=Image.BILINEAR)\n",
        "\n",
        "            # Convert to tensor\n",
        "            t = torch.from_numpy(np.array(img))\n",
        "            if t.ndim == 2:\n",
        "                t = t.unsqueeze(-1)\n",
        "            t = t.permute(2, 0, 1).float() / 255.0\n",
        "\n",
        "            # Normalize\n",
        "            if self.rgb:\n",
        "                mean = torch.tensor([0.485, 0.456, 0.406]).view(3, 1, 1)\n",
        "                std = torch.tensor([0.229, 0.224, 0.225]).view(3, 1, 1)\n",
        "            else:\n",
        "                mean = torch.tensor([0.5]).view(1, 1, 1)\n",
        "                std = torch.tensor([0.5]).view(1, 1, 1)\n",
        "            t = (t - mean) / std\n",
        "\n",
        "            return t, label\n",
        "\n",
        "        except Exception as e:\n",
        "            print(f\"Error loading image {img_path}: {e}\")\n",
        "            # Return a dummy tensor if image loading fails\n",
        "            if self.rgb:\n",
        "                dummy_tensor = torch.zeros((3, self.image_size, self.image_size))\n",
        "            else:\n",
        "                dummy_tensor = torch.zeros((1, self.image_size, self.image_size))\n",
        "            return dummy_tensor, label\n",
        "\n",
        "# ------------------------- model -------------------------\n",
        "class ViTMRI(nn.Module):\n",
        "    def __init__(self, num_classes: int, in_chans: int = 3, model_name: str = \"vit_base_patch16_224\"):\n",
        "        super().__init__()\n",
        "        self.backbone = timm.create_model(\n",
        "            model_name,\n",
        "            pretrained=True,\n",
        "            in_chans=in_chans,\n",
        "            num_classes=num_classes\n",
        "        )\n",
        "\n",
        "    def forward(self, x):\n",
        "        return self.backbone(x)\n",
        "\n",
        "# ------------------------- metrics -------------------------\n",
        "@torch.no_grad()\n",
        "def evaluate(model, loader, device):\n",
        "    model.eval()\n",
        "    total, correct = 0, 0\n",
        "    all_preds, all_targets = [], []\n",
        "\n",
        "    for x, y in loader:\n",
        "        x, y = x.to(device), torch.tensor(y, device=device, dtype=torch.long)\n",
        "        logits = model(x)\n",
        "        pred = logits.argmax(1)\n",
        "        correct += (pred == y).sum().item()\n",
        "        total += y.numel()\n",
        "        all_preds.append(pred.cpu())\n",
        "        all_targets.append(y.cpu())\n",
        "\n",
        "    preds = torch.cat(all_preds)\n",
        "    targs = torch.cat(all_targets)\n",
        "    acc = correct / max(total, 1)\n",
        "    f1 = macro_f1(preds, targs)\n",
        "    return acc, f1\n",
        "\n",
        "def macro_f1(preds: torch.Tensor, targets: torch.Tensor) -> float:\n",
        "    num_classes = int(max(preds.max().item(), targets.max().item())) + 1\n",
        "    f1s = []\n",
        "\n",
        "    for c in range(num_classes):\n",
        "        tp = ((preds == c) & (targets == c)).sum().item()\n",
        "        fp = ((preds == c) & (targets != c)).sum().item()\n",
        "        fn = ((preds != c) & (targets == c)).sum().item()\n",
        "\n",
        "        precision = tp / (tp + fp + 1e-8)\n",
        "        recall = tp / (tp + fn + 1e-8)\n",
        "        f1 = 2 * precision * recall / (precision + recall + 1e-8)\n",
        "        f1s.append(f1)\n",
        "\n",
        "    return float(sum(f1s) / len(f1s))\n",
        "\n",
        "# ------------------------- training -------------------------\n",
        "def train(args):\n",
        "    set_seed(args.seed)\n",
        "    device = torch.device(\"cuda\" if torch.cuda.is_available() else \"cpu\")\n",
        "    print(f\"Using device: {device}\")\n",
        "\n",
        "    # Create train/test splits from your dataset\n",
        "    train_samples, test_samples = create_dataset_splits(\n",
        "        Path(args.data_root),\n",
        "        test_size=args.test_size,\n",
        "        random_state=args.seed\n",
        "    )\n",
        "\n",
        "    # Create datasets\n",
        "    train_ds = MRIImageDataset(train_samples, args.rgb, args.image_size, is_training=True)\n",
        "    test_ds = MRIImageDataset(test_samples, args.rgb, args.image_size, is_training=False)\n",
        "\n",
        "    # Create data loaders\n",
        "    train_loader = DataLoader(\n",
        "        train_ds,\n",
        "        batch_size=args.batch_size,\n",
        "        shuffle=True,\n",
        "        num_workers=args.workers,\n",
        "        pin_memory=True\n",
        "    )\n",
        "    test_loader = DataLoader(\n",
        "        test_ds,\n",
        "        batch_size=args.batch_size,\n",
        "        shuffle=False,\n",
        "        num_workers=args.workers,\n",
        "        pin_memory=True\n",
        "    )\n",
        "\n",
        "    # Create model\n",
        "    model = ViTMRI(\n",
        "        num_classes=args.num_classes,\n",
        "        in_chans=(3 if args.rgb else 1),\n",
        "        model_name=args.model_name\n",
        "    ).to(device)\n",
        "\n",
        "    print(f\"Model created: {args.model_name}\")\n",
        "    print(f\"Number of parameters: {sum(p.numel() for p in model.parameters()):,}\")\n",
        "\n",
        "    # Loss and optimizer\n",
        "    criterion = nn.CrossEntropyLoss()\n",
        "    optimizer = torch.optim.AdamW(\n",
        "        model.parameters(),\n",
        "        lr=args.lr,\n",
        "        weight_decay=args.weight_decay\n",
        "    )\n",
        "    scheduler = torch.optim.lr_scheduler.CosineAnnealingLR(optimizer, T_max=args.epochs)\n",
        "    scaler = torch.cuda.amp.GradScaler(enabled=args.amp)\n",
        "\n",
        "    # Training loop\n",
        "    best_acc = 0.0\n",
        "\n",
        "    # Create training log\n",
        "    with open(\"training_log.csv\", \"w\", newline=\"\") as f:\n",
        "        csv.writer(f).writerow([\"epoch\", \"train_loss\", \"test_acc\", \"test_f1\", \"lr\"])\n",
        "\n",
        "    print(f\"\\nStarting training for {args.epochs} epochs...\")\n",
        "    print(\"-\" * 60)\n",
        "\n",
        "    for epoch in range(1, args.epochs + 1):\n",
        "        # Training phase\n",
        "        model.train()\n",
        "        running_loss = 0.0\n",
        "        num_batches = 0\n",
        "\n",
        "        for batch_idx, (x, y) in enumerate(train_loader):\n",
        "            x = x.to(device)\n",
        "            y = torch.tensor(y, device=device, dtype=torch.long)\n",
        "\n",
        "            optimizer.zero_grad(set_to_none=True)\n",
        "\n",
        "            with torch.cuda.amp.autocast(enabled=args.amp):\n",
        "                logits = model(x)\n",
        "                loss = criterion(logits, y)\n",
        "\n",
        "            scaler.scale(loss).backward()\n",
        "            scaler.step(optimizer)\n",
        "            scaler.update()\n",
        "\n",
        "            running_loss += loss.item()\n",
        "            num_batches += 1\n",
        "\n",
        "            if (batch_idx + 1) % 10 == 0:\n",
        "                print(f\"Epoch {epoch}/{args.epochs} - Batch {batch_idx + 1}/{len(train_loader)} - Loss: {loss.item():.4f}\")\n",
        "\n",
        "        scheduler.step()\n",
        "\n",
        "        # Calculate average training loss\n",
        "        train_loss = running_loss / max(num_batches, 1)\n",
        "\n",
        "        # Evaluation phase\n",
        "        test_acc, test_f1 = evaluate(model, test_loader, device)\n",
        "\n",
        "        # Log results\n",
        "        with open(\"training_log.csv\", \"a\", newline=\"\") as f:\n",
        "            csv.writer(f).writerow([\n",
        "                epoch,\n",
        "                f\"{train_loss:.6f}\",\n",
        "                f\"{test_acc:.4f}\",\n",
        "                f\"{test_f1:.4f}\",\n",
        "                f\"{scheduler.get_last_lr()[0]:.6f}\"\n",
        "            ])\n",
        "\n",
        "        print(f\"Epoch {epoch}/{args.epochs} - Train Loss: {train_loss:.4f} - Test Acc: {test_acc:.4f} - Test F1: {test_f1:.4f}\")\n",
        "\n",
        "        # Save best model\n",
        "        if test_acc > best_acc:\n",
        "            best_acc = test_acc\n",
        "            torch.save(model.state_dict(), \"best_mri_vit.pth\")\n",
        "            print(f\"[+] Saved best model with accuracy={best_acc:.4f}\")\n",
        "\n",
        "        print(\"-\" * 60)\n",
        "\n",
        "    print(f\"\\nTraining completed! Best test accuracy: {best_acc:.4f}\")\n",
        "\n",
        "# ------------------------- configuration -------------------------\n",
        "class Args:\n",
        "    # Dataset paths\n",
        "    data_root = \"/content/dataset\"  # Your dataset root path (correct)\n",
        "\n",
        "    # Training parameters\n",
        "    batch_size = 16  # Increased for better GPU utilization\n",
        "    workers = 2\n",
        "    lr = 5e-5  # Slightly lower learning rate for better stability\n",
        "    weight_decay = 1e-4\n",
        "    num_classes = 3  # AD, CN, MCI-1\n",
        "    epochs = 25  # Increased epochs for better training\n",
        "    seed = 42\n",
        "\n",
        "    # Model settings\n",
        "    model_name = \"vit_base_patch16_224\"  # Can also try \"vit_small_patch16_224\" or \"vit_large_patch16_224\"\n",
        "\n",
        "    # Image settings\n",
        "    rgb = True  # Set to False for grayscale\n",
        "    image_size = 224\n",
        "\n",
        "    # Data split\n",
        "    test_size = 0.2  # 20% for testing, 80% for training\n",
        "\n",
        "    # Training settings\n",
        "    amp = True  # Automatic Mixed Precision for faster training\n",
        "\n",
        "if __name__ == \"__main__\":\n",
        "    # Make sure to install required packages:\n",
        "    # pip install timm torch torchvision scikit-learn pillow numpy\n",
        "\n",
        "    train(Args)"
      ],
      "metadata": {
        "colab": {
          "base_uri": "https://localhost:8080/",
          "height": 1000,
          "referenced_widgets": [
            "ae39900390754faba2965d62cce1daf6",
            "f1c08ed88d364824aab8757c9338b55c",
            "f578e5ebab6d4cd2aa2e93844fd8c90c",
            "91df39d087fe453db61e876a863e5f1f",
            "de6f84fe633d492a89bd2ccab566f7b8",
            "ec882351c8624f109ad5657bf433cc53",
            "4ce6f50f56c64ecf8644dbbbaf526ebb",
            "63875d252aed4d2e911730d49f9889b9",
            "a21e841ad78b41539b6199828957bb21",
            "37eac0ce111a4978a6f7c7cdfdce805d",
            "3e9b8e27dcd4426da6e13d5700f9da83"
          ]
        },
        "id": "RhTPGBIJXDC0",
        "outputId": "e9de886b-5a35-4057-c38c-f93621ed7366"
      },
      "execution_count": null,
      "outputs": [
        {
          "output_type": "stream",
          "name": "stdout",
          "text": [
            "Using device: cuda\n",
            "Exploring dataset structure at: /content/dataset\n",
            "Dataset root exists: True\n",
            "\n",
            "Contents of dataset root:\n",
            "  Data (directory)\n",
            "\n",
            "Data folder exists: True\n",
            "\n",
            "Contents of Data folder:\n",
            "  Data (directory)\n",
            "    Contents of Data:\n",
            "      Total files: 3\n",
            "      Image files: 0\n",
            "\n",
            "Trying structure: /content/dataset/Data/Data\n",
            "Found valid structure at: /content/dataset/Data/Data\n",
            "Found 917 images in AD\n",
            "Found 931 images in CN\n",
            "Found 1134 images in MCI-1\n",
            "Total samples found: 2982\n",
            "Train samples: 2385\n",
            "Test samples: 597\n"
          ]
        },
        {
          "output_type": "stream",
          "name": "stderr",
          "text": [
            "/usr/local/lib/python3.11/dist-packages/huggingface_hub/utils/_auth.py:94: UserWarning: \n",
            "The secret `HF_TOKEN` does not exist in your Colab secrets.\n",
            "To authenticate with the Hugging Face Hub, create a token in your settings tab (https://huggingface.co/settings/tokens), set it as secret in your Google Colab and restart your session.\n",
            "You will be able to reuse this secret in all of your notebooks.\n",
            "Please note that authentication is recommended but still optional to access public models or datasets.\n",
            "  warnings.warn(\n"
          ]
        },
        {
          "output_type": "display_data",
          "data": {
            "text/plain": [
              "model.safetensors:   0%|          | 0.00/346M [00:00<?, ?B/s]"
            ],
            "application/vnd.jupyter.widget-view+json": {
              "version_major": 2,
              "version_minor": 0,
              "model_id": "ae39900390754faba2965d62cce1daf6"
            }
          },
          "metadata": {}
        },
        {
          "output_type": "stream",
          "name": "stdout",
          "text": [
            "Model created: vit_base_patch16_224\n",
            "Number of parameters: 85,800,963\n",
            "\n",
            "Starting training for 25 epochs...\n",
            "------------------------------------------------------------\n"
          ]
        },
        {
          "output_type": "stream",
          "name": "stderr",
          "text": [
            "/tmp/ipython-input-2832239612.py:303: FutureWarning: `torch.cuda.amp.GradScaler(args...)` is deprecated. Please use `torch.amp.GradScaler('cuda', args...)` instead.\n",
            "  scaler = torch.cuda.amp.GradScaler(enabled=args.amp)\n",
            "/tmp/ipython-input-2832239612.py:323: UserWarning: To copy construct from a tensor, it is recommended to use sourceTensor.clone().detach() or sourceTensor.clone().detach().requires_grad_(True), rather than torch.tensor(sourceTensor).\n",
            "  y = torch.tensor(y, device=device, dtype=torch.long)\n",
            "/tmp/ipython-input-2832239612.py:327: FutureWarning: `torch.cuda.amp.autocast(args...)` is deprecated. Please use `torch.amp.autocast('cuda', args...)` instead.\n",
            "  with torch.cuda.amp.autocast(enabled=args.amp):\n"
          ]
        },
        {
          "output_type": "stream",
          "name": "stdout",
          "text": [
            "Epoch 1/25 - Batch 10/150 - Loss: 1.2837\n",
            "Epoch 1/25 - Batch 20/150 - Loss: 0.9867\n",
            "Epoch 1/25 - Batch 30/150 - Loss: 0.9679\n",
            "Epoch 1/25 - Batch 40/150 - Loss: 0.6677\n",
            "Epoch 1/25 - Batch 50/150 - Loss: 0.8526\n",
            "Epoch 1/25 - Batch 60/150 - Loss: 0.3790\n",
            "Epoch 1/25 - Batch 70/150 - Loss: 0.5432\n",
            "Epoch 1/25 - Batch 80/150 - Loss: 0.5289\n",
            "Epoch 1/25 - Batch 90/150 - Loss: 0.1203\n",
            "Epoch 1/25 - Batch 100/150 - Loss: 0.0214\n",
            "Epoch 1/25 - Batch 110/150 - Loss: 0.0057\n",
            "Epoch 1/25 - Batch 120/150 - Loss: 0.0200\n",
            "Epoch 1/25 - Batch 130/150 - Loss: 0.0951\n",
            "Epoch 1/25 - Batch 140/150 - Loss: 0.1197\n",
            "Epoch 1/25 - Batch 150/150 - Loss: 3.1484\n"
          ]
        },
        {
          "output_type": "stream",
          "name": "stderr",
          "text": [
            "/tmp/ipython-input-2832239612.py:222: UserWarning: To copy construct from a tensor, it is recommended to use sourceTensor.clone().detach() or sourceTensor.clone().detach().requires_grad_(True), rather than torch.tensor(sourceTensor).\n",
            "  x, y = x.to(device), torch.tensor(y, device=device, dtype=torch.long)\n"
          ]
        },
        {
          "output_type": "stream",
          "name": "stdout",
          "text": [
            "Epoch 1/25 - Train Loss: 0.4998 - Test Acc: 0.9363 - Test F1: 0.9381\n",
            "[+] Saved best model with accuracy=0.9363\n",
            "------------------------------------------------------------\n",
            "Epoch 2/25 - Batch 10/150 - Loss: 0.4172\n",
            "Epoch 2/25 - Batch 20/150 - Loss: 0.3120\n",
            "Epoch 2/25 - Batch 30/150 - Loss: 0.0802\n",
            "Epoch 2/25 - Batch 40/150 - Loss: 0.0454\n",
            "Epoch 2/25 - Batch 50/150 - Loss: 0.2281\n",
            "Epoch 2/25 - Batch 60/150 - Loss: 0.0013\n",
            "Epoch 2/25 - Batch 70/150 - Loss: 0.0014\n",
            "Epoch 2/25 - Batch 80/150 - Loss: 0.0808\n",
            "Epoch 2/25 - Batch 90/150 - Loss: 0.0208\n",
            "Epoch 2/25 - Batch 100/150 - Loss: 0.1286\n",
            "Epoch 2/25 - Batch 110/150 - Loss: 0.0626\n",
            "Epoch 2/25 - Batch 120/150 - Loss: 0.0047\n",
            "Epoch 2/25 - Batch 130/150 - Loss: 0.0007\n",
            "Epoch 2/25 - Batch 140/150 - Loss: 0.0020\n",
            "Epoch 2/25 - Batch 150/150 - Loss: 0.0001\n",
            "Epoch 2/25 - Train Loss: 0.0878 - Test Acc: 1.0000 - Test F1: 1.0000\n",
            "[+] Saved best model with accuracy=1.0000\n",
            "------------------------------------------------------------\n",
            "Epoch 3/25 - Batch 10/150 - Loss: 0.0011\n",
            "Epoch 3/25 - Batch 20/150 - Loss: 0.2762\n",
            "Epoch 3/25 - Batch 30/150 - Loss: 0.0077\n",
            "Epoch 3/25 - Batch 40/150 - Loss: 0.0054\n",
            "Epoch 3/25 - Batch 50/150 - Loss: 0.0023\n",
            "Epoch 3/25 - Batch 60/150 - Loss: 0.0038\n",
            "Epoch 3/25 - Batch 70/150 - Loss: 0.0225\n",
            "Epoch 3/25 - Batch 80/150 - Loss: 0.0011\n",
            "Epoch 3/25 - Batch 90/150 - Loss: 0.0048\n",
            "Epoch 3/25 - Batch 100/150 - Loss: 0.0005\n",
            "Epoch 3/25 - Batch 110/150 - Loss: 0.0002\n",
            "Epoch 3/25 - Batch 120/150 - Loss: 0.0152\n",
            "Epoch 3/25 - Batch 130/150 - Loss: 0.0002\n",
            "Epoch 3/25 - Batch 140/150 - Loss: 0.0031\n",
            "Epoch 3/25 - Batch 150/150 - Loss: 0.0000\n",
            "Epoch 3/25 - Train Loss: 0.0277 - Test Acc: 0.9899 - Test F1: 0.9901\n",
            "------------------------------------------------------------\n",
            "Epoch 4/25 - Batch 10/150 - Loss: 0.0575\n",
            "Epoch 4/25 - Batch 20/150 - Loss: 0.0001\n",
            "Epoch 4/25 - Batch 30/150 - Loss: 0.0233\n",
            "Epoch 4/25 - Batch 40/150 - Loss: 0.0004\n",
            "Epoch 4/25 - Batch 50/150 - Loss: 0.0001\n",
            "Epoch 4/25 - Batch 60/150 - Loss: 0.0179\n",
            "Epoch 4/25 - Batch 70/150 - Loss: 0.1152\n",
            "Epoch 4/25 - Batch 80/150 - Loss: 0.1454\n",
            "Epoch 4/25 - Batch 90/150 - Loss: 0.0925\n",
            "Epoch 4/25 - Batch 100/150 - Loss: 0.0015\n",
            "Epoch 4/25 - Batch 110/150 - Loss: 0.0003\n",
            "Epoch 4/25 - Batch 120/150 - Loss: 0.0006\n",
            "Epoch 4/25 - Batch 130/150 - Loss: 0.0006\n",
            "Epoch 4/25 - Batch 140/150 - Loss: 0.0009\n",
            "Epoch 4/25 - Batch 150/150 - Loss: 0.0000\n",
            "Epoch 4/25 - Train Loss: 0.0255 - Test Acc: 1.0000 - Test F1: 1.0000\n",
            "------------------------------------------------------------\n",
            "Epoch 5/25 - Batch 10/150 - Loss: 0.0010\n",
            "Epoch 5/25 - Batch 20/150 - Loss: 0.0002\n",
            "Epoch 5/25 - Batch 30/150 - Loss: 0.0003\n",
            "Epoch 5/25 - Batch 40/150 - Loss: 0.0453\n",
            "Epoch 5/25 - Batch 50/150 - Loss: 0.0233\n",
            "Epoch 5/25 - Batch 60/150 - Loss: 0.0024\n",
            "Epoch 5/25 - Batch 70/150 - Loss: 0.0049\n",
            "Epoch 5/25 - Batch 80/150 - Loss: 0.0003\n",
            "Epoch 5/25 - Batch 90/150 - Loss: 0.0003\n",
            "Epoch 5/25 - Batch 100/150 - Loss: 0.0002\n",
            "Epoch 5/25 - Batch 110/150 - Loss: 0.0004\n",
            "Epoch 5/25 - Batch 120/150 - Loss: 0.0080\n",
            "Epoch 5/25 - Batch 130/150 - Loss: 0.3709\n",
            "Epoch 5/25 - Batch 140/150 - Loss: 0.0031\n",
            "Epoch 5/25 - Batch 150/150 - Loss: 0.0006\n",
            "Epoch 5/25 - Train Loss: 0.0185 - Test Acc: 0.9966 - Test F1: 0.9964\n",
            "------------------------------------------------------------\n",
            "Epoch 6/25 - Batch 10/150 - Loss: 0.1873\n",
            "Epoch 6/25 - Batch 20/150 - Loss: 0.1811\n",
            "Epoch 6/25 - Batch 30/150 - Loss: 0.0911\n",
            "Epoch 6/25 - Batch 40/150 - Loss: 0.0736\n",
            "Epoch 6/25 - Batch 50/150 - Loss: 0.0031\n",
            "Epoch 6/25 - Batch 60/150 - Loss: 0.0075\n",
            "Epoch 6/25 - Batch 70/150 - Loss: 0.0019\n",
            "Epoch 6/25 - Batch 80/150 - Loss: 0.0032\n",
            "Epoch 6/25 - Batch 90/150 - Loss: 0.0017\n",
            "Epoch 6/25 - Batch 100/150 - Loss: 0.0553\n",
            "Epoch 6/25 - Batch 110/150 - Loss: 0.0002\n",
            "Epoch 6/25 - Batch 120/150 - Loss: 0.0004\n",
            "Epoch 6/25 - Batch 130/150 - Loss: 0.0001\n",
            "Epoch 6/25 - Batch 140/150 - Loss: 0.0189\n",
            "Epoch 6/25 - Batch 150/150 - Loss: 0.0000\n",
            "Epoch 6/25 - Train Loss: 0.0472 - Test Acc: 1.0000 - Test F1: 1.0000\n",
            "------------------------------------------------------------\n",
            "Epoch 7/25 - Batch 10/150 - Loss: 0.0010\n",
            "Epoch 7/25 - Batch 20/150 - Loss: 0.0001\n",
            "Epoch 7/25 - Batch 30/150 - Loss: 0.0001\n",
            "Epoch 7/25 - Batch 40/150 - Loss: 0.0001\n",
            "Epoch 7/25 - Batch 50/150 - Loss: 0.0000\n",
            "Epoch 7/25 - Batch 60/150 - Loss: 0.0000\n",
            "Epoch 7/25 - Batch 70/150 - Loss: 0.0000\n",
            "Epoch 7/25 - Batch 80/150 - Loss: 0.0001\n",
            "Epoch 7/25 - Batch 90/150 - Loss: 0.3463\n",
            "Epoch 7/25 - Batch 100/150 - Loss: 0.4282\n",
            "Epoch 7/25 - Batch 110/150 - Loss: 0.0076\n",
            "Epoch 7/25 - Batch 120/150 - Loss: 0.0014\n",
            "Epoch 7/25 - Batch 130/150 - Loss: 0.0048\n",
            "Epoch 7/25 - Batch 140/150 - Loss: 0.0023\n",
            "Epoch 7/25 - Batch 150/150 - Loss: 0.0000\n",
            "Epoch 7/25 - Train Loss: 0.0240 - Test Acc: 1.0000 - Test F1: 1.0000\n",
            "------------------------------------------------------------\n",
            "Epoch 8/25 - Batch 10/150 - Loss: 0.0000\n",
            "Epoch 8/25 - Batch 20/150 - Loss: 0.0000\n",
            "Epoch 8/25 - Batch 30/150 - Loss: 0.0000\n",
            "Epoch 8/25 - Batch 40/150 - Loss: 0.0001\n",
            "Epoch 8/25 - Batch 50/150 - Loss: 0.0086\n",
            "Epoch 8/25 - Batch 60/150 - Loss: 0.0002\n",
            "Epoch 8/25 - Batch 70/150 - Loss: 0.2102\n",
            "Epoch 8/25 - Batch 80/150 - Loss: 0.0408\n",
            "Epoch 8/25 - Batch 90/150 - Loss: 0.0024\n",
            "Epoch 8/25 - Batch 100/150 - Loss: 0.0000\n",
            "Epoch 8/25 - Batch 110/150 - Loss: 0.0002\n",
            "Epoch 8/25 - Batch 120/150 - Loss: 0.0002\n",
            "Epoch 8/25 - Batch 130/150 - Loss: 0.0002\n",
            "Epoch 8/25 - Batch 140/150 - Loss: 0.0021\n",
            "Epoch 8/25 - Batch 150/150 - Loss: 0.0000\n",
            "Epoch 8/25 - Train Loss: 0.0085 - Test Acc: 1.0000 - Test F1: 1.0000\n",
            "------------------------------------------------------------\n",
            "Epoch 9/25 - Batch 10/150 - Loss: 0.0000\n",
            "Epoch 9/25 - Batch 20/150 - Loss: 0.0005\n",
            "Epoch 9/25 - Batch 30/150 - Loss: 0.0000\n",
            "Epoch 9/25 - Batch 40/150 - Loss: 0.0000\n",
            "Epoch 9/25 - Batch 50/150 - Loss: 0.0665\n",
            "Epoch 9/25 - Batch 60/150 - Loss: 0.0001\n",
            "Epoch 9/25 - Batch 70/150 - Loss: 0.0014\n",
            "Epoch 9/25 - Batch 80/150 - Loss: 0.3025\n",
            "Epoch 9/25 - Batch 90/150 - Loss: 0.0100\n",
            "Epoch 9/25 - Batch 100/150 - Loss: 0.2550\n",
            "Epoch 9/25 - Batch 110/150 - Loss: 0.0037\n",
            "Epoch 9/25 - Batch 120/150 - Loss: 0.4380\n",
            "Epoch 9/25 - Batch 130/150 - Loss: 0.0925\n",
            "Epoch 9/25 - Batch 140/150 - Loss: 0.0017\n",
            "Epoch 9/25 - Batch 150/150 - Loss: 0.0000\n",
            "Epoch 9/25 - Train Loss: 0.0594 - Test Acc: 1.0000 - Test F1: 1.0000\n",
            "------------------------------------------------------------\n",
            "Epoch 10/25 - Batch 10/150 - Loss: 0.0002\n",
            "Epoch 10/25 - Batch 20/150 - Loss: 0.0011\n",
            "Epoch 10/25 - Batch 30/150 - Loss: 0.0009\n",
            "Epoch 10/25 - Batch 40/150 - Loss: 0.0026\n",
            "Epoch 10/25 - Batch 50/150 - Loss: 0.0001\n",
            "Epoch 10/25 - Batch 60/150 - Loss: 0.0133\n",
            "Epoch 10/25 - Batch 70/150 - Loss: 0.0083\n",
            "Epoch 10/25 - Batch 80/150 - Loss: 0.0001\n",
            "Epoch 10/25 - Batch 90/150 - Loss: 0.0011\n",
            "Epoch 10/25 - Batch 100/150 - Loss: 0.0001\n",
            "Epoch 10/25 - Batch 110/150 - Loss: 0.0000\n",
            "Epoch 10/25 - Batch 120/150 - Loss: 0.0005\n",
            "Epoch 10/25 - Batch 130/150 - Loss: 0.0000\n",
            "Epoch 10/25 - Batch 140/150 - Loss: 0.0000\n",
            "Epoch 10/25 - Batch 150/150 - Loss: 0.0000\n",
            "Epoch 10/25 - Train Loss: 0.0020 - Test Acc: 1.0000 - Test F1: 1.0000\n",
            "------------------------------------------------------------\n",
            "Epoch 11/25 - Batch 10/150 - Loss: 0.0001\n",
            "Epoch 11/25 - Batch 20/150 - Loss: 0.0001\n",
            "Epoch 11/25 - Batch 30/150 - Loss: 0.0001\n",
            "Epoch 11/25 - Batch 40/150 - Loss: 0.0006\n",
            "Epoch 11/25 - Batch 50/150 - Loss: 0.0000\n",
            "Epoch 11/25 - Batch 60/150 - Loss: 0.0000\n",
            "Epoch 11/25 - Batch 70/150 - Loss: 0.0000\n",
            "Epoch 11/25 - Batch 80/150 - Loss: 0.0000\n",
            "Epoch 11/25 - Batch 90/150 - Loss: 0.0000\n",
            "Epoch 11/25 - Batch 100/150 - Loss: 0.0001\n",
            "Epoch 11/25 - Batch 110/150 - Loss: 0.0001\n",
            "Epoch 11/25 - Batch 120/150 - Loss: 0.0005\n",
            "Epoch 11/25 - Batch 130/150 - Loss: 0.0001\n",
            "Epoch 11/25 - Batch 140/150 - Loss: 0.0001\n",
            "Epoch 11/25 - Batch 150/150 - Loss: 0.0004\n",
            "Epoch 11/25 - Train Loss: 0.0039 - Test Acc: 1.0000 - Test F1: 1.0000\n",
            "------------------------------------------------------------\n",
            "Epoch 12/25 - Batch 10/150 - Loss: 0.0000\n",
            "Epoch 12/25 - Batch 20/150 - Loss: 0.0001\n",
            "Epoch 12/25 - Batch 30/150 - Loss: 0.0024\n",
            "Epoch 12/25 - Batch 40/150 - Loss: 0.0000\n",
            "Epoch 12/25 - Batch 50/150 - Loss: 0.0002\n",
            "Epoch 12/25 - Batch 60/150 - Loss: 0.0002\n",
            "Epoch 12/25 - Batch 70/150 - Loss: 0.0001\n",
            "Epoch 12/25 - Batch 80/150 - Loss: 0.0000\n",
            "Epoch 12/25 - Batch 90/150 - Loss: 0.0001\n",
            "Epoch 12/25 - Batch 100/150 - Loss: 0.0001\n",
            "Epoch 12/25 - Batch 110/150 - Loss: 0.0001\n",
            "Epoch 12/25 - Batch 120/150 - Loss: 0.0001\n",
            "Epoch 12/25 - Batch 130/150 - Loss: 0.0000\n",
            "Epoch 12/25 - Batch 140/150 - Loss: 0.0003\n",
            "Epoch 12/25 - Batch 150/150 - Loss: 0.0000\n",
            "Epoch 12/25 - Train Loss: 0.0010 - Test Acc: 1.0000 - Test F1: 1.0000\n",
            "------------------------------------------------------------\n",
            "Epoch 13/25 - Batch 10/150 - Loss: 0.0000\n",
            "Epoch 13/25 - Batch 20/150 - Loss: 0.0000\n",
            "Epoch 13/25 - Batch 30/150 - Loss: 0.0000\n",
            "Epoch 13/25 - Batch 40/150 - Loss: 0.0000\n",
            "Epoch 13/25 - Batch 50/150 - Loss: 0.0000\n",
            "Epoch 13/25 - Batch 60/150 - Loss: 0.0000\n",
            "Epoch 13/25 - Batch 70/150 - Loss: 0.0000\n",
            "Epoch 13/25 - Batch 80/150 - Loss: 0.0001\n",
            "Epoch 13/25 - Batch 90/150 - Loss: 0.0000\n",
            "Epoch 13/25 - Batch 100/150 - Loss: 0.0000\n",
            "Epoch 13/25 - Batch 110/150 - Loss: 0.0000\n",
            "Epoch 13/25 - Batch 120/150 - Loss: 0.0000\n",
            "Epoch 13/25 - Batch 130/150 - Loss: 0.0000\n",
            "Epoch 13/25 - Batch 140/150 - Loss: 0.0000\n",
            "Epoch 13/25 - Batch 150/150 - Loss: 0.0000\n",
            "Epoch 13/25 - Train Loss: 0.0001 - Test Acc: 1.0000 - Test F1: 1.0000\n",
            "------------------------------------------------------------\n",
            "Epoch 14/25 - Batch 10/150 - Loss: 0.0000\n",
            "Epoch 14/25 - Batch 20/150 - Loss: 0.0000\n",
            "Epoch 14/25 - Batch 30/150 - Loss: 0.0000\n",
            "Epoch 14/25 - Batch 40/150 - Loss: 0.0000\n",
            "Epoch 14/25 - Batch 50/150 - Loss: 0.0000\n",
            "Epoch 14/25 - Batch 60/150 - Loss: 0.0000\n",
            "Epoch 14/25 - Batch 70/150 - Loss: 0.0000\n",
            "Epoch 14/25 - Batch 80/150 - Loss: 0.0000\n",
            "Epoch 14/25 - Batch 90/150 - Loss: 0.0000\n",
            "Epoch 14/25 - Batch 100/150 - Loss: 0.0000\n",
            "Epoch 14/25 - Batch 110/150 - Loss: 0.0000\n",
            "Epoch 14/25 - Batch 120/150 - Loss: 0.0000\n",
            "Epoch 14/25 - Batch 130/150 - Loss: 0.0000\n",
            "Epoch 14/25 - Batch 140/150 - Loss: 0.0000\n",
            "Epoch 14/25 - Batch 150/150 - Loss: 0.0000\n",
            "Epoch 14/25 - Train Loss: 0.0001 - Test Acc: 1.0000 - Test F1: 1.0000\n",
            "------------------------------------------------------------\n",
            "Epoch 15/25 - Batch 10/150 - Loss: 0.0000\n",
            "Epoch 15/25 - Batch 20/150 - Loss: 0.0000\n",
            "Epoch 15/25 - Batch 30/150 - Loss: 0.0000\n",
            "Epoch 15/25 - Batch 40/150 - Loss: 0.0000\n",
            "Epoch 15/25 - Batch 50/150 - Loss: 0.0000\n",
            "Epoch 15/25 - Batch 60/150 - Loss: 0.0000\n",
            "Epoch 15/25 - Batch 70/150 - Loss: 0.0000\n",
            "Epoch 15/25 - Batch 80/150 - Loss: 0.0000\n",
            "Epoch 15/25 - Batch 90/150 - Loss: 0.0000\n",
            "Epoch 15/25 - Batch 100/150 - Loss: 0.0000\n",
            "Epoch 15/25 - Batch 110/150 - Loss: 0.0002\n",
            "Epoch 15/25 - Batch 120/150 - Loss: 0.0004\n",
            "Epoch 15/25 - Batch 130/150 - Loss: 0.0000\n",
            "Epoch 15/25 - Batch 140/150 - Loss: 0.0017\n",
            "Epoch 15/25 - Batch 150/150 - Loss: 0.0000\n",
            "Epoch 15/25 - Train Loss: 0.0033 - Test Acc: 0.9966 - Test F1: 0.9967\n",
            "------------------------------------------------------------\n",
            "Epoch 16/25 - Batch 10/150 - Loss: 0.0411\n",
            "Epoch 16/25 - Batch 20/150 - Loss: 0.0000\n",
            "Epoch 16/25 - Batch 30/150 - Loss: 0.0012\n",
            "Epoch 16/25 - Batch 40/150 - Loss: 0.0129\n",
            "Epoch 16/25 - Batch 50/150 - Loss: 0.0000\n",
            "Epoch 16/25 - Batch 60/150 - Loss: 0.0000\n",
            "Epoch 16/25 - Batch 70/150 - Loss: 0.0000\n",
            "Epoch 16/25 - Batch 80/150 - Loss: 0.0001\n",
            "Epoch 16/25 - Batch 90/150 - Loss: 0.0002\n",
            "Epoch 16/25 - Batch 100/150 - Loss: 0.0000\n",
            "Epoch 16/25 - Batch 110/150 - Loss: 0.0000\n",
            "Epoch 16/25 - Batch 120/150 - Loss: 0.0001\n",
            "Epoch 16/25 - Batch 130/150 - Loss: 0.0002\n",
            "Epoch 16/25 - Batch 140/150 - Loss: 0.0000\n",
            "Epoch 16/25 - Batch 150/150 - Loss: 0.0000\n",
            "Epoch 16/25 - Train Loss: 0.0047 - Test Acc: 1.0000 - Test F1: 1.0000\n",
            "------------------------------------------------------------\n",
            "Epoch 17/25 - Batch 10/150 - Loss: 0.0000\n",
            "Epoch 17/25 - Batch 20/150 - Loss: 0.0000\n",
            "Epoch 17/25 - Batch 30/150 - Loss: 0.0000\n",
            "Epoch 17/25 - Batch 40/150 - Loss: 0.0000\n",
            "Epoch 17/25 - Batch 50/150 - Loss: 0.0000\n",
            "Epoch 17/25 - Batch 60/150 - Loss: 0.0000\n",
            "Epoch 17/25 - Batch 70/150 - Loss: 0.0000\n",
            "Epoch 17/25 - Batch 80/150 - Loss: 0.0000\n",
            "Epoch 17/25 - Batch 90/150 - Loss: 0.0000\n",
            "Epoch 17/25 - Batch 100/150 - Loss: 0.0000\n",
            "Epoch 17/25 - Batch 110/150 - Loss: 0.0001\n",
            "Epoch 17/25 - Batch 120/150 - Loss: 0.0000\n",
            "Epoch 17/25 - Batch 130/150 - Loss: 0.0000\n",
            "Epoch 17/25 - Batch 140/150 - Loss: 0.0000\n",
            "Epoch 17/25 - Batch 150/150 - Loss: 0.0000\n",
            "Epoch 17/25 - Train Loss: 0.0001 - Test Acc: 1.0000 - Test F1: 1.0000\n",
            "------------------------------------------------------------\n",
            "Epoch 18/25 - Batch 10/150 - Loss: 0.0000\n",
            "Epoch 18/25 - Batch 20/150 - Loss: 0.0000\n",
            "Epoch 18/25 - Batch 30/150 - Loss: 0.0000\n",
            "Epoch 18/25 - Batch 40/150 - Loss: 0.0000\n",
            "Epoch 18/25 - Batch 50/150 - Loss: 0.0000\n",
            "Epoch 18/25 - Batch 60/150 - Loss: 0.0000\n",
            "Epoch 18/25 - Batch 70/150 - Loss: 0.0000\n",
            "Epoch 18/25 - Batch 80/150 - Loss: 0.0000\n",
            "Epoch 18/25 - Batch 90/150 - Loss: 0.0000\n",
            "Epoch 18/25 - Batch 100/150 - Loss: 0.0000\n",
            "Epoch 18/25 - Batch 110/150 - Loss: 0.0000\n",
            "Epoch 18/25 - Batch 120/150 - Loss: 0.0001\n",
            "Epoch 18/25 - Batch 130/150 - Loss: 0.0002\n",
            "Epoch 18/25 - Batch 140/150 - Loss: 0.0000\n",
            "Epoch 18/25 - Batch 150/150 - Loss: 0.0001\n",
            "Epoch 18/25 - Train Loss: 0.0013 - Test Acc: 1.0000 - Test F1: 1.0000\n",
            "------------------------------------------------------------\n",
            "Epoch 19/25 - Batch 10/150 - Loss: 0.0003\n",
            "Epoch 19/25 - Batch 20/150 - Loss: 0.0004\n",
            "Epoch 19/25 - Batch 30/150 - Loss: 0.0001\n",
            "Epoch 19/25 - Batch 40/150 - Loss: 0.0000\n",
            "Epoch 19/25 - Batch 50/150 - Loss: 0.0000\n",
            "Epoch 19/25 - Batch 60/150 - Loss: 0.0000\n",
            "Epoch 19/25 - Batch 70/150 - Loss: 0.0000\n",
            "Epoch 19/25 - Batch 80/150 - Loss: 0.0000\n",
            "Epoch 19/25 - Batch 90/150 - Loss: 0.0001\n",
            "Epoch 19/25 - Batch 100/150 - Loss: 0.0000\n",
            "Epoch 19/25 - Batch 110/150 - Loss: 0.0022\n",
            "Epoch 19/25 - Batch 120/150 - Loss: 0.0000\n",
            "Epoch 19/25 - Batch 130/150 - Loss: 0.0000\n",
            "Epoch 19/25 - Batch 140/150 - Loss: 0.0000\n",
            "Epoch 19/25 - Batch 150/150 - Loss: 0.0001\n",
            "Epoch 19/25 - Train Loss: 0.0001 - Test Acc: 1.0000 - Test F1: 1.0000\n",
            "------------------------------------------------------------\n",
            "Epoch 20/25 - Batch 10/150 - Loss: 0.0000\n",
            "Epoch 20/25 - Batch 20/150 - Loss: 0.0001\n",
            "Epoch 20/25 - Batch 30/150 - Loss: 0.0001\n",
            "Epoch 20/25 - Batch 40/150 - Loss: 0.0000\n",
            "Epoch 20/25 - Batch 50/150 - Loss: 0.0000\n",
            "Epoch 20/25 - Batch 60/150 - Loss: 0.0000\n",
            "Epoch 20/25 - Batch 70/150 - Loss: 0.0001\n",
            "Epoch 20/25 - Batch 80/150 - Loss: 0.0000\n",
            "Epoch 20/25 - Batch 90/150 - Loss: 0.0000\n",
            "Epoch 20/25 - Batch 100/150 - Loss: 0.0000\n",
            "Epoch 20/25 - Batch 110/150 - Loss: 0.0000\n",
            "Epoch 20/25 - Batch 120/150 - Loss: 0.0000\n",
            "Epoch 20/25 - Batch 130/150 - Loss: 0.0000\n",
            "Epoch 20/25 - Batch 140/150 - Loss: 0.0000\n",
            "Epoch 20/25 - Batch 150/150 - Loss: 0.0000\n",
            "Epoch 20/25 - Train Loss: 0.0000 - Test Acc: 1.0000 - Test F1: 1.0000\n",
            "------------------------------------------------------------\n",
            "Epoch 21/25 - Batch 10/150 - Loss: 0.0000\n",
            "Epoch 21/25 - Batch 20/150 - Loss: 0.0000\n",
            "Epoch 21/25 - Batch 30/150 - Loss: 0.0002\n",
            "Epoch 21/25 - Batch 40/150 - Loss: 0.0000\n",
            "Epoch 21/25 - Batch 50/150 - Loss: 0.0000\n",
            "Epoch 21/25 - Batch 60/150 - Loss: 0.0000\n",
            "Epoch 21/25 - Batch 70/150 - Loss: 0.0000\n",
            "Epoch 21/25 - Batch 80/150 - Loss: 0.0001\n",
            "Epoch 21/25 - Batch 90/150 - Loss: 0.0000\n",
            "Epoch 21/25 - Batch 100/150 - Loss: 0.0000\n",
            "Epoch 21/25 - Batch 110/150 - Loss: 0.0000\n",
            "Epoch 21/25 - Batch 120/150 - Loss: 0.0001\n",
            "Epoch 21/25 - Batch 130/150 - Loss: 0.0000\n",
            "Epoch 21/25 - Batch 140/150 - Loss: 0.0000\n",
            "Epoch 21/25 - Batch 150/150 - Loss: 0.0000\n",
            "Epoch 21/25 - Train Loss: 0.0000 - Test Acc: 1.0000 - Test F1: 1.0000\n",
            "------------------------------------------------------------\n",
            "Epoch 22/25 - Batch 10/150 - Loss: 0.0000\n",
            "Epoch 22/25 - Batch 20/150 - Loss: 0.0000\n",
            "Epoch 22/25 - Batch 30/150 - Loss: 0.0001\n",
            "Epoch 22/25 - Batch 40/150 - Loss: 0.0000\n",
            "Epoch 22/25 - Batch 50/150 - Loss: 0.0000\n",
            "Epoch 22/25 - Batch 60/150 - Loss: 0.0000\n",
            "Epoch 22/25 - Batch 70/150 - Loss: 0.0000\n",
            "Epoch 22/25 - Batch 80/150 - Loss: 0.0000\n",
            "Epoch 22/25 - Batch 90/150 - Loss: 0.0000\n",
            "Epoch 22/25 - Batch 100/150 - Loss: 0.0000\n",
            "Epoch 22/25 - Batch 110/150 - Loss: 0.0000\n",
            "Epoch 22/25 - Batch 120/150 - Loss: 0.0000\n",
            "Epoch 22/25 - Batch 130/150 - Loss: 0.0000\n",
            "Epoch 22/25 - Batch 140/150 - Loss: 0.0000\n",
            "Epoch 22/25 - Batch 150/150 - Loss: 0.0000\n",
            "Epoch 22/25 - Train Loss: 0.0000 - Test Acc: 1.0000 - Test F1: 1.0000\n",
            "------------------------------------------------------------\n",
            "Epoch 23/25 - Batch 10/150 - Loss: 0.0000\n",
            "Epoch 23/25 - Batch 20/150 - Loss: 0.0000\n",
            "Epoch 23/25 - Batch 30/150 - Loss: 0.0000\n",
            "Epoch 23/25 - Batch 40/150 - Loss: 0.0000\n",
            "Epoch 23/25 - Batch 50/150 - Loss: 0.0000\n",
            "Epoch 23/25 - Batch 60/150 - Loss: 0.0000\n",
            "Epoch 23/25 - Batch 70/150 - Loss: 0.0000\n",
            "Epoch 23/25 - Batch 80/150 - Loss: 0.0001\n",
            "Epoch 23/25 - Batch 90/150 - Loss: 0.0000\n",
            "Epoch 23/25 - Batch 100/150 - Loss: 0.0000\n",
            "Epoch 23/25 - Batch 110/150 - Loss: 0.0000\n",
            "Epoch 23/25 - Batch 120/150 - Loss: 0.0000\n",
            "Epoch 23/25 - Batch 130/150 - Loss: 0.0000\n",
            "Epoch 23/25 - Batch 140/150 - Loss: 0.0000\n",
            "Epoch 23/25 - Batch 150/150 - Loss: 0.0000\n",
            "Epoch 23/25 - Train Loss: 0.0000 - Test Acc: 1.0000 - Test F1: 1.0000\n",
            "------------------------------------------------------------\n",
            "Epoch 24/25 - Batch 10/150 - Loss: 0.0000\n",
            "Epoch 24/25 - Batch 20/150 - Loss: 0.0000\n",
            "Epoch 24/25 - Batch 30/150 - Loss: 0.0000\n",
            "Epoch 24/25 - Batch 40/150 - Loss: 0.0000\n",
            "Epoch 24/25 - Batch 50/150 - Loss: 0.0000\n",
            "Epoch 24/25 - Batch 60/150 - Loss: 0.0000\n",
            "Epoch 24/25 - Batch 70/150 - Loss: 0.0000\n",
            "Epoch 24/25 - Batch 80/150 - Loss: 0.0000\n",
            "Epoch 24/25 - Batch 90/150 - Loss: 0.0000\n",
            "Epoch 24/25 - Batch 100/150 - Loss: 0.0000\n",
            "Epoch 24/25 - Batch 110/150 - Loss: 0.0000\n",
            "Epoch 24/25 - Batch 120/150 - Loss: 0.0000\n",
            "Epoch 24/25 - Batch 130/150 - Loss: 0.0000\n",
            "Epoch 24/25 - Batch 140/150 - Loss: 0.0000\n",
            "Epoch 24/25 - Batch 150/150 - Loss: 0.0000\n",
            "Epoch 24/25 - Train Loss: 0.0000 - Test Acc: 1.0000 - Test F1: 1.0000\n",
            "------------------------------------------------------------\n",
            "Epoch 25/25 - Batch 10/150 - Loss: 0.0000\n",
            "Epoch 25/25 - Batch 20/150 - Loss: 0.0000\n",
            "Epoch 25/25 - Batch 30/150 - Loss: 0.0002\n",
            "Epoch 25/25 - Batch 40/150 - Loss: 0.0000\n",
            "Epoch 25/25 - Batch 50/150 - Loss: 0.0000\n",
            "Epoch 25/25 - Batch 60/150 - Loss: 0.0001\n",
            "Epoch 25/25 - Batch 70/150 - Loss: 0.0000\n",
            "Epoch 25/25 - Batch 80/150 - Loss: 0.0000\n",
            "Epoch 25/25 - Batch 90/150 - Loss: 0.0000\n",
            "Epoch 25/25 - Batch 100/150 - Loss: 0.0000\n",
            "Epoch 25/25 - Batch 110/150 - Loss: 0.0000\n",
            "Epoch 25/25 - Batch 120/150 - Loss: 0.0000\n",
            "Epoch 25/25 - Batch 130/150 - Loss: 0.0000\n",
            "Epoch 25/25 - Batch 140/150 - Loss: 0.0000\n",
            "Epoch 25/25 - Batch 150/150 - Loss: 0.0000\n",
            "Epoch 25/25 - Train Loss: 0.0000 - Test Acc: 1.0000 - Test F1: 1.0000\n",
            "------------------------------------------------------------\n",
            "\n",
            "Training completed! Best test accuracy: 1.0000\n"
          ]
        }
      ]
    },
    {
      "cell_type": "code",
      "source": [
        "\"\"\"\n",
        "Modified MRI ViT training script for direct dataset usage\n",
        "\n",
        "- Automatically creates train/test splits from your dataset structure\n",
        "- No text files needed - works directly with image folders\n",
        "- Configured for your AD/CN/MCI-1 classification task\n",
        "\"\"\"\n",
        "\n",
        "import os\n",
        "import random\n",
        "from pathlib import Path\n",
        "from typing import Dict, List, Tuple\n",
        "from sklearn.model_selection import train_test_split\n",
        "\n",
        "import timm\n",
        "import torch\n",
        "import torch.nn as nn\n",
        "from torch.utils.data import Dataset, DataLoader\n",
        "from PIL import Image\n",
        "import numpy as np\n",
        "import csv\n",
        "\n",
        "# ------------------------- utils -------------------------\n",
        "\n",
        "def set_seed(seed: int = 42):\n",
        "    random.seed(seed)\n",
        "    os.environ[\"PYTHONHASHSEED\"] = str(seed)\n",
        "    torch.manual_seed(seed)\n",
        "    torch.cuda.manual_seed_all(seed)\n",
        "    torch.backends.cudnn.deterministic = False\n",
        "    torch.backends.cudnn.benchmark = True\n",
        "\n",
        "def explore_dataset_structure(data_root: Path):\n",
        "    \"\"\"\n",
        "    Debug function to explore the actual dataset structure\n",
        "    \"\"\"\n",
        "    print(f\"Exploring dataset structure at: {data_root}\")\n",
        "    print(f\"Dataset root exists: {data_root.exists()}\")\n",
        "\n",
        "    if data_root.exists():\n",
        "        print(\"\\nContents of dataset root:\")\n",
        "        for item in data_root.iterdir():\n",
        "            print(f\"  {item.name} ({'directory' if item.is_dir() else 'file'})\")\n",
        "\n",
        "        # Check if there's a Data folder\n",
        "        data_folder = data_root / \"Data\"\n",
        "        print(f\"\\nData folder exists: {data_folder.exists()}\")\n",
        "\n",
        "        if data_folder.exists():\n",
        "            print(\"\\nContents of Data folder:\")\n",
        "            for item in data_folder.iterdir():\n",
        "                print(f\"  {item.name} ({'directory' if item.is_dir() else 'file'})\")\n",
        "\n",
        "                # If it's a directory, check its contents\n",
        "                if item.is_dir():\n",
        "                    print(f\"    Contents of {item.name}:\")\n",
        "                    try:\n",
        "                        files = list(item.glob(\"*\"))\n",
        "                        print(f\"      Total files: {len(files)}\")\n",
        "                        image_files = [f for f in files if f.suffix.lower() in ['.png', '.jpg', '.jpeg', '.bmp', '.tif', '.tiff']]\n",
        "                        print(f\"      Image files: {len(image_files)}\")\n",
        "                        if image_files:\n",
        "                            print(f\"      First few images: {[f.name for f in image_files[:3]]}\")\n",
        "                    except Exception as e:\n",
        "                        print(f\"      Error reading folder: {e}\")\n",
        "\n",
        "def create_dataset_splits(data_root: Path, test_size: float = 0.2, random_state: int = 42):\n",
        "    \"\"\"\n",
        "    Create train/test splits from your dataset structure\n",
        "    \"\"\"\n",
        "\n",
        "    # First, explore the structure\n",
        "    explore_dataset_structure(data_root)\n",
        "\n",
        "    # Define class mapping\n",
        "    class_mapping = {'AD': 0, 'CN': 1, 'MCI-1': 2}\n",
        "\n",
        "    all_samples = []\n",
        "\n",
        "    # Try different possible structures\n",
        "    possible_structures = [\n",
        "        data_root / \"Data\" / \"Data\",  # Your actual structure\n",
        "        data_root / \"Data\",  # Original assumption\n",
        "        data_root,           # Direct in root\n",
        "        data_root / \"dataset\" / \"Data\",  # Nested dataset\n",
        "    ]\n",
        "\n",
        "    data_folder = None\n",
        "    for structure in possible_structures:\n",
        "        print(f\"\\nTrying structure: {structure}\")\n",
        "        if structure.exists():\n",
        "            # Check if it has the class folders\n",
        "            class_folders_exist = all((structure / class_name).exists() for class_name in ['AD', 'CN', 'MCI-1'])\n",
        "            if class_folders_exist:\n",
        "                data_folder = structure\n",
        "                print(f\"Found valid structure at: {data_folder}\")\n",
        "                break\n",
        "\n",
        "    if data_folder is None:\n",
        "        print(\"Could not find a valid dataset structure with AD, CN, MCI-1 folders\")\n",
        "\n",
        "        # Let's try to find any folders with images\n",
        "        print(\"\\nSearching for any folders with images...\")\n",
        "        for root in [data_root, data_root / \"Data\", data_root / \"dataset\"]:\n",
        "            if root.exists():\n",
        "                for item in root.rglob(\"*\"):\n",
        "                    if item.is_dir():\n",
        "                        image_files = list(item.glob(\"*.png\")) + list(item.glob(\"*.jpg\")) + list(item.glob(\"*.jpeg\"))\n",
        "                        if len(image_files) > 0:\n",
        "                            print(f\"Found {len(image_files)} images in: {item}\")\n",
        "\n",
        "        raise ValueError(\"No valid dataset structure found! Please check your dataset path and folder names.\")\n",
        "\n",
        "    # Collect all images from each class folder\n",
        "    for class_name in ['AD', 'CN', 'MCI-1']:\n",
        "        class_folder = data_folder / class_name\n",
        "        if class_folder.exists():\n",
        "            image_files = []\n",
        "            for ext in ['.png', '.jpg', '.jpeg', '.bmp', '.tif', '.tiff']:\n",
        "                image_files.extend(class_folder.glob(f\"*{ext}\"))\n",
        "                image_files.extend(class_folder.glob(f\"*{ext.upper()}\"))\n",
        "\n",
        "            for img_file in image_files:\n",
        "                all_samples.append((str(img_file), class_mapping[class_name]))\n",
        "\n",
        "            print(f\"Found {len(image_files)} images in {class_name}\")\n",
        "        else:\n",
        "            print(f\"Warning: {class_name} folder not found at {class_folder}\")\n",
        "\n",
        "    print(f\"Total samples found: {len(all_samples)}\")\n",
        "\n",
        "    # Create train/test split\n",
        "    if len(all_samples) == 0:\n",
        "        raise ValueError(\"No images found! Please check your dataset path and structure.\")\n",
        "\n",
        "    train_samples, test_samples = train_test_split(\n",
        "        all_samples,\n",
        "        test_size=test_size,\n",
        "        random_state=random_state,\n",
        "        stratify=[sample[1] for sample in all_samples]  # Stratify by class\n",
        "    )\n",
        "\n",
        "    print(f\"Train samples: {len(train_samples)}\")\n",
        "    print(f\"Test samples: {len(test_samples)}\")\n",
        "\n",
        "    return train_samples, test_samples\n",
        "\n",
        "# ------------------------- dataset -------------------------\n",
        "class MRIImageDataset(Dataset):\n",
        "    def __init__(self, samples: List[Tuple[str, int]], rgb: bool = True, image_size: int = 224, is_training: bool = True):\n",
        "        self.samples = samples\n",
        "        self.rgb = rgb\n",
        "        self.image_size = image_size\n",
        "        self.is_training = is_training\n",
        "\n",
        "    def __len__(self):\n",
        "        return len(self.samples)\n",
        "\n",
        "    def __getitem__(self, idx):\n",
        "        img_path, label = self.samples[idx]\n",
        "\n",
        "        try:\n",
        "            img = Image.open(img_path)\n",
        "            img = img.convert(\"RGB\") if self.rgb else img.convert(\"L\")\n",
        "            img = img.resize((self.image_size, self.image_size), Image.BILINEAR)\n",
        "\n",
        "            # Data augmentation for training\n",
        "            if self.is_training:\n",
        "                if random.random() < 0.5:\n",
        "                    img = img.transpose(Image.FLIP_LEFT_RIGHT)\n",
        "                if random.random() < 0.3:\n",
        "                    img = img.rotate(random.uniform(-10, 10), resample=Image.BILINEAR)\n",
        "\n",
        "            # Convert to tensor\n",
        "            t = torch.from_numpy(np.array(img))\n",
        "            if t.ndim == 2:\n",
        "                t = t.unsqueeze(-1)\n",
        "            t = t.permute(2, 0, 1).float() / 255.0\n",
        "\n",
        "            # Normalize\n",
        "            if self.rgb:\n",
        "                mean = torch.tensor([0.485, 0.456, 0.406]).view(3, 1, 1)\n",
        "                std = torch.tensor([0.229, 0.224, 0.225]).view(3, 1, 1)\n",
        "            else:\n",
        "                mean = torch.tensor([0.5]).view(1, 1, 1)\n",
        "                std = torch.tensor([0.5]).view(1, 1, 1)\n",
        "            t = (t - mean) / std\n",
        "\n",
        "            return t, label\n",
        "\n",
        "        except Exception as e:\n",
        "            print(f\"Error loading image {img_path}: {e}\")\n",
        "            # Return a dummy tensor if image loading fails\n",
        "            if self.rgb:\n",
        "                dummy_tensor = torch.zeros((3, self.image_size, self.image_size))\n",
        "            else:\n",
        "                dummy_tensor = torch.zeros((1, self.image_size, self.image_size))\n",
        "            return dummy_tensor, label\n",
        "\n",
        "## ------------------------- model -------------------------\n",
        "class ViTMRI(nn.Module):\n",
        "    def __init__(self, num_classes: int, in_chans: int = 3, model_name: str = \"vit_base_patch16_224\"):\n",
        "        super().__init__()\n",
        "        self.backbone = timm.create_model(\n",
        "            model_name,\n",
        "            pretrained=True,\n",
        "            in_chans=in_chans,\n",
        "            num_classes=num_classes\n",
        "        )\n",
        "        # Add dropout to help generalization\n",
        "        if hasattr(self.backbone, 'head'):\n",
        "            in_features = self.backbone.head.in_features\n",
        "            self.backbone.head = nn.Sequential(\n",
        "                nn.Dropout(0.4),  # Dropout before final classification\n",
        "                nn.Linear(in_features, num_classes)\n",
        "            )\n",
        "\n",
        "    def forward(self, x):\n",
        "        return self.backbone(x)\n",
        "\n",
        "\n",
        "# ------------------------- dataset -------------------------\n",
        "class MRIImageDataset(Dataset):\n",
        "    def __init__(self, samples: List[Tuple[str, int]], rgb: bool = True, image_size: int = 224, is_training: bool = True):\n",
        "        self.samples = samples\n",
        "        self.rgb = rgb\n",
        "        self.image_size = image_size\n",
        "        self.is_training = is_training\n",
        "\n",
        "    def __len__(self):\n",
        "        return len(self.samples)\n",
        "\n",
        "    def __getitem__(self, idx):\n",
        "        img_path, label = self.samples[idx]\n",
        "\n",
        "        try:\n",
        "            img = Image.open(img_path)\n",
        "            img = img.convert(\"RGB\") if self.rgb else img.convert(\"L\")\n",
        "\n",
        "            if self.is_training:\n",
        "                # Stronger augmentation\n",
        "                if random.random() < 0.5:\n",
        "                    img = img.transpose(Image.FLIP_LEFT_RIGHT)\n",
        "                if random.random() < 0.3:\n",
        "                    img = img.rotate(random.uniform(-15, 15), resample=Image.BILINEAR)\n",
        "                if random.random() < 0.3:\n",
        "                    img = img.transform(\n",
        "                        img.size, Image.AFFINE,\n",
        "                        (1, random.uniform(-0.1, 0.1), 0, random.uniform(-0.1, 0.1), 1, 0),\n",
        "                        resample=Image.BILINEAR\n",
        "                    )\n",
        "                if random.random() < 0.4:\n",
        "                    factor = random.uniform(0.8, 1.2)\n",
        "                    img = Image.fromarray(np.clip(np.array(img) * factor, 0, 255).astype(np.uint8))\n",
        "\n",
        "            img = img.resize((self.image_size, self.image_size), Image.BILINEAR)\n",
        "\n",
        "            # Convert to tensor\n",
        "            t = torch.from_numpy(np.array(img))\n",
        "            if t.ndim == 2:\n",
        "                t = t.unsqueeze(-1)\n",
        "            t = t.permute(2, 0, 1).float() / 255.0\n",
        "\n",
        "            # Normalize\n",
        "            if self.rgb:\n",
        "                mean = torch.tensor([0.485, 0.456, 0.406]).view(3, 1, 1)\n",
        "                std = torch.tensor([0.229, 0.224, 0.225]).view(3, 1, 1)\n",
        "            else:\n",
        "                mean = torch.tensor([0.5]).view(1, 1, 1)\n",
        "                std = torch.tensor([0.5]).view(1, 1, 1)\n",
        "            t = (t - mean) / std\n",
        "\n",
        "            return t, label\n",
        "\n",
        "        except Exception as e:\n",
        "            print(f\"Error loading image {img_path}: {e}\")\n",
        "            dummy_tensor = torch.zeros((3 if self.rgb else 1, self.image_size, self.image_size))\n",
        "            return dummy_tensor, label\n",
        "\n",
        "\n",
        "# ------------------------- training -------------------------\n",
        "def train(args):\n",
        "    set_seed(args.seed)\n",
        "    device = torch.device(\"cuda\" if torch.cuda.is_available() else \"cpu\")\n",
        "    print(f\"Using device: {device}\")\n",
        "\n",
        "    train_samples, test_samples = create_dataset_splits(\n",
        "        Path(args.data_root),\n",
        "        test_size=args.test_size,\n",
        "        random_state=args.seed\n",
        "    )\n",
        "\n",
        "    train_ds = MRIImageDataset(train_samples, args.rgb, args.image_size, is_training=True)\n",
        "    test_ds = MRIImageDataset(test_samples, args.rgb, args.image_size, is_training=False)\n",
        "\n",
        "    train_loader = DataLoader(train_ds, batch_size=args.batch_size, shuffle=True, num_workers=args.workers, pin_memory=True)\n",
        "    test_loader = DataLoader(test_ds, batch_size=args.batch_size, shuffle=False, num_workers=args.workers, pin_memory=True)\n",
        "\n",
        "    model = ViTMRI(num_classes=args.num_classes, in_chans=(3 if args.rgb else 1), model_name=args.model_name).to(device)\n",
        "    print(f\"Model created: {args.model_name}\")\n",
        "    print(f\"Number of parameters: {sum(p.numel() for p in model.parameters()):,}\")\n",
        "\n",
        "    criterion = nn.CrossEntropyLoss(label_smoothing=0.1)  # Label smoothing\n",
        "    optimizer = torch.optim.AdamW(model.parameters(), lr=args.lr, weight_decay=args.weight_decay)\n",
        "    scheduler = torch.optim.lr_scheduler.CosineAnnealingLR(optimizer, T_max=args.epochs)\n",
        "    scaler = torch.cuda.amp.GradScaler(enabled=args.amp)\n",
        "\n",
        "    best_acc = 0.0\n",
        "    patience = 5  # Early stopping patience\n",
        "    patience_counter = 0\n",
        "\n",
        "    with open(\"training_log.csv\", \"w\", newline=\"\") as f:\n",
        "        csv.writer(f).writerow([\"epoch\", \"train_loss\", \"test_acc\", \"test_f1\", \"lr\"])\n",
        "\n",
        "    print(f\"\\nStarting training for {args.epochs} epochs...\\n{'-' * 60}\")\n",
        "    for epoch in range(1, args.epochs + 1):\n",
        "        model.train()\n",
        "        running_loss = 0.0\n",
        "        num_batches = 0\n",
        "\n",
        "        for batch_idx, (x, y) in enumerate(train_loader):\n",
        "            x = x.to(device)\n",
        "            y = torch.tensor(y, device=device, dtype=torch.long)\n",
        "\n",
        "            optimizer.zero_grad(set_to_none=True)\n",
        "            with torch.cuda.amp.autocast(enabled=args.amp):\n",
        "                logits = model(x)\n",
        "                loss = criterion(logits, y)\n",
        "\n",
        "            scaler.scale(loss).backward()\n",
        "            scaler.step(optimizer)\n",
        "            scaler.update()\n",
        "\n",
        "            running_loss += loss.item()\n",
        "            num_batches += 1\n",
        "\n",
        "        scheduler.step()\n",
        "        train_loss = running_loss / max(num_batches, 1)\n",
        "        test_acc, test_f1 = evaluate(model, test_loader, device)\n",
        "\n",
        "        with open(\"training_log.csv\", \"a\", newline=\"\") as f:\n",
        "            csv.writer(f).writerow([epoch, f\"{train_loss:.6f}\", f\"{test_acc:.4f}\", f\"{test_f1:.4f}\", f\"{scheduler.get_last_lr()[0]:.6f}\"])\n",
        "\n",
        "        print(f\"Epoch {epoch} - Train Loss: {train_loss:.4f} | Test Acc: {test_acc:.4f} | Test F1: {test_f1:.4f}\")\n",
        "\n",
        "        if test_acc > best_acc:\n",
        "            best_acc = test_acc\n",
        "            patience_counter = 0\n",
        "            torch.save(model.state_dict(), \"best_mri_vit.pth\")\n",
        "            print(f\"[+] Saved best model (acc={best_acc:.4f})\")\n",
        "        else:\n",
        "            patience_counter += 1\n",
        "            if patience_counter >= patience:\n",
        "                print(\"Early stopping triggered.\")\n",
        "                break\n",
        "\n",
        "        print(\"-\" * 60)\n",
        "\n",
        "\n",
        "# ------------------------- configuration -------------------------\n",
        "class Args:\n",
        "    data_root = \"/content/dataset\"\n",
        "    batch_size = 16\n",
        "    workers = 2\n",
        "    lr = 3e-5  # Lower LR for better generalization\n",
        "    weight_decay = 5e-4  # Stronger regularization\n",
        "    num_classes = 3\n",
        "    epochs = 50\n",
        "    seed = 42\n",
        "    model_name = \"vit_base_patch16_224\"\n",
        "    rgb = True\n",
        "    image_size = 224\n",
        "    test_size = 0.2\n",
        "    amp = True\n",
        "\n",
        "if __name__ == \"__main__\":\n",
        "    train(Args)\n"
      ],
      "metadata": {
        "colab": {
          "base_uri": "https://localhost:8080/"
        },
        "id": "XNC_nXRB4c_U",
        "outputId": "b36f9b1d-412c-470f-d391-6764c3f3b806"
      },
      "execution_count": null,
      "outputs": [
        {
          "output_type": "stream",
          "name": "stdout",
          "text": [
            "Using device: cuda\n",
            "Exploring dataset structure at: /content/dataset\n",
            "Dataset root exists: True\n",
            "\n",
            "Contents of dataset root:\n",
            "  Data (directory)\n",
            "\n",
            "Data folder exists: True\n",
            "\n",
            "Contents of Data folder:\n",
            "  Data (directory)\n",
            "    Contents of Data:\n",
            "      Total files: 3\n",
            "      Image files: 0\n",
            "\n",
            "Trying structure: /content/dataset/Data/Data\n",
            "Found valid structure at: /content/dataset/Data/Data\n",
            "Found 917 images in AD\n",
            "Found 931 images in CN\n",
            "Found 1134 images in MCI-1\n",
            "Total samples found: 2982\n",
            "Train samples: 2385\n",
            "Test samples: 597\n",
            "Model created: vit_base_patch16_224\n",
            "Number of parameters: 85,800,963\n",
            "\n",
            "Starting training for 50 epochs...\n",
            "------------------------------------------------------------\n"
          ]
        },
        {
          "output_type": "stream",
          "name": "stderr",
          "text": [
            "/tmp/ipython-input-3745263517.py:306: FutureWarning: `torch.cuda.amp.GradScaler(args...)` is deprecated. Please use `torch.amp.GradScaler('cuda', args...)` instead.\n",
            "  scaler = torch.cuda.amp.GradScaler(enabled=args.amp)\n",
            "/tmp/ipython-input-3745263517.py:323: UserWarning: To copy construct from a tensor, it is recommended to use sourceTensor.clone().detach() or sourceTensor.clone().detach().requires_grad_(True), rather than torch.tensor(sourceTensor).\n",
            "  y = torch.tensor(y, device=device, dtype=torch.long)\n",
            "/tmp/ipython-input-3745263517.py:326: FutureWarning: `torch.cuda.amp.autocast(args...)` is deprecated. Please use `torch.amp.autocast('cuda', args...)` instead.\n",
            "  with torch.cuda.amp.autocast(enabled=args.amp):\n",
            "/tmp/ipython-input-2832239612.py:222: UserWarning: To copy construct from a tensor, it is recommended to use sourceTensor.clone().detach() or sourceTensor.clone().detach().requires_grad_(True), rather than torch.tensor(sourceTensor).\n",
            "  x, y = x.to(device), torch.tensor(y, device=device, dtype=torch.long)\n"
          ]
        },
        {
          "output_type": "stream",
          "name": "stdout",
          "text": [
            "Epoch 1 - Train Loss: 0.6989 | Test Acc: 0.9983 | Test F1: 0.9982\n",
            "[+] Saved best model (acc=0.9983)\n",
            "------------------------------------------------------------\n",
            "Epoch 2 - Train Loss: 0.3262 | Test Acc: 0.9966 | Test F1: 0.9967\n",
            "------------------------------------------------------------\n",
            "Epoch 3 - Train Loss: 0.3338 | Test Acc: 0.9950 | Test F1: 0.9946\n",
            "------------------------------------------------------------\n",
            "Epoch 4 - Train Loss: 0.3439 | Test Acc: 1.0000 | Test F1: 1.0000\n",
            "[+] Saved best model (acc=1.0000)\n",
            "------------------------------------------------------------\n",
            "Epoch 5 - Train Loss: 0.3265 | Test Acc: 0.9966 | Test F1: 0.9964\n",
            "------------------------------------------------------------\n",
            "Epoch 6 - Train Loss: 0.3020 | Test Acc: 1.0000 | Test F1: 1.0000\n",
            "------------------------------------------------------------\n",
            "Epoch 7 - Train Loss: 0.2990 | Test Acc: 1.0000 | Test F1: 1.0000\n",
            "------------------------------------------------------------\n",
            "Epoch 8 - Train Loss: 0.2991 | Test Acc: 1.0000 | Test F1: 1.0000\n",
            "------------------------------------------------------------\n",
            "Epoch 9 - Train Loss: 0.3058 | Test Acc: 0.9950 | Test F1: 0.9951\n",
            "Early stopping triggered.\n"
          ]
        }
      ]
    },
    {
      "cell_type": "code",
      "source": [
        "import os\n",
        "import torch\n",
        "import torch.nn as nn\n",
        "import torch.optim as optim\n",
        "from torch.utils.data import DataLoader, random_split\n",
        "from torchvision import transforms, datasets\n",
        "import numpy as np\n",
        "from transformers import SwinForImageClassification\n",
        "from sklearn.metrics import accuracy_score, f1_score\n",
        "\n",
        "# -----------------------------\n",
        "# Config\n",
        "# -----------------------------\n",
        "class Args:\n",
        "    data_root = \"/content/dataset/Data/Data\"   # root folder with subfolders per class\n",
        "    batch_size = 8\n",
        "    num_workers = 2\n",
        "    lr = 1e-4\n",
        "    num_epochs = 30\n",
        "    patience = 5     # Early stopping patience\n",
        "    device = \"cuda\" if torch.cuda.is_available() else \"cpu\"\n",
        "    amp = True\n",
        "\n",
        "# -----------------------------\n",
        "# Model: Swin-Tiny with Dropout\n",
        "# -----------------------------\n",
        "class SwinTinyModel(nn.Module):\n",
        "    def __init__(self, num_classes=3, dropout=0.3):\n",
        "        super().__init__()\n",
        "        self.swin = SwinForImageClassification.from_pretrained(\n",
        "            \"microsoft/swin-tiny-patch4-window7-224\",\n",
        "            num_labels=num_classes,\n",
        "            ignore_mismatched_sizes=True\n",
        "        )\n",
        "        # Replace classifier with Dropout + Linear\n",
        "        in_features = self.swin.classifier.in_features\n",
        "        self.swin.classifier = nn.Sequential(\n",
        "            nn.Dropout(dropout),\n",
        "            nn.Linear(in_features, num_classes)\n",
        "        )\n",
        "\n",
        "    def forward(self, img):\n",
        "        return self.swin(img).logits\n",
        "\n",
        "# -----------------------------\n",
        "# Training\n",
        "# -----------------------------\n",
        "def train_model():\n",
        "    # ✅ Strong augmentations\n",
        "    transform = transforms.Compose([\n",
        "        transforms.Resize((224, 224)),\n",
        "        transforms.RandomHorizontalFlip(p=0.5),\n",
        "        transforms.RandomRotation(15),\n",
        "        transforms.ColorJitter(brightness=0.2, contrast=0.2, saturation=0.2, hue=0.1),\n",
        "        transforms.RandomAffine(degrees=0, translate=(0.1, 0.1)),  # small shifts\n",
        "        transforms.RandomResizedCrop(224, scale=(0.8, 1.0)),\n",
        "        transforms.ToTensor(),\n",
        "        transforms.Normalize([0.5, 0.5, 0.5], [0.5, 0.5, 0.5])\n",
        "    ])\n",
        "\n",
        "    # Load dataset\n",
        "    dataset = datasets.ImageFolder(root=Args.data_root, transform=transform)\n",
        "    num_classes = len(dataset.classes)\n",
        "    print(f\"Found {len(dataset)} images across {num_classes} classes: {dataset.classes}\")\n",
        "\n",
        "    # Train/Val/Test split\n",
        "    n_total = len(dataset)\n",
        "    n_train = int(0.7 * n_total)\n",
        "    n_val = int(0.15 * n_total)\n",
        "    n_test = n_total - n_train - n_val\n",
        "    train_ds, val_ds, test_ds = random_split(dataset, [n_train, n_val, n_test])\n",
        "\n",
        "    train_loader = DataLoader(train_ds, batch_size=Args.batch_size, shuffle=True, num_workers=Args.num_workers)\n",
        "    val_loader = DataLoader(val_ds, batch_size=Args.batch_size, shuffle=False, num_workers=Args.num_workers)\n",
        "    test_loader = DataLoader(test_ds, batch_size=Args.batch_size, shuffle=False, num_workers=Args.num_workers)\n",
        "\n",
        "    # Model, loss, optimizer\n",
        "    model = SwinTinyModel(num_classes=num_classes, dropout=0.3).to(Args.device)\n",
        "    criterion = nn.CrossEntropyLoss()\n",
        "    optimizer = optim.AdamW(model.parameters(), lr=Args.lr, weight_decay=1e-4)\n",
        "    scheduler = optim.lr_scheduler.ReduceLROnPlateau(optimizer, mode=\"min\", factor=0.5, patience=2)\n",
        "    scaler = torch.amp.GradScaler(\"cuda\", enabled=Args.amp)\n",
        "\n",
        "    # -----------------------------\n",
        "    # Training loop with Early Stopping\n",
        "    # -----------------------------\n",
        "    best_acc = 0.0\n",
        "    best_loss = np.inf\n",
        "    patience_counter = 0\n",
        "\n",
        "    for epoch in range(Args.num_epochs):\n",
        "        model.train()\n",
        "        train_losses = []\n",
        "        for imgs, labels in train_loader:\n",
        "            imgs, labels = imgs.to(Args.device), labels.to(Args.device)\n",
        "\n",
        "            optimizer.zero_grad()\n",
        "            with torch.amp.autocast(\"cuda\", enabled=Args.amp):\n",
        "                outputs = model(imgs)\n",
        "                loss = criterion(outputs, labels)\n",
        "\n",
        "            scaler.scale(loss).backward()\n",
        "            scaler.step(optimizer)\n",
        "            scaler.update()\n",
        "            train_losses.append(loss.item())\n",
        "\n",
        "        # Validation\n",
        "        model.eval()\n",
        "        val_losses = []\n",
        "        y_true, y_pred = [], []\n",
        "        with torch.no_grad():\n",
        "            for imgs, labels in val_loader:\n",
        "                imgs, labels = imgs.to(Args.device), labels.to(Args.device)\n",
        "                outputs = model(imgs)\n",
        "                loss = criterion(outputs, labels)\n",
        "                val_losses.append(loss.item())\n",
        "\n",
        "                preds = outputs.argmax(1)\n",
        "                y_true.extend(labels.cpu().numpy())\n",
        "                y_pred.extend(preds.cpu().numpy())\n",
        "\n",
        "        acc = accuracy_score(y_true, y_pred)\n",
        "        f1 = f1_score(y_true, y_pred, average=\"weighted\")\n",
        "        val_loss = np.mean(val_losses)\n",
        "        scheduler.step(val_loss)\n",
        "\n",
        "        print(f\"Epoch {epoch+1} - \"\n",
        "              f\"Train Loss: {np.mean(train_losses):.4f} | \"\n",
        "              f\"Val Loss: {val_loss:.4f} | \"\n",
        "              f\"Val Acc: {acc:.4f} | Val F1: {f1:.4f}\")\n",
        "\n",
        "        # Save best model\n",
        "        if acc > best_acc:\n",
        "            best_acc = acc\n",
        "            best_loss = val_loss\n",
        "            patience_counter = 0\n",
        "            torch.save(model.state_dict(), \"best_swin_model.pth\")\n",
        "            print(f\"[+] Saved best model (acc={acc:.4f}, loss={val_loss:.4f})\")\n",
        "        else:\n",
        "            patience_counter += 1\n",
        "\n",
        "        # Early stopping\n",
        "        if patience_counter >= Args.patience:\n",
        "            print(\"Early stopping triggered.\")\n",
        "            break\n",
        "\n",
        "if __name__ == \"__main__\":\n",
        "    train_model()\n"
      ],
      "metadata": {
        "colab": {
          "base_uri": "https://localhost:8080/",
          "height": 446
        },
        "id": "zucZCiFJ49Hi",
        "outputId": "06a7f43f-d9ea-4102-d473-b933468ceb33"
      },
      "execution_count": 8,
      "outputs": [
        {
          "output_type": "stream",
          "name": "stdout",
          "text": [
            "Found 2982 images across 3 classes: ['AD', 'CN', 'MCI-1']\n"
          ]
        },
        {
          "output_type": "stream",
          "name": "stderr",
          "text": [
            "Some weights of SwinForImageClassification were not initialized from the model checkpoint at microsoft/swin-tiny-patch4-window7-224 and are newly initialized because the shapes did not match:\n",
            "- classifier.bias: found shape torch.Size([1000]) in the checkpoint and torch.Size([3]) in the model instantiated\n",
            "- classifier.weight: found shape torch.Size([1000, 768]) in the checkpoint and torch.Size([3, 768]) in the model instantiated\n",
            "You should probably TRAIN this model on a down-stream task to be able to use it for predictions and inference.\n"
          ]
        },
        {
          "output_type": "error",
          "ename": "KeyboardInterrupt",
          "evalue": "",
          "traceback": [
            "\u001b[0;31m---------------------------------------------------------------------------\u001b[0m",
            "\u001b[0;31mKeyboardInterrupt\u001b[0m                         Traceback (most recent call last)",
            "\u001b[0;32m/tmp/ipython-input-4283399569.py\u001b[0m in \u001b[0;36m<cell line: 0>\u001b[0;34m()\u001b[0m\n\u001b[1;32m    146\u001b[0m \u001b[0;34m\u001b[0m\u001b[0m\n\u001b[1;32m    147\u001b[0m \u001b[0;32mif\u001b[0m \u001b[0m__name__\u001b[0m \u001b[0;34m==\u001b[0m \u001b[0;34m\"__main__\"\u001b[0m\u001b[0;34m:\u001b[0m\u001b[0;34m\u001b[0m\u001b[0;34m\u001b[0m\u001b[0m\n\u001b[0;32m--> 148\u001b[0;31m     \u001b[0mtrain_model\u001b[0m\u001b[0;34m(\u001b[0m\u001b[0;34m)\u001b[0m\u001b[0;34m\u001b[0m\u001b[0;34m\u001b[0m\u001b[0m\n\u001b[0m",
            "\u001b[0;32m/tmp/ipython-input-4283399569.py\u001b[0m in \u001b[0;36mtrain_model\u001b[0;34m()\u001b[0m\n\u001b[1;32m     97\u001b[0m             \u001b[0moptimizer\u001b[0m\u001b[0;34m.\u001b[0m\u001b[0mzero_grad\u001b[0m\u001b[0;34m(\u001b[0m\u001b[0;34m)\u001b[0m\u001b[0;34m\u001b[0m\u001b[0;34m\u001b[0m\u001b[0m\n\u001b[1;32m     98\u001b[0m             \u001b[0;32mwith\u001b[0m \u001b[0mtorch\u001b[0m\u001b[0;34m.\u001b[0m\u001b[0mamp\u001b[0m\u001b[0;34m.\u001b[0m\u001b[0mautocast\u001b[0m\u001b[0;34m(\u001b[0m\u001b[0;34m\"cuda\"\u001b[0m\u001b[0;34m,\u001b[0m \u001b[0menabled\u001b[0m\u001b[0;34m=\u001b[0m\u001b[0mArgs\u001b[0m\u001b[0;34m.\u001b[0m\u001b[0mamp\u001b[0m\u001b[0;34m)\u001b[0m\u001b[0;34m:\u001b[0m\u001b[0;34m\u001b[0m\u001b[0;34m\u001b[0m\u001b[0m\n\u001b[0;32m---> 99\u001b[0;31m                 \u001b[0moutputs\u001b[0m \u001b[0;34m=\u001b[0m \u001b[0mmodel\u001b[0m\u001b[0;34m(\u001b[0m\u001b[0mimgs\u001b[0m\u001b[0;34m)\u001b[0m\u001b[0;34m\u001b[0m\u001b[0;34m\u001b[0m\u001b[0m\n\u001b[0m\u001b[1;32m    100\u001b[0m                 \u001b[0mloss\u001b[0m \u001b[0;34m=\u001b[0m \u001b[0mcriterion\u001b[0m\u001b[0;34m(\u001b[0m\u001b[0moutputs\u001b[0m\u001b[0;34m,\u001b[0m \u001b[0mlabels\u001b[0m\u001b[0;34m)\u001b[0m\u001b[0;34m\u001b[0m\u001b[0;34m\u001b[0m\u001b[0m\n\u001b[1;32m    101\u001b[0m \u001b[0;34m\u001b[0m\u001b[0m\n",
            "\u001b[0;32m/usr/local/lib/python3.11/dist-packages/torch/nn/modules/module.py\u001b[0m in \u001b[0;36m_wrapped_call_impl\u001b[0;34m(self, *args, **kwargs)\u001b[0m\n\u001b[1;32m   1737\u001b[0m             \u001b[0;32mreturn\u001b[0m \u001b[0mself\u001b[0m\u001b[0;34m.\u001b[0m\u001b[0m_compiled_call_impl\u001b[0m\u001b[0;34m(\u001b[0m\u001b[0;34m*\u001b[0m\u001b[0margs\u001b[0m\u001b[0;34m,\u001b[0m \u001b[0;34m**\u001b[0m\u001b[0mkwargs\u001b[0m\u001b[0;34m)\u001b[0m  \u001b[0;31m# type: ignore[misc]\u001b[0m\u001b[0;34m\u001b[0m\u001b[0;34m\u001b[0m\u001b[0m\n\u001b[1;32m   1738\u001b[0m         \u001b[0;32melse\u001b[0m\u001b[0;34m:\u001b[0m\u001b[0;34m\u001b[0m\u001b[0;34m\u001b[0m\u001b[0m\n\u001b[0;32m-> 1739\u001b[0;31m             \u001b[0;32mreturn\u001b[0m \u001b[0mself\u001b[0m\u001b[0;34m.\u001b[0m\u001b[0m_call_impl\u001b[0m\u001b[0;34m(\u001b[0m\u001b[0;34m*\u001b[0m\u001b[0margs\u001b[0m\u001b[0;34m,\u001b[0m \u001b[0;34m**\u001b[0m\u001b[0mkwargs\u001b[0m\u001b[0;34m)\u001b[0m\u001b[0;34m\u001b[0m\u001b[0;34m\u001b[0m\u001b[0m\n\u001b[0m\u001b[1;32m   1740\u001b[0m \u001b[0;34m\u001b[0m\u001b[0m\n\u001b[1;32m   1741\u001b[0m     \u001b[0;31m# torchrec tests the code consistency with the following code\u001b[0m\u001b[0;34m\u001b[0m\u001b[0;34m\u001b[0m\u001b[0m\n",
            "\u001b[0;32m/usr/local/lib/python3.11/dist-packages/torch/nn/modules/module.py\u001b[0m in \u001b[0;36m_call_impl\u001b[0;34m(self, *args, **kwargs)\u001b[0m\n\u001b[1;32m   1748\u001b[0m                 \u001b[0;32mor\u001b[0m \u001b[0m_global_backward_pre_hooks\u001b[0m \u001b[0;32mor\u001b[0m \u001b[0m_global_backward_hooks\u001b[0m\u001b[0;34m\u001b[0m\u001b[0;34m\u001b[0m\u001b[0m\n\u001b[1;32m   1749\u001b[0m                 or _global_forward_hooks or _global_forward_pre_hooks):\n\u001b[0;32m-> 1750\u001b[0;31m             \u001b[0;32mreturn\u001b[0m \u001b[0mforward_call\u001b[0m\u001b[0;34m(\u001b[0m\u001b[0;34m*\u001b[0m\u001b[0margs\u001b[0m\u001b[0;34m,\u001b[0m \u001b[0;34m**\u001b[0m\u001b[0mkwargs\u001b[0m\u001b[0;34m)\u001b[0m\u001b[0;34m\u001b[0m\u001b[0;34m\u001b[0m\u001b[0m\n\u001b[0m\u001b[1;32m   1751\u001b[0m \u001b[0;34m\u001b[0m\u001b[0m\n\u001b[1;32m   1752\u001b[0m         \u001b[0mresult\u001b[0m \u001b[0;34m=\u001b[0m \u001b[0;32mNone\u001b[0m\u001b[0;34m\u001b[0m\u001b[0;34m\u001b[0m\u001b[0m\n",
            "\u001b[0;32m/tmp/ipython-input-4283399569.py\u001b[0m in \u001b[0;36mforward\u001b[0;34m(self, img)\u001b[0m\n\u001b[1;32m     41\u001b[0m \u001b[0;34m\u001b[0m\u001b[0m\n\u001b[1;32m     42\u001b[0m     \u001b[0;32mdef\u001b[0m \u001b[0mforward\u001b[0m\u001b[0;34m(\u001b[0m\u001b[0mself\u001b[0m\u001b[0;34m,\u001b[0m \u001b[0mimg\u001b[0m\u001b[0;34m)\u001b[0m\u001b[0;34m:\u001b[0m\u001b[0;34m\u001b[0m\u001b[0;34m\u001b[0m\u001b[0m\n\u001b[0;32m---> 43\u001b[0;31m         \u001b[0;32mreturn\u001b[0m \u001b[0mself\u001b[0m\u001b[0;34m.\u001b[0m\u001b[0mswin\u001b[0m\u001b[0;34m(\u001b[0m\u001b[0mimg\u001b[0m\u001b[0;34m)\u001b[0m\u001b[0;34m.\u001b[0m\u001b[0mlogits\u001b[0m\u001b[0;34m\u001b[0m\u001b[0;34m\u001b[0m\u001b[0m\n\u001b[0m\u001b[1;32m     44\u001b[0m \u001b[0;34m\u001b[0m\u001b[0m\n\u001b[1;32m     45\u001b[0m \u001b[0;31m# -----------------------------\u001b[0m\u001b[0;34m\u001b[0m\u001b[0;34m\u001b[0m\u001b[0m\n",
            "\u001b[0;32m/usr/local/lib/python3.11/dist-packages/torch/nn/modules/module.py\u001b[0m in \u001b[0;36m_wrapped_call_impl\u001b[0;34m(self, *args, **kwargs)\u001b[0m\n\u001b[1;32m   1737\u001b[0m             \u001b[0;32mreturn\u001b[0m \u001b[0mself\u001b[0m\u001b[0;34m.\u001b[0m\u001b[0m_compiled_call_impl\u001b[0m\u001b[0;34m(\u001b[0m\u001b[0;34m*\u001b[0m\u001b[0margs\u001b[0m\u001b[0;34m,\u001b[0m \u001b[0;34m**\u001b[0m\u001b[0mkwargs\u001b[0m\u001b[0;34m)\u001b[0m  \u001b[0;31m# type: ignore[misc]\u001b[0m\u001b[0;34m\u001b[0m\u001b[0;34m\u001b[0m\u001b[0m\n\u001b[1;32m   1738\u001b[0m         \u001b[0;32melse\u001b[0m\u001b[0;34m:\u001b[0m\u001b[0;34m\u001b[0m\u001b[0;34m\u001b[0m\u001b[0m\n\u001b[0;32m-> 1739\u001b[0;31m             \u001b[0;32mreturn\u001b[0m \u001b[0mself\u001b[0m\u001b[0;34m.\u001b[0m\u001b[0m_call_impl\u001b[0m\u001b[0;34m(\u001b[0m\u001b[0;34m*\u001b[0m\u001b[0margs\u001b[0m\u001b[0;34m,\u001b[0m \u001b[0;34m**\u001b[0m\u001b[0mkwargs\u001b[0m\u001b[0;34m)\u001b[0m\u001b[0;34m\u001b[0m\u001b[0;34m\u001b[0m\u001b[0m\n\u001b[0m\u001b[1;32m   1740\u001b[0m \u001b[0;34m\u001b[0m\u001b[0m\n\u001b[1;32m   1741\u001b[0m     \u001b[0;31m# torchrec tests the code consistency with the following code\u001b[0m\u001b[0;34m\u001b[0m\u001b[0;34m\u001b[0m\u001b[0m\n",
            "\u001b[0;32m/usr/local/lib/python3.11/dist-packages/torch/nn/modules/module.py\u001b[0m in \u001b[0;36m_call_impl\u001b[0;34m(self, *args, **kwargs)\u001b[0m\n\u001b[1;32m   1748\u001b[0m                 \u001b[0;32mor\u001b[0m \u001b[0m_global_backward_pre_hooks\u001b[0m \u001b[0;32mor\u001b[0m \u001b[0m_global_backward_hooks\u001b[0m\u001b[0;34m\u001b[0m\u001b[0;34m\u001b[0m\u001b[0m\n\u001b[1;32m   1749\u001b[0m                 or _global_forward_hooks or _global_forward_pre_hooks):\n\u001b[0;32m-> 1750\u001b[0;31m             \u001b[0;32mreturn\u001b[0m \u001b[0mforward_call\u001b[0m\u001b[0;34m(\u001b[0m\u001b[0;34m*\u001b[0m\u001b[0margs\u001b[0m\u001b[0;34m,\u001b[0m \u001b[0;34m**\u001b[0m\u001b[0mkwargs\u001b[0m\u001b[0;34m)\u001b[0m\u001b[0;34m\u001b[0m\u001b[0;34m\u001b[0m\u001b[0m\n\u001b[0m\u001b[1;32m   1751\u001b[0m \u001b[0;34m\u001b[0m\u001b[0m\n\u001b[1;32m   1752\u001b[0m         \u001b[0mresult\u001b[0m \u001b[0;34m=\u001b[0m \u001b[0;32mNone\u001b[0m\u001b[0;34m\u001b[0m\u001b[0;34m\u001b[0m\u001b[0m\n",
            "\u001b[0;32m/usr/local/lib/python3.11/dist-packages/transformers/models/swin/modeling_swin.py\u001b[0m in \u001b[0;36mforward\u001b[0;34m(self, pixel_values, head_mask, labels, output_attentions, output_hidden_states, interpolate_pos_encoding, return_dict)\u001b[0m\n\u001b[1;32m   1138\u001b[0m         \u001b[0mreturn_dict\u001b[0m \u001b[0;34m=\u001b[0m \u001b[0mreturn_dict\u001b[0m \u001b[0;32mif\u001b[0m \u001b[0mreturn_dict\u001b[0m \u001b[0;32mis\u001b[0m \u001b[0;32mnot\u001b[0m \u001b[0;32mNone\u001b[0m \u001b[0;32melse\u001b[0m \u001b[0mself\u001b[0m\u001b[0;34m.\u001b[0m\u001b[0mconfig\u001b[0m\u001b[0;34m.\u001b[0m\u001b[0muse_return_dict\u001b[0m\u001b[0;34m\u001b[0m\u001b[0;34m\u001b[0m\u001b[0m\n\u001b[1;32m   1139\u001b[0m \u001b[0;34m\u001b[0m\u001b[0m\n\u001b[0;32m-> 1140\u001b[0;31m         outputs = self.swin(\n\u001b[0m\u001b[1;32m   1141\u001b[0m             \u001b[0mpixel_values\u001b[0m\u001b[0;34m,\u001b[0m\u001b[0;34m\u001b[0m\u001b[0;34m\u001b[0m\u001b[0m\n\u001b[1;32m   1142\u001b[0m             \u001b[0mhead_mask\u001b[0m\u001b[0;34m=\u001b[0m\u001b[0mhead_mask\u001b[0m\u001b[0;34m,\u001b[0m\u001b[0;34m\u001b[0m\u001b[0;34m\u001b[0m\u001b[0m\n",
            "\u001b[0;32m/usr/local/lib/python3.11/dist-packages/torch/nn/modules/module.py\u001b[0m in \u001b[0;36m_wrapped_call_impl\u001b[0;34m(self, *args, **kwargs)\u001b[0m\n\u001b[1;32m   1737\u001b[0m             \u001b[0;32mreturn\u001b[0m \u001b[0mself\u001b[0m\u001b[0;34m.\u001b[0m\u001b[0m_compiled_call_impl\u001b[0m\u001b[0;34m(\u001b[0m\u001b[0;34m*\u001b[0m\u001b[0margs\u001b[0m\u001b[0;34m,\u001b[0m \u001b[0;34m**\u001b[0m\u001b[0mkwargs\u001b[0m\u001b[0;34m)\u001b[0m  \u001b[0;31m# type: ignore[misc]\u001b[0m\u001b[0;34m\u001b[0m\u001b[0;34m\u001b[0m\u001b[0m\n\u001b[1;32m   1738\u001b[0m         \u001b[0;32melse\u001b[0m\u001b[0;34m:\u001b[0m\u001b[0;34m\u001b[0m\u001b[0;34m\u001b[0m\u001b[0m\n\u001b[0;32m-> 1739\u001b[0;31m             \u001b[0;32mreturn\u001b[0m \u001b[0mself\u001b[0m\u001b[0;34m.\u001b[0m\u001b[0m_call_impl\u001b[0m\u001b[0;34m(\u001b[0m\u001b[0;34m*\u001b[0m\u001b[0margs\u001b[0m\u001b[0;34m,\u001b[0m \u001b[0;34m**\u001b[0m\u001b[0mkwargs\u001b[0m\u001b[0;34m)\u001b[0m\u001b[0;34m\u001b[0m\u001b[0;34m\u001b[0m\u001b[0m\n\u001b[0m\u001b[1;32m   1740\u001b[0m \u001b[0;34m\u001b[0m\u001b[0m\n\u001b[1;32m   1741\u001b[0m     \u001b[0;31m# torchrec tests the code consistency with the following code\u001b[0m\u001b[0;34m\u001b[0m\u001b[0;34m\u001b[0m\u001b[0m\n",
            "\u001b[0;32m/usr/local/lib/python3.11/dist-packages/torch/nn/modules/module.py\u001b[0m in \u001b[0;36m_call_impl\u001b[0;34m(self, *args, **kwargs)\u001b[0m\n\u001b[1;32m   1748\u001b[0m                 \u001b[0;32mor\u001b[0m \u001b[0m_global_backward_pre_hooks\u001b[0m \u001b[0;32mor\u001b[0m \u001b[0m_global_backward_hooks\u001b[0m\u001b[0;34m\u001b[0m\u001b[0;34m\u001b[0m\u001b[0m\n\u001b[1;32m   1749\u001b[0m                 or _global_forward_hooks or _global_forward_pre_hooks):\n\u001b[0;32m-> 1750\u001b[0;31m             \u001b[0;32mreturn\u001b[0m \u001b[0mforward_call\u001b[0m\u001b[0;34m(\u001b[0m\u001b[0;34m*\u001b[0m\u001b[0margs\u001b[0m\u001b[0;34m,\u001b[0m \u001b[0;34m**\u001b[0m\u001b[0mkwargs\u001b[0m\u001b[0;34m)\u001b[0m\u001b[0;34m\u001b[0m\u001b[0;34m\u001b[0m\u001b[0m\n\u001b[0m\u001b[1;32m   1751\u001b[0m \u001b[0;34m\u001b[0m\u001b[0m\n\u001b[1;32m   1752\u001b[0m         \u001b[0mresult\u001b[0m \u001b[0;34m=\u001b[0m \u001b[0;32mNone\u001b[0m\u001b[0;34m\u001b[0m\u001b[0;34m\u001b[0m\u001b[0m\n",
            "\u001b[0;32m/usr/local/lib/python3.11/dist-packages/transformers/models/swin/modeling_swin.py\u001b[0m in \u001b[0;36mforward\u001b[0;34m(self, pixel_values, bool_masked_pos, head_mask, output_attentions, output_hidden_states, interpolate_pos_encoding, return_dict)\u001b[0m\n\u001b[1;32m    944\u001b[0m         )\n\u001b[1;32m    945\u001b[0m \u001b[0;34m\u001b[0m\u001b[0m\n\u001b[0;32m--> 946\u001b[0;31m         encoder_outputs = self.encoder(\n\u001b[0m\u001b[1;32m    947\u001b[0m             \u001b[0membedding_output\u001b[0m\u001b[0;34m,\u001b[0m\u001b[0;34m\u001b[0m\u001b[0;34m\u001b[0m\u001b[0m\n\u001b[1;32m    948\u001b[0m             \u001b[0minput_dimensions\u001b[0m\u001b[0;34m,\u001b[0m\u001b[0;34m\u001b[0m\u001b[0;34m\u001b[0m\u001b[0m\n",
            "\u001b[0;32m/usr/local/lib/python3.11/dist-packages/torch/nn/modules/module.py\u001b[0m in \u001b[0;36m_wrapped_call_impl\u001b[0;34m(self, *args, **kwargs)\u001b[0m\n\u001b[1;32m   1737\u001b[0m             \u001b[0;32mreturn\u001b[0m \u001b[0mself\u001b[0m\u001b[0;34m.\u001b[0m\u001b[0m_compiled_call_impl\u001b[0m\u001b[0;34m(\u001b[0m\u001b[0;34m*\u001b[0m\u001b[0margs\u001b[0m\u001b[0;34m,\u001b[0m \u001b[0;34m**\u001b[0m\u001b[0mkwargs\u001b[0m\u001b[0;34m)\u001b[0m  \u001b[0;31m# type: ignore[misc]\u001b[0m\u001b[0;34m\u001b[0m\u001b[0;34m\u001b[0m\u001b[0m\n\u001b[1;32m   1738\u001b[0m         \u001b[0;32melse\u001b[0m\u001b[0;34m:\u001b[0m\u001b[0;34m\u001b[0m\u001b[0;34m\u001b[0m\u001b[0m\n\u001b[0;32m-> 1739\u001b[0;31m             \u001b[0;32mreturn\u001b[0m \u001b[0mself\u001b[0m\u001b[0;34m.\u001b[0m\u001b[0m_call_impl\u001b[0m\u001b[0;34m(\u001b[0m\u001b[0;34m*\u001b[0m\u001b[0margs\u001b[0m\u001b[0;34m,\u001b[0m \u001b[0;34m**\u001b[0m\u001b[0mkwargs\u001b[0m\u001b[0;34m)\u001b[0m\u001b[0;34m\u001b[0m\u001b[0;34m\u001b[0m\u001b[0m\n\u001b[0m\u001b[1;32m   1740\u001b[0m \u001b[0;34m\u001b[0m\u001b[0m\n\u001b[1;32m   1741\u001b[0m     \u001b[0;31m# torchrec tests the code consistency with the following code\u001b[0m\u001b[0;34m\u001b[0m\u001b[0;34m\u001b[0m\u001b[0m\n",
            "\u001b[0;32m/usr/local/lib/python3.11/dist-packages/torch/nn/modules/module.py\u001b[0m in \u001b[0;36m_call_impl\u001b[0;34m(self, *args, **kwargs)\u001b[0m\n\u001b[1;32m   1748\u001b[0m                 \u001b[0;32mor\u001b[0m \u001b[0m_global_backward_pre_hooks\u001b[0m \u001b[0;32mor\u001b[0m \u001b[0m_global_backward_hooks\u001b[0m\u001b[0;34m\u001b[0m\u001b[0;34m\u001b[0m\u001b[0m\n\u001b[1;32m   1749\u001b[0m                 or _global_forward_hooks or _global_forward_pre_hooks):\n\u001b[0;32m-> 1750\u001b[0;31m             \u001b[0;32mreturn\u001b[0m \u001b[0mforward_call\u001b[0m\u001b[0;34m(\u001b[0m\u001b[0;34m*\u001b[0m\u001b[0margs\u001b[0m\u001b[0;34m,\u001b[0m \u001b[0;34m**\u001b[0m\u001b[0mkwargs\u001b[0m\u001b[0;34m)\u001b[0m\u001b[0;34m\u001b[0m\u001b[0;34m\u001b[0m\u001b[0m\n\u001b[0m\u001b[1;32m   1751\u001b[0m \u001b[0;34m\u001b[0m\u001b[0m\n\u001b[1;32m   1752\u001b[0m         \u001b[0mresult\u001b[0m \u001b[0;34m=\u001b[0m \u001b[0;32mNone\u001b[0m\u001b[0;34m\u001b[0m\u001b[0;34m\u001b[0m\u001b[0m\n",
            "\u001b[0;32m/usr/local/lib/python3.11/dist-packages/transformers/models/swin/modeling_swin.py\u001b[0m in \u001b[0;36mforward\u001b[0;34m(self, hidden_states, input_dimensions, head_mask, output_attentions, output_hidden_states, output_hidden_states_before_downsampling, always_partition, return_dict)\u001b[0m\n\u001b[1;32m    805\u001b[0m             \u001b[0mlayer_head_mask\u001b[0m \u001b[0;34m=\u001b[0m \u001b[0mhead_mask\u001b[0m\u001b[0;34m[\u001b[0m\u001b[0mi\u001b[0m\u001b[0;34m]\u001b[0m \u001b[0;32mif\u001b[0m \u001b[0mhead_mask\u001b[0m \u001b[0;32mis\u001b[0m \u001b[0;32mnot\u001b[0m \u001b[0;32mNone\u001b[0m \u001b[0;32melse\u001b[0m \u001b[0;32mNone\u001b[0m\u001b[0;34m\u001b[0m\u001b[0;34m\u001b[0m\u001b[0m\n\u001b[1;32m    806\u001b[0m \u001b[0;34m\u001b[0m\u001b[0m\n\u001b[0;32m--> 807\u001b[0;31m             layer_outputs = layer_module(\n\u001b[0m\u001b[1;32m    808\u001b[0m                 \u001b[0mhidden_states\u001b[0m\u001b[0;34m,\u001b[0m \u001b[0minput_dimensions\u001b[0m\u001b[0;34m,\u001b[0m \u001b[0mlayer_head_mask\u001b[0m\u001b[0;34m,\u001b[0m \u001b[0moutput_attentions\u001b[0m\u001b[0;34m,\u001b[0m \u001b[0malways_partition\u001b[0m\u001b[0;34m\u001b[0m\u001b[0;34m\u001b[0m\u001b[0m\n\u001b[1;32m    809\u001b[0m             )\n",
            "\u001b[0;32m/usr/local/lib/python3.11/dist-packages/transformers/modeling_layers.py\u001b[0m in \u001b[0;36m__call__\u001b[0;34m(self, *args, **kwargs)\u001b[0m\n\u001b[1;32m     92\u001b[0m \u001b[0;34m\u001b[0m\u001b[0m\n\u001b[1;32m     93\u001b[0m             \u001b[0;32mreturn\u001b[0m \u001b[0mself\u001b[0m\u001b[0;34m.\u001b[0m\u001b[0m_gradient_checkpointing_func\u001b[0m\u001b[0;34m(\u001b[0m\u001b[0mpartial\u001b[0m\u001b[0;34m(\u001b[0m\u001b[0msuper\u001b[0m\u001b[0;34m(\u001b[0m\u001b[0;34m)\u001b[0m\u001b[0;34m.\u001b[0m\u001b[0m__call__\u001b[0m\u001b[0;34m,\u001b[0m \u001b[0;34m**\u001b[0m\u001b[0mkwargs\u001b[0m\u001b[0;34m)\u001b[0m\u001b[0;34m,\u001b[0m \u001b[0;34m*\u001b[0m\u001b[0margs\u001b[0m\u001b[0;34m)\u001b[0m\u001b[0;34m\u001b[0m\u001b[0;34m\u001b[0m\u001b[0m\n\u001b[0;32m---> 94\u001b[0;31m         \u001b[0;32mreturn\u001b[0m \u001b[0msuper\u001b[0m\u001b[0;34m(\u001b[0m\u001b[0;34m)\u001b[0m\u001b[0;34m.\u001b[0m\u001b[0m__call__\u001b[0m\u001b[0;34m(\u001b[0m\u001b[0;34m*\u001b[0m\u001b[0margs\u001b[0m\u001b[0;34m,\u001b[0m \u001b[0;34m**\u001b[0m\u001b[0mkwargs\u001b[0m\u001b[0;34m)\u001b[0m\u001b[0;34m\u001b[0m\u001b[0;34m\u001b[0m\u001b[0m\n\u001b[0m\u001b[1;32m     95\u001b[0m \u001b[0;34m\u001b[0m\u001b[0m\n\u001b[1;32m     96\u001b[0m \u001b[0;34m\u001b[0m\u001b[0m\n",
            "\u001b[0;32m/usr/local/lib/python3.11/dist-packages/torch/nn/modules/module.py\u001b[0m in \u001b[0;36m_wrapped_call_impl\u001b[0;34m(self, *args, **kwargs)\u001b[0m\n\u001b[1;32m   1737\u001b[0m             \u001b[0;32mreturn\u001b[0m \u001b[0mself\u001b[0m\u001b[0;34m.\u001b[0m\u001b[0m_compiled_call_impl\u001b[0m\u001b[0;34m(\u001b[0m\u001b[0;34m*\u001b[0m\u001b[0margs\u001b[0m\u001b[0;34m,\u001b[0m \u001b[0;34m**\u001b[0m\u001b[0mkwargs\u001b[0m\u001b[0;34m)\u001b[0m  \u001b[0;31m# type: ignore[misc]\u001b[0m\u001b[0;34m\u001b[0m\u001b[0;34m\u001b[0m\u001b[0m\n\u001b[1;32m   1738\u001b[0m         \u001b[0;32melse\u001b[0m\u001b[0;34m:\u001b[0m\u001b[0;34m\u001b[0m\u001b[0;34m\u001b[0m\u001b[0m\n\u001b[0;32m-> 1739\u001b[0;31m             \u001b[0;32mreturn\u001b[0m \u001b[0mself\u001b[0m\u001b[0;34m.\u001b[0m\u001b[0m_call_impl\u001b[0m\u001b[0;34m(\u001b[0m\u001b[0;34m*\u001b[0m\u001b[0margs\u001b[0m\u001b[0;34m,\u001b[0m \u001b[0;34m**\u001b[0m\u001b[0mkwargs\u001b[0m\u001b[0;34m)\u001b[0m\u001b[0;34m\u001b[0m\u001b[0;34m\u001b[0m\u001b[0m\n\u001b[0m\u001b[1;32m   1740\u001b[0m \u001b[0;34m\u001b[0m\u001b[0m\n\u001b[1;32m   1741\u001b[0m     \u001b[0;31m# torchrec tests the code consistency with the following code\u001b[0m\u001b[0;34m\u001b[0m\u001b[0;34m\u001b[0m\u001b[0m\n",
            "\u001b[0;32m/usr/local/lib/python3.11/dist-packages/torch/nn/modules/module.py\u001b[0m in \u001b[0;36m_call_impl\u001b[0;34m(self, *args, **kwargs)\u001b[0m\n\u001b[1;32m   1748\u001b[0m                 \u001b[0;32mor\u001b[0m \u001b[0m_global_backward_pre_hooks\u001b[0m \u001b[0;32mor\u001b[0m \u001b[0m_global_backward_hooks\u001b[0m\u001b[0;34m\u001b[0m\u001b[0;34m\u001b[0m\u001b[0m\n\u001b[1;32m   1749\u001b[0m                 or _global_forward_hooks or _global_forward_pre_hooks):\n\u001b[0;32m-> 1750\u001b[0;31m             \u001b[0;32mreturn\u001b[0m \u001b[0mforward_call\u001b[0m\u001b[0;34m(\u001b[0m\u001b[0;34m*\u001b[0m\u001b[0margs\u001b[0m\u001b[0;34m,\u001b[0m \u001b[0;34m**\u001b[0m\u001b[0mkwargs\u001b[0m\u001b[0;34m)\u001b[0m\u001b[0;34m\u001b[0m\u001b[0;34m\u001b[0m\u001b[0m\n\u001b[0m\u001b[1;32m   1751\u001b[0m \u001b[0;34m\u001b[0m\u001b[0m\n\u001b[1;32m   1752\u001b[0m         \u001b[0mresult\u001b[0m \u001b[0;34m=\u001b[0m \u001b[0;32mNone\u001b[0m\u001b[0;34m\u001b[0m\u001b[0;34m\u001b[0m\u001b[0m\n",
            "\u001b[0;32m/usr/local/lib/python3.11/dist-packages/transformers/models/swin/modeling_swin.py\u001b[0m in \u001b[0;36mforward\u001b[0;34m(self, hidden_states, input_dimensions, head_mask, output_attentions, always_partition)\u001b[0m\n\u001b[1;32m    735\u001b[0m             \u001b[0mlayer_head_mask\u001b[0m \u001b[0;34m=\u001b[0m \u001b[0mhead_mask\u001b[0m\u001b[0;34m[\u001b[0m\u001b[0mi\u001b[0m\u001b[0;34m]\u001b[0m \u001b[0;32mif\u001b[0m \u001b[0mhead_mask\u001b[0m \u001b[0;32mis\u001b[0m \u001b[0;32mnot\u001b[0m \u001b[0;32mNone\u001b[0m \u001b[0;32melse\u001b[0m \u001b[0;32mNone\u001b[0m\u001b[0;34m\u001b[0m\u001b[0;34m\u001b[0m\u001b[0m\n\u001b[1;32m    736\u001b[0m \u001b[0;34m\u001b[0m\u001b[0m\n\u001b[0;32m--> 737\u001b[0;31m             layer_outputs = layer_module(\n\u001b[0m\u001b[1;32m    738\u001b[0m                 \u001b[0mhidden_states\u001b[0m\u001b[0;34m,\u001b[0m \u001b[0minput_dimensions\u001b[0m\u001b[0;34m,\u001b[0m \u001b[0mlayer_head_mask\u001b[0m\u001b[0;34m,\u001b[0m \u001b[0moutput_attentions\u001b[0m\u001b[0;34m,\u001b[0m \u001b[0malways_partition\u001b[0m\u001b[0;34m\u001b[0m\u001b[0;34m\u001b[0m\u001b[0m\n\u001b[1;32m    739\u001b[0m             )\n",
            "\u001b[0;32m/usr/local/lib/python3.11/dist-packages/torch/nn/modules/module.py\u001b[0m in \u001b[0;36m_wrapped_call_impl\u001b[0;34m(self, *args, **kwargs)\u001b[0m\n\u001b[1;32m   1737\u001b[0m             \u001b[0;32mreturn\u001b[0m \u001b[0mself\u001b[0m\u001b[0;34m.\u001b[0m\u001b[0m_compiled_call_impl\u001b[0m\u001b[0;34m(\u001b[0m\u001b[0;34m*\u001b[0m\u001b[0margs\u001b[0m\u001b[0;34m,\u001b[0m \u001b[0;34m**\u001b[0m\u001b[0mkwargs\u001b[0m\u001b[0;34m)\u001b[0m  \u001b[0;31m# type: ignore[misc]\u001b[0m\u001b[0;34m\u001b[0m\u001b[0;34m\u001b[0m\u001b[0m\n\u001b[1;32m   1738\u001b[0m         \u001b[0;32melse\u001b[0m\u001b[0;34m:\u001b[0m\u001b[0;34m\u001b[0m\u001b[0;34m\u001b[0m\u001b[0m\n\u001b[0;32m-> 1739\u001b[0;31m             \u001b[0;32mreturn\u001b[0m \u001b[0mself\u001b[0m\u001b[0;34m.\u001b[0m\u001b[0m_call_impl\u001b[0m\u001b[0;34m(\u001b[0m\u001b[0;34m*\u001b[0m\u001b[0margs\u001b[0m\u001b[0;34m,\u001b[0m \u001b[0;34m**\u001b[0m\u001b[0mkwargs\u001b[0m\u001b[0;34m)\u001b[0m\u001b[0;34m\u001b[0m\u001b[0;34m\u001b[0m\u001b[0m\n\u001b[0m\u001b[1;32m   1740\u001b[0m \u001b[0;34m\u001b[0m\u001b[0m\n\u001b[1;32m   1741\u001b[0m     \u001b[0;31m# torchrec tests the code consistency with the following code\u001b[0m\u001b[0;34m\u001b[0m\u001b[0;34m\u001b[0m\u001b[0m\n",
            "\u001b[0;32m/usr/local/lib/python3.11/dist-packages/torch/nn/modules/module.py\u001b[0m in \u001b[0;36m_call_impl\u001b[0;34m(self, *args, **kwargs)\u001b[0m\n\u001b[1;32m   1748\u001b[0m                 \u001b[0;32mor\u001b[0m \u001b[0m_global_backward_pre_hooks\u001b[0m \u001b[0;32mor\u001b[0m \u001b[0m_global_backward_hooks\u001b[0m\u001b[0;34m\u001b[0m\u001b[0;34m\u001b[0m\u001b[0m\n\u001b[1;32m   1749\u001b[0m                 or _global_forward_hooks or _global_forward_pre_hooks):\n\u001b[0;32m-> 1750\u001b[0;31m             \u001b[0;32mreturn\u001b[0m \u001b[0mforward_call\u001b[0m\u001b[0;34m(\u001b[0m\u001b[0;34m*\u001b[0m\u001b[0margs\u001b[0m\u001b[0;34m,\u001b[0m \u001b[0;34m**\u001b[0m\u001b[0mkwargs\u001b[0m\u001b[0;34m)\u001b[0m\u001b[0;34m\u001b[0m\u001b[0;34m\u001b[0m\u001b[0m\n\u001b[0m\u001b[1;32m   1751\u001b[0m \u001b[0;34m\u001b[0m\u001b[0m\n\u001b[1;32m   1752\u001b[0m         \u001b[0mresult\u001b[0m \u001b[0;34m=\u001b[0m \u001b[0;32mNone\u001b[0m\u001b[0;34m\u001b[0m\u001b[0;34m\u001b[0m\u001b[0m\n",
            "\u001b[0;32m/usr/local/lib/python3.11/dist-packages/transformers/models/swin/modeling_swin.py\u001b[0m in \u001b[0;36mforward\u001b[0;34m(self, hidden_states, input_dimensions, head_mask, output_attentions, always_partition)\u001b[0m\n\u001b[1;32m    690\u001b[0m         \u001b[0mlayer_output\u001b[0m \u001b[0;34m=\u001b[0m \u001b[0mself\u001b[0m\u001b[0;34m.\u001b[0m\u001b[0mlayernorm_after\u001b[0m\u001b[0;34m(\u001b[0m\u001b[0mhidden_states\u001b[0m\u001b[0;34m)\u001b[0m\u001b[0;34m\u001b[0m\u001b[0;34m\u001b[0m\u001b[0m\n\u001b[1;32m    691\u001b[0m         \u001b[0mlayer_output\u001b[0m \u001b[0;34m=\u001b[0m \u001b[0mself\u001b[0m\u001b[0;34m.\u001b[0m\u001b[0mintermediate\u001b[0m\u001b[0;34m(\u001b[0m\u001b[0mlayer_output\u001b[0m\u001b[0;34m)\u001b[0m\u001b[0;34m\u001b[0m\u001b[0;34m\u001b[0m\u001b[0m\n\u001b[0;32m--> 692\u001b[0;31m         \u001b[0mlayer_output\u001b[0m \u001b[0;34m=\u001b[0m \u001b[0mhidden_states\u001b[0m \u001b[0;34m+\u001b[0m \u001b[0mself\u001b[0m\u001b[0;34m.\u001b[0m\u001b[0moutput\u001b[0m\u001b[0;34m(\u001b[0m\u001b[0mlayer_output\u001b[0m\u001b[0;34m)\u001b[0m\u001b[0;34m\u001b[0m\u001b[0;34m\u001b[0m\u001b[0m\n\u001b[0m\u001b[1;32m    693\u001b[0m \u001b[0;34m\u001b[0m\u001b[0m\n\u001b[1;32m    694\u001b[0m         \u001b[0mlayer_outputs\u001b[0m \u001b[0;34m=\u001b[0m \u001b[0;34m(\u001b[0m\u001b[0mlayer_output\u001b[0m\u001b[0;34m,\u001b[0m \u001b[0mattention_outputs\u001b[0m\u001b[0;34m[\u001b[0m\u001b[0;36m1\u001b[0m\u001b[0;34m]\u001b[0m\u001b[0;34m)\u001b[0m \u001b[0;32mif\u001b[0m \u001b[0moutput_attentions\u001b[0m \u001b[0;32melse\u001b[0m \u001b[0;34m(\u001b[0m\u001b[0mlayer_output\u001b[0m\u001b[0;34m,\u001b[0m\u001b[0;34m)\u001b[0m\u001b[0;34m\u001b[0m\u001b[0;34m\u001b[0m\u001b[0m\n",
            "\u001b[0;32m/usr/local/lib/python3.11/dist-packages/torch/nn/modules/module.py\u001b[0m in \u001b[0;36m_wrapped_call_impl\u001b[0;34m(self, *args, **kwargs)\u001b[0m\n\u001b[1;32m   1737\u001b[0m             \u001b[0;32mreturn\u001b[0m \u001b[0mself\u001b[0m\u001b[0;34m.\u001b[0m\u001b[0m_compiled_call_impl\u001b[0m\u001b[0;34m(\u001b[0m\u001b[0;34m*\u001b[0m\u001b[0margs\u001b[0m\u001b[0;34m,\u001b[0m \u001b[0;34m**\u001b[0m\u001b[0mkwargs\u001b[0m\u001b[0;34m)\u001b[0m  \u001b[0;31m# type: ignore[misc]\u001b[0m\u001b[0;34m\u001b[0m\u001b[0;34m\u001b[0m\u001b[0m\n\u001b[1;32m   1738\u001b[0m         \u001b[0;32melse\u001b[0m\u001b[0;34m:\u001b[0m\u001b[0;34m\u001b[0m\u001b[0;34m\u001b[0m\u001b[0m\n\u001b[0;32m-> 1739\u001b[0;31m             \u001b[0;32mreturn\u001b[0m \u001b[0mself\u001b[0m\u001b[0;34m.\u001b[0m\u001b[0m_call_impl\u001b[0m\u001b[0;34m(\u001b[0m\u001b[0;34m*\u001b[0m\u001b[0margs\u001b[0m\u001b[0;34m,\u001b[0m \u001b[0;34m**\u001b[0m\u001b[0mkwargs\u001b[0m\u001b[0;34m)\u001b[0m\u001b[0;34m\u001b[0m\u001b[0;34m\u001b[0m\u001b[0m\n\u001b[0m\u001b[1;32m   1740\u001b[0m \u001b[0;34m\u001b[0m\u001b[0m\n\u001b[1;32m   1741\u001b[0m     \u001b[0;31m# torchrec tests the code consistency with the following code\u001b[0m\u001b[0;34m\u001b[0m\u001b[0;34m\u001b[0m\u001b[0m\n",
            "\u001b[0;32m/usr/local/lib/python3.11/dist-packages/torch/nn/modules/module.py\u001b[0m in \u001b[0;36m_call_impl\u001b[0;34m(self, *args, **kwargs)\u001b[0m\n\u001b[1;32m   1748\u001b[0m                 \u001b[0;32mor\u001b[0m \u001b[0m_global_backward_pre_hooks\u001b[0m \u001b[0;32mor\u001b[0m \u001b[0m_global_backward_hooks\u001b[0m\u001b[0;34m\u001b[0m\u001b[0;34m\u001b[0m\u001b[0m\n\u001b[1;32m   1749\u001b[0m                 or _global_forward_hooks or _global_forward_pre_hooks):\n\u001b[0;32m-> 1750\u001b[0;31m             \u001b[0;32mreturn\u001b[0m \u001b[0mforward_call\u001b[0m\u001b[0;34m(\u001b[0m\u001b[0;34m*\u001b[0m\u001b[0margs\u001b[0m\u001b[0;34m,\u001b[0m \u001b[0;34m**\u001b[0m\u001b[0mkwargs\u001b[0m\u001b[0;34m)\u001b[0m\u001b[0;34m\u001b[0m\u001b[0;34m\u001b[0m\u001b[0m\n\u001b[0m\u001b[1;32m   1751\u001b[0m \u001b[0;34m\u001b[0m\u001b[0m\n\u001b[1;32m   1752\u001b[0m         \u001b[0mresult\u001b[0m \u001b[0;34m=\u001b[0m \u001b[0;32mNone\u001b[0m\u001b[0;34m\u001b[0m\u001b[0;34m\u001b[0m\u001b[0m\n",
            "\u001b[0;32m/usr/local/lib/python3.11/dist-packages/transformers/models/swin/modeling_swin.py\u001b[0m in \u001b[0;36mforward\u001b[0;34m(self, hidden_states)\u001b[0m\n\u001b[1;32m    566\u001b[0m \u001b[0;34m\u001b[0m\u001b[0m\n\u001b[1;32m    567\u001b[0m     \u001b[0;32mdef\u001b[0m \u001b[0mforward\u001b[0m\u001b[0;34m(\u001b[0m\u001b[0mself\u001b[0m\u001b[0;34m,\u001b[0m \u001b[0mhidden_states\u001b[0m\u001b[0;34m:\u001b[0m \u001b[0mtorch\u001b[0m\u001b[0;34m.\u001b[0m\u001b[0mTensor\u001b[0m\u001b[0;34m)\u001b[0m \u001b[0;34m->\u001b[0m \u001b[0mtorch\u001b[0m\u001b[0;34m.\u001b[0m\u001b[0mTensor\u001b[0m\u001b[0;34m:\u001b[0m\u001b[0;34m\u001b[0m\u001b[0;34m\u001b[0m\u001b[0m\n\u001b[0;32m--> 568\u001b[0;31m         \u001b[0mhidden_states\u001b[0m \u001b[0;34m=\u001b[0m \u001b[0mself\u001b[0m\u001b[0;34m.\u001b[0m\u001b[0mdense\u001b[0m\u001b[0;34m(\u001b[0m\u001b[0mhidden_states\u001b[0m\u001b[0;34m)\u001b[0m\u001b[0;34m\u001b[0m\u001b[0;34m\u001b[0m\u001b[0m\n\u001b[0m\u001b[1;32m    569\u001b[0m         \u001b[0mhidden_states\u001b[0m \u001b[0;34m=\u001b[0m \u001b[0mself\u001b[0m\u001b[0;34m.\u001b[0m\u001b[0mdropout\u001b[0m\u001b[0;34m(\u001b[0m\u001b[0mhidden_states\u001b[0m\u001b[0;34m)\u001b[0m\u001b[0;34m\u001b[0m\u001b[0;34m\u001b[0m\u001b[0m\n\u001b[1;32m    570\u001b[0m         \u001b[0;32mreturn\u001b[0m \u001b[0mhidden_states\u001b[0m\u001b[0;34m\u001b[0m\u001b[0;34m\u001b[0m\u001b[0m\n",
            "\u001b[0;32m/usr/local/lib/python3.11/dist-packages/torch/nn/modules/module.py\u001b[0m in \u001b[0;36m_wrapped_call_impl\u001b[0;34m(self, *args, **kwargs)\u001b[0m\n\u001b[1;32m   1737\u001b[0m             \u001b[0;32mreturn\u001b[0m \u001b[0mself\u001b[0m\u001b[0;34m.\u001b[0m\u001b[0m_compiled_call_impl\u001b[0m\u001b[0;34m(\u001b[0m\u001b[0;34m*\u001b[0m\u001b[0margs\u001b[0m\u001b[0;34m,\u001b[0m \u001b[0;34m**\u001b[0m\u001b[0mkwargs\u001b[0m\u001b[0;34m)\u001b[0m  \u001b[0;31m# type: ignore[misc]\u001b[0m\u001b[0;34m\u001b[0m\u001b[0;34m\u001b[0m\u001b[0m\n\u001b[1;32m   1738\u001b[0m         \u001b[0;32melse\u001b[0m\u001b[0;34m:\u001b[0m\u001b[0;34m\u001b[0m\u001b[0;34m\u001b[0m\u001b[0m\n\u001b[0;32m-> 1739\u001b[0;31m             \u001b[0;32mreturn\u001b[0m \u001b[0mself\u001b[0m\u001b[0;34m.\u001b[0m\u001b[0m_call_impl\u001b[0m\u001b[0;34m(\u001b[0m\u001b[0;34m*\u001b[0m\u001b[0margs\u001b[0m\u001b[0;34m,\u001b[0m \u001b[0;34m**\u001b[0m\u001b[0mkwargs\u001b[0m\u001b[0;34m)\u001b[0m\u001b[0;34m\u001b[0m\u001b[0;34m\u001b[0m\u001b[0m\n\u001b[0m\u001b[1;32m   1740\u001b[0m \u001b[0;34m\u001b[0m\u001b[0m\n\u001b[1;32m   1741\u001b[0m     \u001b[0;31m# torchrec tests the code consistency with the following code\u001b[0m\u001b[0;34m\u001b[0m\u001b[0;34m\u001b[0m\u001b[0m\n",
            "\u001b[0;32m/usr/local/lib/python3.11/dist-packages/torch/nn/modules/module.py\u001b[0m in \u001b[0;36m_call_impl\u001b[0;34m(self, *args, **kwargs)\u001b[0m\n\u001b[1;32m   1748\u001b[0m                 \u001b[0;32mor\u001b[0m \u001b[0m_global_backward_pre_hooks\u001b[0m \u001b[0;32mor\u001b[0m \u001b[0m_global_backward_hooks\u001b[0m\u001b[0;34m\u001b[0m\u001b[0;34m\u001b[0m\u001b[0m\n\u001b[1;32m   1749\u001b[0m                 or _global_forward_hooks or _global_forward_pre_hooks):\n\u001b[0;32m-> 1750\u001b[0;31m             \u001b[0;32mreturn\u001b[0m \u001b[0mforward_call\u001b[0m\u001b[0;34m(\u001b[0m\u001b[0;34m*\u001b[0m\u001b[0margs\u001b[0m\u001b[0;34m,\u001b[0m \u001b[0;34m**\u001b[0m\u001b[0mkwargs\u001b[0m\u001b[0;34m)\u001b[0m\u001b[0;34m\u001b[0m\u001b[0;34m\u001b[0m\u001b[0m\n\u001b[0m\u001b[1;32m   1751\u001b[0m \u001b[0;34m\u001b[0m\u001b[0m\n\u001b[1;32m   1752\u001b[0m         \u001b[0mresult\u001b[0m \u001b[0;34m=\u001b[0m \u001b[0;32mNone\u001b[0m\u001b[0;34m\u001b[0m\u001b[0;34m\u001b[0m\u001b[0m\n",
            "\u001b[0;32m/usr/local/lib/python3.11/dist-packages/torch/nn/modules/linear.py\u001b[0m in \u001b[0;36mforward\u001b[0;34m(self, input)\u001b[0m\n\u001b[1;32m    123\u001b[0m \u001b[0;34m\u001b[0m\u001b[0m\n\u001b[1;32m    124\u001b[0m     \u001b[0;32mdef\u001b[0m \u001b[0mforward\u001b[0m\u001b[0;34m(\u001b[0m\u001b[0mself\u001b[0m\u001b[0;34m,\u001b[0m \u001b[0minput\u001b[0m\u001b[0;34m:\u001b[0m \u001b[0mTensor\u001b[0m\u001b[0;34m)\u001b[0m \u001b[0;34m->\u001b[0m \u001b[0mTensor\u001b[0m\u001b[0;34m:\u001b[0m\u001b[0;34m\u001b[0m\u001b[0;34m\u001b[0m\u001b[0m\n\u001b[0;32m--> 125\u001b[0;31m         \u001b[0;32mreturn\u001b[0m \u001b[0mF\u001b[0m\u001b[0;34m.\u001b[0m\u001b[0mlinear\u001b[0m\u001b[0;34m(\u001b[0m\u001b[0minput\u001b[0m\u001b[0;34m,\u001b[0m \u001b[0mself\u001b[0m\u001b[0;34m.\u001b[0m\u001b[0mweight\u001b[0m\u001b[0;34m,\u001b[0m \u001b[0mself\u001b[0m\u001b[0;34m.\u001b[0m\u001b[0mbias\u001b[0m\u001b[0;34m)\u001b[0m\u001b[0;34m\u001b[0m\u001b[0;34m\u001b[0m\u001b[0m\n\u001b[0m\u001b[1;32m    126\u001b[0m \u001b[0;34m\u001b[0m\u001b[0m\n\u001b[1;32m    127\u001b[0m     \u001b[0;32mdef\u001b[0m \u001b[0mextra_repr\u001b[0m\u001b[0;34m(\u001b[0m\u001b[0mself\u001b[0m\u001b[0;34m)\u001b[0m \u001b[0;34m->\u001b[0m \u001b[0mstr\u001b[0m\u001b[0;34m:\u001b[0m\u001b[0;34m\u001b[0m\u001b[0;34m\u001b[0m\u001b[0m\n",
            "\u001b[0;31mKeyboardInterrupt\u001b[0m: "
          ]
        }
      ]
    },
    {
      "cell_type": "code",
      "source": [
        "import os\n",
        "import random\n",
        "import numpy as np\n",
        "from tqdm import tqdm\n",
        "\n",
        "import torch\n",
        "import torch.nn as nn\n",
        "import torch.optim as optim\n",
        "from torch.utils.data import DataLoader, Dataset, random_split\n",
        "from torchvision import transforms\n",
        "from torchvision.datasets import ImageFolder\n",
        "from transformers import SwinForImageClassification, AutoImageProcessor\n",
        "\n",
        "from sklearn.metrics import accuracy_score, f1_score\n",
        "\n",
        "# ======================================================\n",
        "# Config\n",
        "# ======================================================\n",
        "class Args:\n",
        "    data_root = \"/content/dataset/Data/Data\"   # <-- change path\n",
        "    img_size = 224\n",
        "    batch_size = 16\n",
        "    num_workers = 2\n",
        "    epochs = 20\n",
        "    patience = 5\n",
        "    lr_backbone = 1e-5\n",
        "    lr_head = 1e-4\n",
        "    device = \"cuda\" if torch.cuda.is_available() else \"cpu\"\n",
        "    unfreeze_epoch = 5   # unfreeze backbone after N epochs\n",
        "\n",
        "# ======================================================\n",
        "# Dataset & Augmentations\n",
        "# ======================================================\n",
        "transform_train = transforms.Compose([\n",
        "    transforms.Resize((Args.img_size, Args.img_size)),\n",
        "    transforms.RandomHorizontalFlip(),\n",
        "    transforms.RandomVerticalFlip(),\n",
        "    transforms.RandomRotation(30),\n",
        "    transforms.ColorJitter(brightness=0.2, contrast=0.2, saturation=0.2, hue=0.1),\n",
        "    transforms.RandomResizedCrop(Args.img_size, scale=(0.8, 1.0)),\n",
        "    transforms.ToTensor(),\n",
        "    transforms.Normalize([0.5], [0.5])\n",
        "])\n",
        "\n",
        "transform_val = transforms.Compose([\n",
        "    transforms.Resize((Args.img_size, Args.img_size)),\n",
        "    transforms.ToTensor(),\n",
        "    transforms.Normalize([0.5], [0.5])\n",
        "])\n",
        "\n",
        "# Use ImageFolder (subdirs = class names)\n",
        "dataset = ImageFolder(root=Args.data_root, transform=transform_train)\n",
        "num_classes = len(dataset.classes)\n",
        "print(f\"Found {len(dataset)} images across {num_classes} classes: {dataset.classes}\")\n",
        "\n",
        "# Split (70/15/15)\n",
        "total_size = len(dataset)\n",
        "train_size = int(0.7 * total_size)\n",
        "val_size = int(0.15 * total_size)\n",
        "test_size = total_size - train_size - val_size\n",
        "train_set, val_set, test_set = random_split(dataset, [train_size, val_size, test_size])\n",
        "\n",
        "# Apply val/test transforms\n",
        "val_set.dataset.transform = transform_val\n",
        "test_set.dataset.transform = transform_val\n",
        "\n",
        "train_loader = DataLoader(train_set, batch_size=Args.batch_size, shuffle=True, num_workers=Args.num_workers)\n",
        "val_loader = DataLoader(val_set, batch_size=Args.batch_size, shuffle=False, num_workers=Args.num_workers)\n",
        "test_loader = DataLoader(test_set, batch_size=Args.batch_size, shuffle=False, num_workers=Args.num_workers)\n",
        "\n",
        "# ======================================================\n",
        "# Model\n",
        "# ======================================================\n",
        "model = SwinForImageClassification.from_pretrained(\n",
        "    \"microsoft/swin-tiny-patch4-window7-224\",\n",
        "    num_labels=num_classes,\n",
        "    ignore_mismatched_sizes=True\n",
        ")\n",
        "\n",
        "# Add dropout before classifier (to reduce overfitting)\n",
        "model.classifier = nn.Sequential(\n",
        "    nn.Dropout(0.4),\n",
        "    nn.Linear(model.classifier.in_features, num_classes)\n",
        ")\n",
        "\n",
        "model.to(Args.device)\n",
        "\n",
        "# ======================================================\n",
        "# Optimizer with correct param separation\n",
        "# ======================================================\n",
        "backbone_params = []\n",
        "head_params = []\n",
        "for name, param in model.named_parameters():\n",
        "    if \"classifier\" in name:\n",
        "        head_params.append(param)\n",
        "    else:\n",
        "        backbone_params.append(param)\n",
        "\n",
        "optimizer = optim.AdamW([\n",
        "    {\"params\": head_params, \"lr\": Args.lr_head},\n",
        "    {\"params\": backbone_params, \"lr\": Args.lr_backbone}\n",
        "], weight_decay=1e-4)\n",
        "\n",
        "criterion = nn.CrossEntropyLoss(label_smoothing=0.1)\n",
        "\n",
        "# ======================================================\n",
        "# Training utils\n",
        "# ======================================================\n",
        "def train_one_epoch(epoch):\n",
        "    model.train()\n",
        "    train_loss, preds, labels = 0, [], []\n",
        "    loop = tqdm(train_loader, desc=f\"Epoch {epoch+1}/{Args.epochs} [Train]\")\n",
        "\n",
        "    for x, y in loop:\n",
        "        x, y = x.to(Args.device), y.to(Args.device)\n",
        "        optimizer.zero_grad()\n",
        "        out = model(x).logits\n",
        "        loss = criterion(out, y)\n",
        "        loss.backward()\n",
        "        optimizer.step()\n",
        "\n",
        "        train_loss += loss.item() * x.size(0)\n",
        "        preds.extend(out.argmax(1).cpu().numpy())\n",
        "        labels.extend(y.cpu().numpy())\n",
        "\n",
        "    acc = accuracy_score(labels, preds)\n",
        "    f1 = f1_score(labels, preds, average=\"macro\")\n",
        "    return train_loss / len(train_loader.dataset), acc, f1\n",
        "\n",
        "\n",
        "def evaluate(loader, epoch, split=\"Val\"):\n",
        "    model.eval()\n",
        "    val_loss, preds, labels = 0, [], []\n",
        "    with torch.no_grad():\n",
        "        for x, y in loader:\n",
        "            x, y = x.to(Args.device), y.to(Args.device)\n",
        "            out = model(x).logits\n",
        "            loss = criterion(out, y)\n",
        "\n",
        "            val_loss += loss.item() * x.size(0)\n",
        "            preds.extend(out.argmax(1).cpu().numpy())\n",
        "            labels.extend(y.cpu().numpy())\n",
        "\n",
        "    acc = accuracy_score(labels, preds)\n",
        "    f1 = f1_score(labels, preds, average=\"macro\")\n",
        "    return val_loss / len(loader.dataset), acc, f1\n",
        "\n",
        "# ======================================================\n",
        "# Training Loop with Early Stopping + Unfreeze\n",
        "# ======================================================\n",
        "best_acc = 0\n",
        "patience_counter = 0\n",
        "backbone_frozen = True\n",
        "\n",
        "for epoch in range(Args.epochs):\n",
        "    # Unfreeze backbone after N epochs\n",
        "    if backbone_frozen and epoch >= Args.unfreeze_epoch:\n",
        "        print(\"🔓 Unfreezing backbone for fine-tuning...\")\n",
        "        for param in backbone_params:\n",
        "            param.requires_grad = True\n",
        "        backbone_frozen = False\n",
        "\n",
        "    train_loss, train_acc, train_f1 = train_one_epoch(epoch)\n",
        "    val_loss, val_acc, val_f1 = evaluate(val_loader, epoch, split=\"Val\")\n",
        "\n",
        "    print(f\"Epoch {epoch+1} | Train Loss: {train_loss:.4f}, Acc: {train_acc:.4f}, F1: {train_f1:.4f} | \"\n",
        "          f\"Val Loss: {val_loss:.4f}, Acc: {val_acc:.4f}, F1: {val_f1:.4f}\")\n",
        "\n",
        "    # Save best model\n",
        "    if val_acc > best_acc:\n",
        "        best_acc = val_acc\n",
        "        patience_counter = 0\n",
        "        torch.save(model.state_dict(), \"best_swin_model.pth\")\n",
        "        print(f\"[+] Saved best model (acc={val_acc:.4f}, loss={val_loss:.4f})\")\n",
        "    else:\n",
        "        patience_counter += 1\n",
        "\n",
        "    # Early stopping\n",
        "    if patience_counter >= Args.patience:\n",
        "        print(\"⏹️ Early stopping triggered.\")\n",
        "        break\n",
        "\n",
        "# ======================================================\n",
        "# Final Test\n",
        "# ======================================================\n",
        "model.load_state_dict(torch.load(\"best_swin_model.pth\"))\n",
        "test_loss, test_acc, test_f1 = evaluate(test_loader, epoch, split=\"Test\")\n",
        "print(f\"TEST → Loss: {test_loss:.4f} | Acc: {test_acc:.4f} | F1: {test_f1:.4f}\")\n"
      ],
      "metadata": {
        "colab": {
          "base_uri": "https://localhost:8080/"
        },
        "id": "pkwe3akKmc1f",
        "outputId": "fb36424e-98a0-4685-df7f-79d65fa139c2"
      },
      "execution_count": 10,
      "outputs": [
        {
          "output_type": "stream",
          "name": "stdout",
          "text": [
            "Found 2982 images across 3 classes: ['AD', 'CN', 'MCI-1']\n"
          ]
        },
        {
          "output_type": "stream",
          "name": "stderr",
          "text": [
            "Some weights of SwinForImageClassification were not initialized from the model checkpoint at microsoft/swin-tiny-patch4-window7-224 and are newly initialized because the shapes did not match:\n",
            "- classifier.bias: found shape torch.Size([1000]) in the checkpoint and torch.Size([3]) in the model instantiated\n",
            "- classifier.weight: found shape torch.Size([1000, 768]) in the checkpoint and torch.Size([3, 768]) in the model instantiated\n",
            "You should probably TRAIN this model on a down-stream task to be able to use it for predictions and inference.\n",
            "Epoch 1/20 [Train]: 100%|██████████| 131/131 [00:32<00:00,  4.01it/s]\n"
          ]
        },
        {
          "output_type": "stream",
          "name": "stdout",
          "text": [
            "Epoch 1 | Train Loss: 0.6566, Acc: 0.7906, F1: 0.7839 | Val Loss: 0.3662, Acc: 0.9776, F1: 0.9776\n",
            "[+] Saved best model (acc=0.9776, loss=0.3662)\n"
          ]
        },
        {
          "output_type": "stream",
          "name": "stderr",
          "text": [
            "Epoch 2/20 [Train]: 100%|██████████| 131/131 [00:28<00:00,  4.68it/s]\n"
          ]
        },
        {
          "output_type": "stream",
          "name": "stdout",
          "text": [
            "Epoch 2 | Train Loss: 0.3538, Acc: 0.9856, F1: 0.9853 | Val Loss: 0.3133, Acc: 0.9978, F1: 0.9978\n",
            "[+] Saved best model (acc=0.9978, loss=0.3133)\n"
          ]
        },
        {
          "output_type": "stream",
          "name": "stderr",
          "text": [
            "Epoch 3/20 [Train]: 100%|██████████| 131/131 [00:27<00:00,  4.74it/s]\n"
          ]
        },
        {
          "output_type": "stream",
          "name": "stdout",
          "text": [
            "Epoch 3 | Train Loss: 0.3164, Acc: 0.9986, F1: 0.9986 | Val Loss: 0.3034, Acc: 1.0000, F1: 1.0000\n",
            "[+] Saved best model (acc=1.0000, loss=0.3034)\n"
          ]
        },
        {
          "output_type": "stream",
          "name": "stderr",
          "text": [
            "Epoch 4/20 [Train]: 100%|██████████| 131/131 [00:28<00:00,  4.67it/s]\n"
          ]
        },
        {
          "output_type": "stream",
          "name": "stdout",
          "text": [
            "Epoch 4 | Train Loss: 0.3066, Acc: 1.0000, F1: 1.0000 | Val Loss: 0.2972, Acc: 1.0000, F1: 1.0000\n"
          ]
        },
        {
          "output_type": "stream",
          "name": "stderr",
          "text": [
            "Epoch 5/20 [Train]: 100%|██████████| 131/131 [00:27<00:00,  4.70it/s]\n"
          ]
        },
        {
          "output_type": "stream",
          "name": "stdout",
          "text": [
            "Epoch 5 | Train Loss: 0.3052, Acc: 0.9990, F1: 0.9990 | Val Loss: 0.2981, Acc: 1.0000, F1: 1.0000\n",
            "🔓 Unfreezing backbone for fine-tuning...\n"
          ]
        },
        {
          "output_type": "stream",
          "name": "stderr",
          "text": [
            "Epoch 6/20 [Train]: 100%|██████████| 131/131 [00:27<00:00,  4.70it/s]\n"
          ]
        },
        {
          "output_type": "stream",
          "name": "stdout",
          "text": [
            "Epoch 6 | Train Loss: 0.3015, Acc: 1.0000, F1: 1.0000 | Val Loss: 0.2942, Acc: 1.0000, F1: 1.0000\n"
          ]
        },
        {
          "output_type": "stream",
          "name": "stderr",
          "text": [
            "Epoch 7/20 [Train]: 100%|██████████| 131/131 [00:28<00:00,  4.66it/s]\n"
          ]
        },
        {
          "output_type": "stream",
          "name": "stdout",
          "text": [
            "Epoch 7 | Train Loss: 0.2988, Acc: 1.0000, F1: 1.0000 | Val Loss: 0.2940, Acc: 1.0000, F1: 1.0000\n"
          ]
        },
        {
          "output_type": "stream",
          "name": "stderr",
          "text": [
            "Epoch 8/20 [Train]: 100%|██████████| 131/131 [00:27<00:00,  4.68it/s]\n"
          ]
        },
        {
          "output_type": "stream",
          "name": "stdout",
          "text": [
            "Epoch 8 | Train Loss: 0.2985, Acc: 1.0000, F1: 1.0000 | Val Loss: 0.2935, Acc: 1.0000, F1: 1.0000\n",
            "⏹️ Early stopping triggered.\n",
            "TEST → Loss: 0.3018 | Acc: 1.0000 | F1: 1.0000\n"
          ]
        }
      ]
    },
    {
      "cell_type": "code",
      "source": [
        "import os\n",
        "import random\n",
        "import numpy as np\n",
        "from tqdm import tqdm\n",
        "\n",
        "import torch\n",
        "import torch.nn as nn\n",
        "import torch.optim as optim\n",
        "from torch.utils.data import DataLoader, random_split\n",
        "from torchvision import transforms\n",
        "from torchvision.datasets import ImageFolder\n",
        "\n",
        "from sklearn.metrics import accuracy_score, f1_score\n",
        "\n",
        "# ======================================================\n",
        "# Config\n",
        "# ======================================================\n",
        "class Args:\n",
        "    data_root = \"/content/dataset/Data/Data\"   # <-- change path\n",
        "    img_size = 224\n",
        "    batch_size = 16\n",
        "    num_workers = 2\n",
        "    epochs = 20\n",
        "    patience = 5\n",
        "    lr_backbone = 1e-5\n",
        "    lr_head = 1e-4\n",
        "    device = \"cuda\" if torch.cuda.is_available() else \"cpu\"\n",
        "    unfreeze_epoch = 5   # unfreeze backbone after N epochs\n",
        "\n",
        "# ======================================================\n",
        "# Dataset & Augmentations\n",
        "# ======================================================\n",
        "transform_train = transforms.Compose([\n",
        "    transforms.Resize((Args.img_size, Args.img_size)),\n",
        "    transforms.RandomHorizontalFlip(),\n",
        "    transforms.RandomVerticalFlip(),\n",
        "    transforms.RandomRotation(30),\n",
        "    transforms.ColorJitter(brightness=0.2, contrast=0.2, saturation=0.2, hue=0.1),\n",
        "    transforms.RandomResizedCrop(Args.img_size, scale=(0.8, 1.0)),\n",
        "    transforms.ToTensor(),\n",
        "    transforms.Normalize([0.5], [0.5])\n",
        "])\n",
        "\n",
        "transform_val = transforms.Compose([\n",
        "    transforms.Resize((Args.img_size, Args.img_size)),\n",
        "    transforms.ToTensor(),\n",
        "    transforms.Normalize([0.5], [0.5])\n",
        "])\n",
        "\n",
        "dataset = ImageFolder(root=Args.data_root, transform=transform_train)\n",
        "num_classes = len(dataset.classes)\n",
        "print(f\"Found {len(dataset)} images across {num_classes} classes: {dataset.classes}\")\n",
        "\n",
        "total_size = len(dataset)\n",
        "train_size = int(0.7 * total_size)\n",
        "val_size = int(0.15 * total_size)\n",
        "test_size = total_size - train_size - val_size\n",
        "train_set, val_set, test_set = random_split(dataset, [train_size, val_size, test_size])\n",
        "\n",
        "val_set.dataset.transform = transform_val\n",
        "test_set.dataset.transform = transform_val\n",
        "\n",
        "train_loader = DataLoader(train_set, batch_size=Args.batch_size, shuffle=True, num_workers=Args.num_workers)\n",
        "val_loader = DataLoader(val_set, batch_size=Args.batch_size, shuffle=False, num_workers=Args.num_workers)\n",
        "test_loader = DataLoader(test_set, batch_size=Args.batch_size, shuffle=False, num_workers=Args.num_workers)\n",
        "\n",
        "# ======================================================\n",
        "# TransUNet Backbone (classification adaptation)\n",
        "# ======================================================\n",
        "class PatchEmbedding(nn.Module):\n",
        "    def __init__(self, img_size=224, patch_size=16, in_channels=3, embed_dim=768):\n",
        "        super().__init__()\n",
        "        self.proj = nn.Conv2d(in_channels, embed_dim, kernel_size=patch_size, stride=patch_size)\n",
        "        self.cls_token = nn.Parameter(torch.zeros(1, 1, embed_dim))\n",
        "        num_patches = (img_size // patch_size) ** 2\n",
        "        self.pos_embed = nn.Parameter(torch.zeros(1, num_patches + 1, embed_dim))\n",
        "        self.dropout = nn.Dropout(0.1)\n",
        "\n",
        "    def forward(self, x):\n",
        "        x = self.proj(x)  # (B, embed_dim, H/patch, W/patch)\n",
        "        x = x.flatten(2).transpose(1, 2)  # (B, num_patches, embed_dim)\n",
        "        cls_tokens = self.cls_token.expand(x.size(0), -1, -1)\n",
        "        x = torch.cat((cls_tokens, x), dim=1)  # add class token\n",
        "        x = x + self.pos_embed\n",
        "        return self.dropout(x)\n",
        "\n",
        "class TransUNetClassifier(nn.Module):\n",
        "    def __init__(self, num_classes, img_size=224, patch_size=16, embed_dim=768, num_heads=8, num_layers=4):\n",
        "        super().__init__()\n",
        "        self.patch_embed = PatchEmbedding(img_size, patch_size, 3, embed_dim)\n",
        "        encoder_layer = nn.TransformerEncoderLayer(d_model=embed_dim, nhead=num_heads, dim_feedforward=embed_dim*4, dropout=0.1)\n",
        "        self.transformer = nn.TransformerEncoder(encoder_layer, num_layers=num_layers)\n",
        "\n",
        "        self.norm = nn.LayerNorm(embed_dim)\n",
        "        self.fc = nn.Sequential(\n",
        "            nn.Dropout(0.3),\n",
        "            nn.Linear(embed_dim, num_classes)\n",
        "        )\n",
        "\n",
        "    def forward(self, x):\n",
        "        x = self.patch_embed(x)       # (B, num_patches+1, embed_dim)\n",
        "        x = x.permute(1, 0, 2)        # (S, B, E)\n",
        "        x = self.transformer(x)       # (S, B, E)\n",
        "        x = x[0]                      # take [CLS] token\n",
        "        x = self.norm(x)\n",
        "        return self.fc(x)\n",
        "\n",
        "model = TransUNetClassifier(num_classes=num_classes).to(Args.device)\n",
        "\n",
        "# ======================================================\n",
        "# Optimizer\n",
        "# ======================================================\n",
        "backbone_params, head_params = [], []\n",
        "for name, param in model.named_parameters():\n",
        "    if \"fc\" in name:\n",
        "        head_params.append(param)\n",
        "    else:\n",
        "        backbone_params.append(param)\n",
        "\n",
        "optimizer = optim.AdamW([\n",
        "    {\"params\": head_params, \"lr\": Args.lr_head},\n",
        "    {\"params\": backbone_params, \"lr\": Args.lr_backbone}\n",
        "], weight_decay=1e-4)\n",
        "\n",
        "criterion = nn.CrossEntropyLoss(label_smoothing=0.1)\n",
        "\n",
        "# ======================================================\n",
        "# Training utils\n",
        "# ======================================================\n",
        "def train_one_epoch(epoch):\n",
        "    model.train()\n",
        "    train_loss, preds, labels = 0, [], []\n",
        "    loop = tqdm(train_loader, desc=f\"Epoch {epoch+1}/{Args.epochs} [Train]\")\n",
        "\n",
        "    for x, y in loop:\n",
        "        x, y = x.to(Args.device), y.to(Args.device)\n",
        "        optimizer.zero_grad()\n",
        "        out = model(x)\n",
        "        loss = criterion(out, y)\n",
        "        loss.backward()\n",
        "        optimizer.step()\n",
        "\n",
        "        train_loss += loss.item() * x.size(0)\n",
        "        preds.extend(out.argmax(1).cpu().numpy())\n",
        "        labels.extend(y.cpu().numpy())\n",
        "\n",
        "    acc = accuracy_score(labels, preds)\n",
        "    f1 = f1_score(labels, preds, average=\"macro\")\n",
        "    return train_loss / len(train_loader.dataset), acc, f1\n",
        "\n",
        "\n",
        "def evaluate(loader, epoch, split=\"Val\"):\n",
        "    model.eval()\n",
        "    val_loss, preds, labels = 0, [], []\n",
        "    with torch.no_grad():\n",
        "        for x, y in loader:\n",
        "            x, y = x.to(Args.device), y.to(Args.device)\n",
        "            out = model(x)\n",
        "            loss = criterion(out, y)\n",
        "\n",
        "            val_loss += loss.item() * x.size(0)\n",
        "            preds.extend(out.argmax(1).cpu().numpy())\n",
        "            labels.extend(y.cpu().numpy())\n",
        "\n",
        "    acc = accuracy_score(labels, preds)\n",
        "    f1 = f1_score(labels, preds, average=\"macro\")\n",
        "    return val_loss / len(loader.dataset), acc, f1\n",
        "\n",
        "# ======================================================\n",
        "# Training Loop with Early Stopping\n",
        "# ======================================================\n",
        "best_acc = 0\n",
        "patience_counter = 0\n",
        "\n",
        "for epoch in range(Args.epochs):\n",
        "    train_loss, train_acc, train_f1 = train_one_epoch(epoch)\n",
        "    val_loss, val_acc, val_f1 = evaluate(val_loader, epoch, split=\"Val\")\n",
        "\n",
        "    print(f\"Epoch {epoch+1} | Train Loss: {train_loss:.4f}, Acc: {train_acc:.4f}, F1: {train_f1:.4f} | \"\n",
        "          f\"Val Loss: {val_loss:.4f}, Acc: {val_acc:.4f}, F1: {val_f1:.4f}\")\n",
        "\n",
        "    if val_acc > best_acc:\n",
        "        best_acc = val_acc\n",
        "        patience_counter = 0\n",
        "        torch.save(model.state_dict(), \"best_transunet_classifier.pth\")\n",
        "        print(f\"[+] Saved best model (acc={val_acc:.4f}, loss={val_loss:.4f})\")\n",
        "    else:\n",
        "        patience_counter += 1\n",
        "\n",
        "    if patience_counter >= Args.patience:\n",
        "        print(\"⏹️ Early stopping triggered.\")\n",
        "        break\n",
        "\n",
        "# ======================================================\n",
        "# Final Test\n",
        "# ======================================================\n",
        "model.load_state_dict(torch.load(\"best_transunet_classifier.pth\"))\n",
        "test_loss, test_acc, test_f1 = evaluate(test_loader, epoch, split=\"Test\")\n",
        "print(f\"TEST → Loss: {test_loss:.4f} | Acc: {test_acc:.4f} | F1: {test_f1:.4f}\")\n"
      ],
      "metadata": {
        "colab": {
          "base_uri": "https://localhost:8080/"
        },
        "id": "qFIp7_o4oTzI",
        "outputId": "539f7c0d-d3f4-488d-87da-623568d9ec50"
      },
      "execution_count": 12,
      "outputs": [
        {
          "output_type": "stream",
          "name": "stderr",
          "text": [
            "/usr/local/lib/python3.11/dist-packages/torch/nn/modules/transformer.py:385: UserWarning: enable_nested_tensor is True, but self.use_nested_tensor is False because encoder_layer.self_attn.batch_first was not True(use batch_first for better inference performance)\n",
            "  warnings.warn(\n"
          ]
        },
        {
          "output_type": "stream",
          "name": "stdout",
          "text": [
            "Found 2982 images across 3 classes: ['AD', 'CN', 'MCI-1']\n"
          ]
        },
        {
          "output_type": "stream",
          "name": "stderr",
          "text": [
            "Epoch 1/20 [Train]: 100%|██████████| 131/131 [00:26<00:00,  4.97it/s]\n"
          ]
        },
        {
          "output_type": "stream",
          "name": "stdout",
          "text": [
            "Epoch 1 | Train Loss: 1.1557, Acc: 0.3551, F1: 0.3469 | Val Loss: 1.0498, Acc: 0.4787, F1: 0.3467\n",
            "[+] Saved best model (acc=0.4787, loss=1.0498)\n"
          ]
        },
        {
          "output_type": "stream",
          "name": "stderr",
          "text": [
            "Epoch 2/20 [Train]: 100%|██████████| 131/131 [00:26<00:00,  4.98it/s]\n"
          ]
        },
        {
          "output_type": "stream",
          "name": "stdout",
          "text": [
            "Epoch 2 | Train Loss: 1.0642, Acc: 0.4451, F1: 0.4354 | Val Loss: 0.9654, Acc: 0.5794, F1: 0.5712\n",
            "[+] Saved best model (acc=0.5794, loss=0.9654)\n"
          ]
        },
        {
          "output_type": "stream",
          "name": "stderr",
          "text": [
            "Epoch 3/20 [Train]: 100%|██████████| 131/131 [00:25<00:00,  5.07it/s]\n"
          ]
        },
        {
          "output_type": "stream",
          "name": "stdout",
          "text": [
            "Epoch 3 | Train Loss: 0.9764, Acc: 0.5242, F1: 0.5204 | Val Loss: 1.1505, Acc: 0.3937, F1: 0.3107\n"
          ]
        },
        {
          "output_type": "stream",
          "name": "stderr",
          "text": [
            "Epoch 4/20 [Train]: 100%|██████████| 131/131 [00:25<00:00,  5.06it/s]\n"
          ]
        },
        {
          "output_type": "stream",
          "name": "stdout",
          "text": [
            "Epoch 4 | Train Loss: 0.9195, Acc: 0.5683, F1: 0.5537 | Val Loss: 0.8520, Acc: 0.6577, F1: 0.6566\n",
            "[+] Saved best model (acc=0.6577, loss=0.8520)\n"
          ]
        },
        {
          "output_type": "stream",
          "name": "stderr",
          "text": [
            "Epoch 5/20 [Train]: 100%|██████████| 131/131 [00:26<00:00,  4.99it/s]\n"
          ]
        },
        {
          "output_type": "stream",
          "name": "stdout",
          "text": [
            "Epoch 5 | Train Loss: 0.7899, Acc: 0.6895, F1: 0.6818 | Val Loss: 0.6895, Acc: 0.7763, F1: 0.7695\n",
            "[+] Saved best model (acc=0.7763, loss=0.6895)\n"
          ]
        },
        {
          "output_type": "stream",
          "name": "stderr",
          "text": [
            "Epoch 6/20 [Train]: 100%|██████████| 131/131 [00:26<00:00,  5.02it/s]\n"
          ]
        },
        {
          "output_type": "stream",
          "name": "stdout",
          "text": [
            "Epoch 6 | Train Loss: 0.6968, Acc: 0.7571, F1: 0.7538 | Val Loss: 0.6038, Acc: 0.8479, F1: 0.8461\n",
            "[+] Saved best model (acc=0.8479, loss=0.6038)\n"
          ]
        },
        {
          "output_type": "stream",
          "name": "stderr",
          "text": [
            "Epoch 7/20 [Train]: 100%|██████████| 131/131 [00:26<00:00,  5.01it/s]\n"
          ]
        },
        {
          "output_type": "stream",
          "name": "stdout",
          "text": [
            "Epoch 7 | Train Loss: 0.5809, Acc: 0.8448, F1: 0.8426 | Val Loss: 0.6757, Acc: 0.8054, F1: 0.7597\n"
          ]
        },
        {
          "output_type": "stream",
          "name": "stderr",
          "text": [
            "Epoch 8/20 [Train]: 100%|██████████| 131/131 [00:26<00:00,  4.99it/s]\n"
          ]
        },
        {
          "output_type": "stream",
          "name": "stdout",
          "text": [
            "Epoch 8 | Train Loss: 0.5092, Acc: 0.8965, F1: 0.8945 | Val Loss: 0.4350, Acc: 0.9530, F1: 0.9521\n",
            "[+] Saved best model (acc=0.9530, loss=0.4350)\n"
          ]
        },
        {
          "output_type": "stream",
          "name": "stderr",
          "text": [
            "Epoch 9/20 [Train]: 100%|██████████| 131/131 [00:26<00:00,  5.02it/s]\n"
          ]
        },
        {
          "output_type": "stream",
          "name": "stdout",
          "text": [
            "Epoch 9 | Train Loss: 0.4415, Acc: 0.9396, F1: 0.9385 | Val Loss: 0.4694, Acc: 0.9374, F1: 0.9362\n"
          ]
        },
        {
          "output_type": "stream",
          "name": "stderr",
          "text": [
            "Epoch 10/20 [Train]: 100%|██████████| 131/131 [00:26<00:00,  5.02it/s]\n"
          ]
        },
        {
          "output_type": "stream",
          "name": "stdout",
          "text": [
            "Epoch 10 | Train Loss: 0.4044, Acc: 0.9645, F1: 0.9640 | Val Loss: 0.4140, Acc: 0.9575, F1: 0.9564\n",
            "[+] Saved best model (acc=0.9575, loss=0.4140)\n"
          ]
        },
        {
          "output_type": "stream",
          "name": "stderr",
          "text": [
            "Epoch 11/20 [Train]: 100%|██████████| 131/131 [00:26<00:00,  5.01it/s]\n"
          ]
        },
        {
          "output_type": "stream",
          "name": "stdout",
          "text": [
            "Epoch 11 | Train Loss: 0.3851, Acc: 0.9689, F1: 0.9683 | Val Loss: 0.3877, Acc: 0.9709, F1: 0.9700\n",
            "[+] Saved best model (acc=0.9709, loss=0.3877)\n"
          ]
        },
        {
          "output_type": "stream",
          "name": "stderr",
          "text": [
            "Epoch 12/20 [Train]: 100%|██████████| 131/131 [00:26<00:00,  5.02it/s]\n"
          ]
        },
        {
          "output_type": "stream",
          "name": "stdout",
          "text": [
            "Epoch 12 | Train Loss: 0.3659, Acc: 0.9784, F1: 0.9781 | Val Loss: 0.3641, Acc: 0.9821, F1: 0.9822\n",
            "[+] Saved best model (acc=0.9821, loss=0.3641)\n"
          ]
        },
        {
          "output_type": "stream",
          "name": "stderr",
          "text": [
            "Epoch 13/20 [Train]: 100%|██████████| 131/131 [00:26<00:00,  5.00it/s]\n"
          ]
        },
        {
          "output_type": "stream",
          "name": "stdout",
          "text": [
            "Epoch 13 | Train Loss: 0.3468, Acc: 0.9880, F1: 0.9879 | Val Loss: 0.3753, Acc: 0.9821, F1: 0.9818\n"
          ]
        },
        {
          "output_type": "stream",
          "name": "stderr",
          "text": [
            "Epoch 14/20 [Train]: 100%|██████████| 131/131 [00:26<00:00,  5.03it/s]\n"
          ]
        },
        {
          "output_type": "stream",
          "name": "stdout",
          "text": [
            "Epoch 14 | Train Loss: 0.3440, Acc: 0.9880, F1: 0.9878 | Val Loss: 0.3502, Acc: 0.9888, F1: 0.9891\n",
            "[+] Saved best model (acc=0.9888, loss=0.3502)\n"
          ]
        },
        {
          "output_type": "stream",
          "name": "stderr",
          "text": [
            "Epoch 15/20 [Train]: 100%|██████████| 131/131 [00:26<00:00,  5.04it/s]\n"
          ]
        },
        {
          "output_type": "stream",
          "name": "stdout",
          "text": [
            "Epoch 15 | Train Loss: 0.3429, Acc: 0.9871, F1: 0.9867 | Val Loss: 0.3389, Acc: 0.9866, F1: 0.9866\n"
          ]
        },
        {
          "output_type": "stream",
          "name": "stderr",
          "text": [
            "Epoch 16/20 [Train]: 100%|██████████| 131/131 [00:26<00:00,  4.98it/s]\n"
          ]
        },
        {
          "output_type": "stream",
          "name": "stdout",
          "text": [
            "Epoch 16 | Train Loss: 0.3292, Acc: 0.9928, F1: 0.9928 | Val Loss: 0.3265, Acc: 0.9911, F1: 0.9913\n",
            "[+] Saved best model (acc=0.9911, loss=0.3265)\n"
          ]
        },
        {
          "output_type": "stream",
          "name": "stderr",
          "text": [
            "Epoch 17/20 [Train]: 100%|██████████| 131/131 [00:26<00:00,  5.01it/s]\n"
          ]
        },
        {
          "output_type": "stream",
          "name": "stdout",
          "text": [
            "Epoch 17 | Train Loss: 0.3244, Acc: 0.9947, F1: 0.9947 | Val Loss: 0.3379, Acc: 0.9866, F1: 0.9869\n"
          ]
        },
        {
          "output_type": "stream",
          "name": "stderr",
          "text": [
            "Epoch 18/20 [Train]: 100%|██████████| 131/131 [00:26<00:00,  4.99it/s]\n"
          ]
        },
        {
          "output_type": "stream",
          "name": "stdout",
          "text": [
            "Epoch 18 | Train Loss: 0.3162, Acc: 0.9981, F1: 0.9980 | Val Loss: 0.3252, Acc: 0.9911, F1: 0.9913\n"
          ]
        },
        {
          "output_type": "stream",
          "name": "stderr",
          "text": [
            "Epoch 19/20 [Train]: 100%|██████████| 131/131 [00:25<00:00,  5.04it/s]\n"
          ]
        },
        {
          "output_type": "stream",
          "name": "stdout",
          "text": [
            "Epoch 19 | Train Loss: 0.3147, Acc: 0.9966, F1: 0.9965 | Val Loss: 0.3130, Acc: 0.9933, F1: 0.9931\n",
            "[+] Saved best model (acc=0.9933, loss=0.3130)\n"
          ]
        },
        {
          "output_type": "stream",
          "name": "stderr",
          "text": [
            "Epoch 20/20 [Train]: 100%|██████████| 131/131 [00:26<00:00,  5.02it/s]\n"
          ]
        },
        {
          "output_type": "stream",
          "name": "stdout",
          "text": [
            "Epoch 20 | Train Loss: 0.3119, Acc: 0.9976, F1: 0.9976 | Val Loss: 0.3124, Acc: 0.9955, F1: 0.9956\n",
            "[+] Saved best model (acc=0.9955, loss=0.3124)\n",
            "TEST → Loss: 0.3189 | Acc: 0.9911 | F1: 0.9911\n"
          ]
        }
      ]
    },
    {
      "cell_type": "code",
      "source": [
        "import os\n",
        "import random\n",
        "import numpy as np\n",
        "from tqdm import tqdm\n",
        "\n",
        "import torch\n",
        "import torch.nn as nn\n",
        "import torch.optim as optim\n",
        "from torch.utils.data import DataLoader, Subset\n",
        "from torchvision import transforms\n",
        "from torchvision.datasets import ImageFolder\n",
        "\n",
        "from sklearn.model_selection import KFold\n",
        "from sklearn.metrics import accuracy_score, f1_score\n",
        "\n",
        "# ======================================================\n",
        "# Config\n",
        "# ======================================================\n",
        "class Args:\n",
        "    data_root = \"/content/dataset/Data/Data\"   # <-- change path\n",
        "    img_size = 224\n",
        "    batch_size = 16\n",
        "    num_workers = 2\n",
        "    epochs = 20\n",
        "    patience = 5\n",
        "    lr_backbone = 1e-5\n",
        "    lr_head = 1e-4\n",
        "    device = \"cuda\" if torch.cuda.is_available() else \"cpu\"\n",
        "    unfreeze_epoch = 5   # unfreeze backbone after N epochs\n",
        "    n_splits = 5         # KFold splits\n",
        "\n",
        "# ======================================================\n",
        "# Dataset & Augmentations\n",
        "# ======================================================\n",
        "transform_train = transforms.Compose([\n",
        "    transforms.Resize((Args.img_size, Args.img_size)),\n",
        "    transforms.RandomHorizontalFlip(),\n",
        "    transforms.RandomVerticalFlip(),\n",
        "    transforms.RandomRotation(30),\n",
        "    transforms.ColorJitter(brightness=0.2, contrast=0.2, saturation=0.2, hue=0.1),\n",
        "    transforms.RandomResizedCrop(Args.img_size, scale=(0.8, 1.0)),\n",
        "    transforms.ToTensor(),\n",
        "    transforms.Normalize([0.5], [0.5])\n",
        "])\n",
        "\n",
        "transform_val = transforms.Compose([\n",
        "    transforms.Resize((Args.img_size, Args.img_size)),\n",
        "    transforms.ToTensor(),\n",
        "    transforms.Normalize([0.5], [0.5])\n",
        "])\n",
        "\n",
        "dataset = ImageFolder(root=Args.data_root, transform=transform_train)\n",
        "num_classes = len(dataset.classes)\n",
        "print(f\"Found {len(dataset)} images across {num_classes} classes: {dataset.classes}\")\n",
        "\n",
        "# ======================================================\n",
        "# Model Definition\n",
        "# ======================================================\n",
        "class PatchEmbedding(nn.Module):\n",
        "    def __init__(self, img_size=224, patch_size=16, in_channels=3, embed_dim=768):\n",
        "        super().__init__()\n",
        "        self.proj = nn.Conv2d(in_channels, embed_dim, kernel_size=patch_size, stride=patch_size)\n",
        "        self.cls_token = nn.Parameter(torch.zeros(1, 1, embed_dim))\n",
        "        num_patches = (img_size // patch_size) ** 2\n",
        "        self.pos_embed = nn.Parameter(torch.zeros(1, num_patches + 1, embed_dim))\n",
        "        self.dropout = nn.Dropout(0.1)\n",
        "\n",
        "    def forward(self, x):\n",
        "        x = self.proj(x)\n",
        "        x = x.flatten(2).transpose(1, 2)\n",
        "        cls_tokens = self.cls_token.expand(x.size(0), -1, -1)\n",
        "        x = torch.cat((cls_tokens, x), dim=1)\n",
        "        x = x + self.pos_embed\n",
        "        return self.dropout(x)\n",
        "\n",
        "class TransUNetClassifier(nn.Module):\n",
        "    def __init__(self, num_classes, img_size=224, patch_size=16, embed_dim=768, num_heads=8, num_layers=4):\n",
        "        super().__init__()\n",
        "        self.patch_embed = PatchEmbedding(img_size, patch_size, 3, embed_dim)\n",
        "        encoder_layer = nn.TransformerEncoderLayer(d_model=embed_dim, nhead=num_heads,\n",
        "                                                   dim_feedforward=embed_dim*4, dropout=0.1)\n",
        "        self.transformer = nn.TransformerEncoder(encoder_layer, num_layers=num_layers)\n",
        "\n",
        "        self.norm = nn.LayerNorm(embed_dim)\n",
        "        self.fc = nn.Sequential(\n",
        "            nn.Dropout(0.3),\n",
        "            nn.Linear(embed_dim, num_classes)\n",
        "        )\n",
        "\n",
        "    def forward(self, x):\n",
        "        x = self.patch_embed(x)\n",
        "        x = x.permute(1, 0, 2)\n",
        "        x = self.transformer(x)\n",
        "        x = x[0]\n",
        "        x = self.norm(x)\n",
        "        return self.fc(x)\n",
        "\n",
        "# ======================================================\n",
        "# Training/Eval Functions\n",
        "# ======================================================\n",
        "def train_one_epoch(model, train_loader, optimizer, criterion, epoch):\n",
        "    model.train()\n",
        "    train_loss, preds, labels = 0, [], []\n",
        "    loop = tqdm(train_loader, desc=f\"Epoch {epoch+1}/{Args.epochs} [Train]\")\n",
        "\n",
        "    for x, y in loop:\n",
        "        x, y = x.to(Args.device), y.to(Args.device)\n",
        "        optimizer.zero_grad()\n",
        "        out = model(x)\n",
        "        loss = criterion(out, y)\n",
        "        loss.backward()\n",
        "        optimizer.step()\n",
        "\n",
        "        train_loss += loss.item() * x.size(0)\n",
        "        preds.extend(out.argmax(1).cpu().numpy())\n",
        "        labels.extend(y.cpu().numpy())\n",
        "\n",
        "    acc = accuracy_score(labels, preds)\n",
        "    f1 = f1_score(labels, preds, average=\"macro\")\n",
        "    return train_loss / len(train_loader.dataset), acc, f1\n",
        "\n",
        "def evaluate(model, loader, criterion, epoch, split=\"Val\"):\n",
        "    model.eval()\n",
        "    val_loss, preds, labels = 0, [], []\n",
        "    with torch.no_grad():\n",
        "        for x, y in loader:\n",
        "            x, y = x.to(Args.device), y.to(Args.device)\n",
        "            out = model(x)\n",
        "            loss = criterion(out, y)\n",
        "\n",
        "            val_loss += loss.item() * x.size(0)\n",
        "            preds.extend(out.argmax(1).cpu().numpy())\n",
        "            labels.extend(y.cpu().numpy())\n",
        "\n",
        "    acc = accuracy_score(labels, preds)\n",
        "    f1 = f1_score(labels, preds, average=\"macro\")\n",
        "    return val_loss / len(loader.dataset), acc, f1\n",
        "\n",
        "# ======================================================\n",
        "# K-Fold Cross Validation\n",
        "# ======================================================\n",
        "kf = KFold(n_splits=Args.n_splits, shuffle=True, random_state=42)\n",
        "fold_results = []\n",
        "\n",
        "for fold, (train_idx, val_idx) in enumerate(kf.split(np.arange(len(dataset)))):\n",
        "    print(f\"\\n========== Fold {fold+1}/{Args.n_splits} ==========\")\n",
        "\n",
        "    # Subset for current fold\n",
        "    train_subset = Subset(dataset, train_idx)\n",
        "    val_subset = Subset(dataset, val_idx)\n",
        "\n",
        "    # Apply transforms separately\n",
        "    train_subset.dataset.transform = transform_train\n",
        "    val_subset.dataset.transform = transform_val\n",
        "\n",
        "    train_loader = DataLoader(train_subset, batch_size=Args.batch_size, shuffle=True, num_workers=Args.num_workers)\n",
        "    val_loader = DataLoader(val_subset, batch_size=Args.batch_size, shuffle=False, num_workers=Args.num_workers)\n",
        "\n",
        "    # Initialize model + optimizer + loss fresh for each fold\n",
        "    model = TransUNetClassifier(num_classes=num_classes).to(Args.device)\n",
        "    backbone_params, head_params = [], []\n",
        "    for name, param in model.named_parameters():\n",
        "        if \"fc\" in name:\n",
        "            head_params.append(param)\n",
        "        else:\n",
        "            backbone_params.append(param)\n",
        "\n",
        "    optimizer = optim.AdamW([\n",
        "        {\"params\": head_params, \"lr\": Args.lr_head},\n",
        "        {\"params\": backbone_params, \"lr\": Args.lr_backbone}\n",
        "    ], weight_decay=1e-4)\n",
        "    criterion = nn.CrossEntropyLoss(label_smoothing=0.1)\n",
        "\n",
        "    best_acc = 0\n",
        "    patience_counter = 0\n",
        "\n",
        "    # Training Loop\n",
        "    for epoch in range(Args.epochs):\n",
        "        train_loss, train_acc, train_f1 = train_one_epoch(model, train_loader, optimizer, criterion, epoch)\n",
        "        val_loss, val_acc, val_f1 = evaluate(model, val_loader, criterion, epoch, split=\"Val\")\n",
        "\n",
        "        print(f\"Fold {fold+1} | Epoch {epoch+1} | \"\n",
        "              f\"Train Loss: {train_loss:.4f}, Acc: {train_acc:.4f}, F1: {train_f1:.4f} | \"\n",
        "              f\"Val Loss: {val_loss:.4f}, Acc: {val_acc:.4f}, F1: {val_f1:.4f}\")\n",
        "\n",
        "        # Early stopping\n",
        "        if val_acc > best_acc:\n",
        "            best_acc = val_acc\n",
        "            patience_counter = 0\n",
        "            torch.save(model.state_dict(), f\"best_transunet_fold{fold+1}.pth\")\n",
        "        else:\n",
        "            patience_counter += 1\n",
        "\n",
        "        if patience_counter >= Args.patience:\n",
        "            print(\"⏹️ Early stopping triggered.\")\n",
        "            break\n",
        "\n",
        "    fold_results.append(best_acc)\n",
        "\n",
        "print(\"\\n========== Cross-validation Results ==========\")\n",
        "print(f\"Per-fold acc: {fold_results}\")\n",
        "print(f\"Mean acc: {np.mean(fold_results):.4f} | Std: {np.std(fold_results):.4f}\")\n"
      ],
      "metadata": {
        "colab": {
          "base_uri": "https://localhost:8080/"
        },
        "id": "TtwDOJtjrPrO",
        "outputId": "066beaf2-7b9f-474f-e581-06cef5a09927"
      },
      "execution_count": 13,
      "outputs": [
        {
          "output_type": "stream",
          "name": "stderr",
          "text": [
            "/usr/local/lib/python3.11/dist-packages/torch/nn/modules/transformer.py:385: UserWarning: enable_nested_tensor is True, but self.use_nested_tensor is False because encoder_layer.self_attn.batch_first was not True(use batch_first for better inference performance)\n",
            "  warnings.warn(\n"
          ]
        },
        {
          "output_type": "stream",
          "name": "stdout",
          "text": [
            "Found 2982 images across 3 classes: ['AD', 'CN', 'MCI-1']\n",
            "\n",
            "========== Fold 1/5 ==========\n"
          ]
        },
        {
          "output_type": "stream",
          "name": "stderr",
          "text": [
            "Epoch 1/20 [Train]: 100%|██████████| 150/150 [00:29<00:00,  5.01it/s]\n"
          ]
        },
        {
          "output_type": "stream",
          "name": "stdout",
          "text": [
            "Fold 1 | Epoch 1 | Train Loss: 1.1564, Acc: 0.3690, F1: 0.3575 | Val Loss: 1.0616, Acc: 0.4338, F1: 0.3385\n"
          ]
        },
        {
          "output_type": "stream",
          "name": "stderr",
          "text": [
            "Epoch 2/20 [Train]: 100%|██████████| 150/150 [00:29<00:00,  5.01it/s]\n"
          ]
        },
        {
          "output_type": "stream",
          "name": "stdout",
          "text": [
            "Fold 1 | Epoch 2 | Train Loss: 1.0590, Acc: 0.4415, F1: 0.4254 | Val Loss: 1.0376, Acc: 0.4807, F1: 0.3917\n"
          ]
        },
        {
          "output_type": "stream",
          "name": "stderr",
          "text": [
            "Epoch 3/20 [Train]: 100%|██████████| 150/150 [00:29<00:00,  5.06it/s]\n"
          ]
        },
        {
          "output_type": "stream",
          "name": "stdout",
          "text": [
            "Fold 1 | Epoch 3 | Train Loss: 0.9747, Acc: 0.5342, F1: 0.5226 | Val Loss: 0.9991, Acc: 0.5310, F1: 0.4322\n"
          ]
        },
        {
          "output_type": "stream",
          "name": "stderr",
          "text": [
            "Epoch 4/20 [Train]: 100%|██████████| 150/150 [00:29<00:00,  5.04it/s]\n"
          ]
        },
        {
          "output_type": "stream",
          "name": "stdout",
          "text": [
            "Fold 1 | Epoch 4 | Train Loss: 0.8486, Acc: 0.6423, F1: 0.6319 | Val Loss: 0.8044, Acc: 0.6633, F1: 0.6538\n"
          ]
        },
        {
          "output_type": "stream",
          "name": "stderr",
          "text": [
            "Epoch 5/20 [Train]: 100%|██████████| 150/150 [00:29<00:00,  5.04it/s]\n"
          ]
        },
        {
          "output_type": "stream",
          "name": "stdout",
          "text": [
            "Fold 1 | Epoch 5 | Train Loss: 0.7330, Acc: 0.7266, F1: 0.7189 | Val Loss: 0.6023, Acc: 0.8157, F1: 0.8207\n"
          ]
        },
        {
          "output_type": "stream",
          "name": "stderr",
          "text": [
            "Epoch 6/20 [Train]: 100%|██████████| 150/150 [00:29<00:00,  5.05it/s]\n"
          ]
        },
        {
          "output_type": "stream",
          "name": "stdout",
          "text": [
            "Fold 1 | Epoch 6 | Train Loss: 0.5800, Acc: 0.8465, F1: 0.8424 | Val Loss: 0.6959, Acc: 0.7672, F1: 0.7583\n"
          ]
        },
        {
          "output_type": "stream",
          "name": "stderr",
          "text": [
            "Epoch 7/20 [Train]: 100%|██████████| 150/150 [00:29<00:00,  5.04it/s]\n"
          ]
        },
        {
          "output_type": "stream",
          "name": "stdout",
          "text": [
            "Fold 1 | Epoch 7 | Train Loss: 0.5111, Acc: 0.8939, F1: 0.8917 | Val Loss: 0.4463, Acc: 0.9330, F1: 0.9319\n"
          ]
        },
        {
          "output_type": "stream",
          "name": "stderr",
          "text": [
            "Epoch 8/20 [Train]: 100%|██████████| 150/150 [00:29<00:00,  5.04it/s]\n"
          ]
        },
        {
          "output_type": "stream",
          "name": "stdout",
          "text": [
            "Fold 1 | Epoch 8 | Train Loss: 0.4536, Acc: 0.9266, F1: 0.9244 | Val Loss: 0.3871, Acc: 0.9732, F1: 0.9727\n"
          ]
        },
        {
          "output_type": "stream",
          "name": "stderr",
          "text": [
            "Epoch 9/20 [Train]: 100%|██████████| 150/150 [00:29<00:00,  5.04it/s]\n"
          ]
        },
        {
          "output_type": "stream",
          "name": "stdout",
          "text": [
            "Fold 1 | Epoch 9 | Train Loss: 0.4187, Acc: 0.9476, F1: 0.9466 | Val Loss: 0.4050, Acc: 0.9631, F1: 0.9623\n"
          ]
        },
        {
          "output_type": "stream",
          "name": "stderr",
          "text": [
            "Epoch 10/20 [Train]: 100%|██████████| 150/150 [00:29<00:00,  5.03it/s]\n"
          ]
        },
        {
          "output_type": "stream",
          "name": "stdout",
          "text": [
            "Fold 1 | Epoch 10 | Train Loss: 0.3804, Acc: 0.9753, F1: 0.9744 | Val Loss: 0.3576, Acc: 0.9849, F1: 0.9845\n"
          ]
        },
        {
          "output_type": "stream",
          "name": "stderr",
          "text": [
            "Epoch 11/20 [Train]: 100%|██████████| 150/150 [00:29<00:00,  5.03it/s]\n"
          ]
        },
        {
          "output_type": "stream",
          "name": "stdout",
          "text": [
            "Fold 1 | Epoch 11 | Train Loss: 0.3679, Acc: 0.9824, F1: 0.9816 | Val Loss: 0.3810, Acc: 0.9765, F1: 0.9760\n"
          ]
        },
        {
          "output_type": "stream",
          "name": "stderr",
          "text": [
            "Epoch 12/20 [Train]: 100%|██████████| 150/150 [00:29<00:00,  5.05it/s]\n"
          ]
        },
        {
          "output_type": "stream",
          "name": "stdout",
          "text": [
            "Fold 1 | Epoch 12 | Train Loss: 0.3598, Acc: 0.9841, F1: 0.9837 | Val Loss: 0.3487, Acc: 0.9832, F1: 0.9827\n"
          ]
        },
        {
          "output_type": "stream",
          "name": "stderr",
          "text": [
            "Epoch 13/20 [Train]: 100%|██████████| 150/150 [00:29<00:00,  5.02it/s]\n"
          ]
        },
        {
          "output_type": "stream",
          "name": "stdout",
          "text": [
            "Fold 1 | Epoch 13 | Train Loss: 0.3490, Acc: 0.9895, F1: 0.9892 | Val Loss: 0.3407, Acc: 0.9950, F1: 0.9948\n"
          ]
        },
        {
          "output_type": "stream",
          "name": "stderr",
          "text": [
            "Epoch 14/20 [Train]: 100%|██████████| 150/150 [00:29<00:00,  5.05it/s]\n"
          ]
        },
        {
          "output_type": "stream",
          "name": "stdout",
          "text": [
            "Fold 1 | Epoch 14 | Train Loss: 0.3389, Acc: 0.9950, F1: 0.9948 | Val Loss: 0.3364, Acc: 0.9933, F1: 0.9932\n"
          ]
        },
        {
          "output_type": "stream",
          "name": "stderr",
          "text": [
            "Epoch 15/20 [Train]: 100%|██████████| 150/150 [00:29<00:00,  5.03it/s]\n"
          ]
        },
        {
          "output_type": "stream",
          "name": "stdout",
          "text": [
            "Fold 1 | Epoch 15 | Train Loss: 0.3339, Acc: 0.9954, F1: 0.9952 | Val Loss: 0.3329, Acc: 0.9899, F1: 0.9898\n"
          ]
        },
        {
          "output_type": "stream",
          "name": "stderr",
          "text": [
            "Epoch 16/20 [Train]: 100%|██████████| 150/150 [00:29<00:00,  5.04it/s]\n"
          ]
        },
        {
          "output_type": "stream",
          "name": "stdout",
          "text": [
            "Fold 1 | Epoch 16 | Train Loss: 0.3297, Acc: 0.9954, F1: 0.9953 | Val Loss: 0.3403, Acc: 0.9916, F1: 0.9914\n"
          ]
        },
        {
          "output_type": "stream",
          "name": "stderr",
          "text": [
            "Epoch 17/20 [Train]: 100%|██████████| 150/150 [00:29<00:00,  5.05it/s]\n"
          ]
        },
        {
          "output_type": "stream",
          "name": "stdout",
          "text": [
            "Fold 1 | Epoch 17 | Train Loss: 0.3229, Acc: 0.9983, F1: 0.9983 | Val Loss: 0.3225, Acc: 0.9950, F1: 0.9948\n"
          ]
        },
        {
          "output_type": "stream",
          "name": "stderr",
          "text": [
            "Epoch 18/20 [Train]: 100%|██████████| 150/150 [00:29<00:00,  5.05it/s]\n"
          ]
        },
        {
          "output_type": "stream",
          "name": "stdout",
          "text": [
            "Fold 1 | Epoch 18 | Train Loss: 0.3184, Acc: 0.9975, F1: 0.9974 | Val Loss: 0.3121, Acc: 1.0000, F1: 1.0000\n"
          ]
        },
        {
          "output_type": "stream",
          "name": "stderr",
          "text": [
            "Epoch 19/20 [Train]: 100%|██████████| 150/150 [00:30<00:00,  4.98it/s]\n"
          ]
        },
        {
          "output_type": "stream",
          "name": "stdout",
          "text": [
            "Fold 1 | Epoch 19 | Train Loss: 0.3147, Acc: 0.9987, F1: 0.9986 | Val Loss: 0.3128, Acc: 0.9983, F1: 0.9983\n"
          ]
        },
        {
          "output_type": "stream",
          "name": "stderr",
          "text": [
            "Epoch 20/20 [Train]: 100%|██████████| 150/150 [00:29<00:00,  5.04it/s]\n",
            "/usr/local/lib/python3.11/dist-packages/torch/nn/modules/transformer.py:385: UserWarning: enable_nested_tensor is True, but self.use_nested_tensor is False because encoder_layer.self_attn.batch_first was not True(use batch_first for better inference performance)\n",
            "  warnings.warn(\n"
          ]
        },
        {
          "output_type": "stream",
          "name": "stdout",
          "text": [
            "Fold 1 | Epoch 20 | Train Loss: 0.3149, Acc: 0.9979, F1: 0.9977 | Val Loss: 0.3079, Acc: 1.0000, F1: 1.0000\n",
            "\n",
            "========== Fold 2/5 ==========\n"
          ]
        },
        {
          "output_type": "stream",
          "name": "stderr",
          "text": [
            "Epoch 1/20 [Train]: 100%|██████████| 150/150 [00:29<00:00,  5.04it/s]\n"
          ]
        },
        {
          "output_type": "stream",
          "name": "stdout",
          "text": [
            "Fold 2 | Epoch 1 | Train Loss: 1.1554, Acc: 0.3547, F1: 0.3455 | Val Loss: 1.0827, Acc: 0.4188, F1: 0.2656\n"
          ]
        },
        {
          "output_type": "stream",
          "name": "stderr",
          "text": [
            "Epoch 2/20 [Train]: 100%|██████████| 150/150 [00:29<00:00,  5.04it/s]\n"
          ]
        },
        {
          "output_type": "stream",
          "name": "stdout",
          "text": [
            "Fold 2 | Epoch 2 | Train Loss: 1.0552, Acc: 0.4591, F1: 0.4530 | Val Loss: 0.9944, Acc: 0.5109, F1: 0.4832\n"
          ]
        },
        {
          "output_type": "stream",
          "name": "stderr",
          "text": [
            "Epoch 3/20 [Train]: 100%|██████████| 150/150 [00:29<00:00,  5.03it/s]\n"
          ]
        },
        {
          "output_type": "stream",
          "name": "stdout",
          "text": [
            "Fold 2 | Epoch 3 | Train Loss: 0.9676, Acc: 0.5275, F1: 0.5189 | Val Loss: 1.0399, Acc: 0.4623, F1: 0.3906\n"
          ]
        },
        {
          "output_type": "stream",
          "name": "stderr",
          "text": [
            "Epoch 4/20 [Train]: 100%|██████████| 150/150 [00:29<00:00,  5.04it/s]\n"
          ]
        },
        {
          "output_type": "stream",
          "name": "stdout",
          "text": [
            "Fold 2 | Epoch 4 | Train Loss: 0.8498, Acc: 0.6478, F1: 0.6424 | Val Loss: 0.6694, Acc: 0.7990, F1: 0.7984\n"
          ]
        },
        {
          "output_type": "stream",
          "name": "stderr",
          "text": [
            "Epoch 5/20 [Train]: 100%|██████████| 150/150 [00:29<00:00,  5.03it/s]\n"
          ]
        },
        {
          "output_type": "stream",
          "name": "stdout",
          "text": [
            "Fold 2 | Epoch 5 | Train Loss: 0.6706, Acc: 0.7836, F1: 0.7814 | Val Loss: 0.7153, Acc: 0.7487, F1: 0.7303\n"
          ]
        },
        {
          "output_type": "stream",
          "name": "stderr",
          "text": [
            "Epoch 6/20 [Train]: 100%|██████████| 150/150 [00:29<00:00,  5.03it/s]\n"
          ]
        },
        {
          "output_type": "stream",
          "name": "stdout",
          "text": [
            "Fold 2 | Epoch 6 | Train Loss: 0.5623, Acc: 0.8600, F1: 0.8580 | Val Loss: 0.6661, Acc: 0.8258, F1: 0.8060\n"
          ]
        },
        {
          "output_type": "stream",
          "name": "stderr",
          "text": [
            "Epoch 7/20 [Train]: 100%|██████████| 150/150 [00:29<00:00,  5.03it/s]\n"
          ]
        },
        {
          "output_type": "stream",
          "name": "stdout",
          "text": [
            "Fold 2 | Epoch 7 | Train Loss: 0.4736, Acc: 0.9178, F1: 0.9177 | Val Loss: 0.5190, Acc: 0.9079, F1: 0.9070\n"
          ]
        },
        {
          "output_type": "stream",
          "name": "stderr",
          "text": [
            "Epoch 8/20 [Train]: 100%|██████████| 150/150 [00:29<00:00,  5.03it/s]\n"
          ]
        },
        {
          "output_type": "stream",
          "name": "stdout",
          "text": [
            "Fold 2 | Epoch 8 | Train Loss: 0.4322, Acc: 0.9405, F1: 0.9403 | Val Loss: 0.4292, Acc: 0.9464, F1: 0.9442\n"
          ]
        },
        {
          "output_type": "stream",
          "name": "stderr",
          "text": [
            "Epoch 9/20 [Train]: 100%|██████████| 150/150 [00:30<00:00,  4.99it/s]\n"
          ]
        },
        {
          "output_type": "stream",
          "name": "stdout",
          "text": [
            "Fold 2 | Epoch 9 | Train Loss: 0.3977, Acc: 0.9639, F1: 0.9635 | Val Loss: 0.4828, Acc: 0.9162, F1: 0.9173\n"
          ]
        },
        {
          "output_type": "stream",
          "name": "stderr",
          "text": [
            "Epoch 10/20 [Train]: 100%|██████████| 150/150 [00:29<00:00,  5.04it/s]\n"
          ]
        },
        {
          "output_type": "stream",
          "name": "stdout",
          "text": [
            "Fold 2 | Epoch 10 | Train Loss: 0.4153, Acc: 0.9568, F1: 0.9568 | Val Loss: 0.3658, Acc: 0.9832, F1: 0.9830\n"
          ]
        },
        {
          "output_type": "stream",
          "name": "stderr",
          "text": [
            "Epoch 11/20 [Train]: 100%|██████████| 150/150 [00:29<00:00,  5.02it/s]\n"
          ]
        },
        {
          "output_type": "stream",
          "name": "stdout",
          "text": [
            "Fold 2 | Epoch 11 | Train Loss: 0.3640, Acc: 0.9820, F1: 0.9819 | Val Loss: 0.3570, Acc: 0.9866, F1: 0.9862\n"
          ]
        },
        {
          "output_type": "stream",
          "name": "stderr",
          "text": [
            "Epoch 12/20 [Train]: 100%|██████████| 150/150 [00:29<00:00,  5.03it/s]\n"
          ]
        },
        {
          "output_type": "stream",
          "name": "stdout",
          "text": [
            "Fold 2 | Epoch 12 | Train Loss: 0.3541, Acc: 0.9849, F1: 0.9847 | Val Loss: 0.3534, Acc: 0.9883, F1: 0.9880\n"
          ]
        },
        {
          "output_type": "stream",
          "name": "stderr",
          "text": [
            "Epoch 13/20 [Train]: 100%|██████████| 150/150 [00:29<00:00,  5.02it/s]\n"
          ]
        },
        {
          "output_type": "stream",
          "name": "stdout",
          "text": [
            "Fold 2 | Epoch 13 | Train Loss: 0.3450, Acc: 0.9912, F1: 0.9911 | Val Loss: 0.3583, Acc: 0.9832, F1: 0.9830\n"
          ]
        },
        {
          "output_type": "stream",
          "name": "stderr",
          "text": [
            "Epoch 14/20 [Train]: 100%|██████████| 150/150 [00:29<00:00,  5.03it/s]\n"
          ]
        },
        {
          "output_type": "stream",
          "name": "stdout",
          "text": [
            "Fold 2 | Epoch 14 | Train Loss: 0.3397, Acc: 0.9925, F1: 0.9925 | Val Loss: 0.3462, Acc: 0.9899, F1: 0.9896\n"
          ]
        },
        {
          "output_type": "stream",
          "name": "stderr",
          "text": [
            "Epoch 15/20 [Train]: 100%|██████████| 150/150 [00:30<00:00,  5.00it/s]\n"
          ]
        },
        {
          "output_type": "stream",
          "name": "stdout",
          "text": [
            "Fold 2 | Epoch 15 | Train Loss: 0.3292, Acc: 0.9958, F1: 0.9958 | Val Loss: 0.3304, Acc: 0.9933, F1: 0.9932\n"
          ]
        },
        {
          "output_type": "stream",
          "name": "stderr",
          "text": [
            "Epoch 16/20 [Train]: 100%|██████████| 150/150 [00:29<00:00,  5.03it/s]\n"
          ]
        },
        {
          "output_type": "stream",
          "name": "stdout",
          "text": [
            "Fold 2 | Epoch 16 | Train Loss: 0.3279, Acc: 0.9950, F1: 0.9950 | Val Loss: 0.3531, Acc: 0.9799, F1: 0.9789\n"
          ]
        },
        {
          "output_type": "stream",
          "name": "stderr",
          "text": [
            "Epoch 17/20 [Train]: 100%|██████████| 150/150 [00:29<00:00,  5.01it/s]\n"
          ]
        },
        {
          "output_type": "stream",
          "name": "stdout",
          "text": [
            "Fold 2 | Epoch 17 | Train Loss: 0.3191, Acc: 0.9983, F1: 0.9983 | Val Loss: 0.3224, Acc: 0.9950, F1: 0.9950\n"
          ]
        },
        {
          "output_type": "stream",
          "name": "stderr",
          "text": [
            "Epoch 18/20 [Train]: 100%|██████████| 150/150 [00:29<00:00,  5.04it/s]\n"
          ]
        },
        {
          "output_type": "stream",
          "name": "stdout",
          "text": [
            "Fold 2 | Epoch 18 | Train Loss: 0.3261, Acc: 0.9962, F1: 0.9962 | Val Loss: 0.3269, Acc: 0.9899, F1: 0.9896\n"
          ]
        },
        {
          "output_type": "stream",
          "name": "stderr",
          "text": [
            "Epoch 19/20 [Train]: 100%|██████████| 150/150 [00:29<00:00,  5.04it/s]\n"
          ]
        },
        {
          "output_type": "stream",
          "name": "stdout",
          "text": [
            "Fold 2 | Epoch 19 | Train Loss: 0.3158, Acc: 0.9987, F1: 0.9987 | Val Loss: 0.3184, Acc: 0.9966, F1: 0.9964\n"
          ]
        },
        {
          "output_type": "stream",
          "name": "stderr",
          "text": [
            "Epoch 20/20 [Train]: 100%|██████████| 150/150 [00:29<00:00,  5.02it/s]\n",
            "/usr/local/lib/python3.11/dist-packages/torch/nn/modules/transformer.py:385: UserWarning: enable_nested_tensor is True, but self.use_nested_tensor is False because encoder_layer.self_attn.batch_first was not True(use batch_first for better inference performance)\n",
            "  warnings.warn(\n"
          ]
        },
        {
          "output_type": "stream",
          "name": "stdout",
          "text": [
            "Fold 2 | Epoch 20 | Train Loss: 0.3115, Acc: 0.9987, F1: 0.9986 | Val Loss: 0.3165, Acc: 0.9966, F1: 0.9968\n",
            "\n",
            "========== Fold 3/5 ==========\n"
          ]
        },
        {
          "output_type": "stream",
          "name": "stderr",
          "text": [
            "Epoch 1/20 [Train]: 100%|██████████| 150/150 [00:29<00:00,  5.05it/s]\n"
          ]
        },
        {
          "output_type": "stream",
          "name": "stdout",
          "text": [
            "Fold 3 | Epoch 1 | Train Loss: 1.1264, Acc: 0.3764, F1: 0.3709 | Val Loss: 1.0357, Acc: 0.5252, F1: 0.4065\n"
          ]
        },
        {
          "output_type": "stream",
          "name": "stderr",
          "text": [
            "Epoch 2/20 [Train]: 100%|██████████| 150/150 [00:29<00:00,  5.05it/s]\n"
          ]
        },
        {
          "output_type": "stream",
          "name": "stdout",
          "text": [
            "Fold 3 | Epoch 2 | Train Loss: 1.0403, Acc: 0.4661, F1: 0.4595 | Val Loss: 0.9276, Acc: 0.5621, F1: 0.4408\n"
          ]
        },
        {
          "output_type": "stream",
          "name": "stderr",
          "text": [
            "Epoch 3/20 [Train]: 100%|██████████| 150/150 [00:29<00:00,  5.04it/s]\n"
          ]
        },
        {
          "output_type": "stream",
          "name": "stdout",
          "text": [
            "Fold 3 | Epoch 3 | Train Loss: 0.9452, Acc: 0.5562, F1: 0.5510 | Val Loss: 0.8888, Acc: 0.6107, F1: 0.5977\n"
          ]
        },
        {
          "output_type": "stream",
          "name": "stderr",
          "text": [
            "Epoch 4/20 [Train]: 100%|██████████| 150/150 [00:29<00:00,  5.04it/s]\n"
          ]
        },
        {
          "output_type": "stream",
          "name": "stdout",
          "text": [
            "Fold 3 | Epoch 4 | Train Loss: 0.8294, Acc: 0.6672, F1: 0.6633 | Val Loss: 0.8785, Acc: 0.6124, F1: 0.5732\n"
          ]
        },
        {
          "output_type": "stream",
          "name": "stderr",
          "text": [
            "Epoch 5/20 [Train]: 100%|██████████| 150/150 [00:29<00:00,  5.04it/s]\n"
          ]
        },
        {
          "output_type": "stream",
          "name": "stdout",
          "text": [
            "Fold 3 | Epoch 5 | Train Loss: 0.7041, Acc: 0.7624, F1: 0.7592 | Val Loss: 0.5660, Acc: 0.8775, F1: 0.8729\n"
          ]
        },
        {
          "output_type": "stream",
          "name": "stderr",
          "text": [
            "Epoch 6/20 [Train]: 100%|██████████| 150/150 [00:29<00:00,  5.02it/s]\n"
          ]
        },
        {
          "output_type": "stream",
          "name": "stdout",
          "text": [
            "Fold 3 | Epoch 6 | Train Loss: 0.5874, Acc: 0.8491, F1: 0.8476 | Val Loss: 0.5292, Acc: 0.8826, F1: 0.8717\n"
          ]
        },
        {
          "output_type": "stream",
          "name": "stderr",
          "text": [
            "Epoch 7/20 [Train]: 100%|██████████| 150/150 [00:29<00:00,  5.01it/s]\n"
          ]
        },
        {
          "output_type": "stream",
          "name": "stdout",
          "text": [
            "Fold 3 | Epoch 7 | Train Loss: 0.5103, Acc: 0.9044, F1: 0.9032 | Val Loss: 0.6496, Acc: 0.7919, F1: 0.7906\n"
          ]
        },
        {
          "output_type": "stream",
          "name": "stderr",
          "text": [
            "Epoch 8/20 [Train]: 100%|██████████| 150/150 [00:29<00:00,  5.02it/s]\n"
          ]
        },
        {
          "output_type": "stream",
          "name": "stdout",
          "text": [
            "Fold 3 | Epoch 8 | Train Loss: 0.4557, Acc: 0.9308, F1: 0.9303 | Val Loss: 0.4194, Acc: 0.9446, F1: 0.9404\n"
          ]
        },
        {
          "output_type": "stream",
          "name": "stderr",
          "text": [
            "Epoch 9/20 [Train]: 100%|██████████| 150/150 [00:29<00:00,  5.03it/s]\n"
          ]
        },
        {
          "output_type": "stream",
          "name": "stdout",
          "text": [
            "Fold 3 | Epoch 9 | Train Loss: 0.4122, Acc: 0.9581, F1: 0.9572 | Val Loss: 0.3702, Acc: 0.9799, F1: 0.9785\n"
          ]
        },
        {
          "output_type": "stream",
          "name": "stderr",
          "text": [
            "Epoch 10/20 [Train]: 100%|██████████| 150/150 [00:29<00:00,  5.03it/s]\n"
          ]
        },
        {
          "output_type": "stream",
          "name": "stdout",
          "text": [
            "Fold 3 | Epoch 10 | Train Loss: 0.3884, Acc: 0.9673, F1: 0.9668 | Val Loss: 0.3594, Acc: 0.9849, F1: 0.9847\n"
          ]
        },
        {
          "output_type": "stream",
          "name": "stderr",
          "text": [
            "Epoch 11/20 [Train]: 100%|██████████| 150/150 [00:29<00:00,  5.03it/s]\n"
          ]
        },
        {
          "output_type": "stream",
          "name": "stdout",
          "text": [
            "Fold 3 | Epoch 11 | Train Loss: 0.3733, Acc: 0.9757, F1: 0.9752 | Val Loss: 0.3484, Acc: 0.9950, F1: 0.9946\n"
          ]
        },
        {
          "output_type": "stream",
          "name": "stderr",
          "text": [
            "Epoch 12/20 [Train]: 100%|██████████| 150/150 [00:29<00:00,  5.03it/s]\n"
          ]
        },
        {
          "output_type": "stream",
          "name": "stdout",
          "text": [
            "Fold 3 | Epoch 12 | Train Loss: 0.3556, Acc: 0.9883, F1: 0.9879 | Val Loss: 0.3458, Acc: 0.9933, F1: 0.9927\n"
          ]
        },
        {
          "output_type": "stream",
          "name": "stderr",
          "text": [
            "Epoch 13/20 [Train]: 100%|██████████| 150/150 [00:29<00:00,  5.04it/s]\n"
          ]
        },
        {
          "output_type": "stream",
          "name": "stdout",
          "text": [
            "Fold 3 | Epoch 13 | Train Loss: 0.3511, Acc: 0.9908, F1: 0.9905 | Val Loss: 0.3515, Acc: 0.9933, F1: 0.9930\n"
          ]
        },
        {
          "output_type": "stream",
          "name": "stderr",
          "text": [
            "Epoch 14/20 [Train]: 100%|██████████| 150/150 [00:29<00:00,  5.01it/s]\n"
          ]
        },
        {
          "output_type": "stream",
          "name": "stdout",
          "text": [
            "Fold 3 | Epoch 14 | Train Loss: 0.3446, Acc: 0.9908, F1: 0.9906 | Val Loss: 0.3569, Acc: 0.9899, F1: 0.9899\n"
          ]
        },
        {
          "output_type": "stream",
          "name": "stderr",
          "text": [
            "Epoch 15/20 [Train]: 100%|██████████| 150/150 [00:29<00:00,  5.01it/s]\n"
          ]
        },
        {
          "output_type": "stream",
          "name": "stdout",
          "text": [
            "Fold 3 | Epoch 15 | Train Loss: 0.3411, Acc: 0.9925, F1: 0.9923 | Val Loss: 0.3247, Acc: 0.9983, F1: 0.9981\n"
          ]
        },
        {
          "output_type": "stream",
          "name": "stderr",
          "text": [
            "Epoch 16/20 [Train]: 100%|██████████| 150/150 [00:29<00:00,  5.01it/s]\n"
          ]
        },
        {
          "output_type": "stream",
          "name": "stdout",
          "text": [
            "Fold 3 | Epoch 16 | Train Loss: 0.3337, Acc: 0.9958, F1: 0.9957 | Val Loss: 0.3280, Acc: 0.9983, F1: 0.9983\n"
          ]
        },
        {
          "output_type": "stream",
          "name": "stderr",
          "text": [
            "Epoch 17/20 [Train]: 100%|██████████| 150/150 [00:29<00:00,  5.04it/s]\n"
          ]
        },
        {
          "output_type": "stream",
          "name": "stdout",
          "text": [
            "Fold 3 | Epoch 17 | Train Loss: 0.3237, Acc: 0.9987, F1: 0.9987 | Val Loss: 0.3328, Acc: 0.9933, F1: 0.9927\n"
          ]
        },
        {
          "output_type": "stream",
          "name": "stderr",
          "text": [
            "Epoch 18/20 [Train]: 100%|██████████| 150/150 [00:29<00:00,  5.02it/s]\n"
          ]
        },
        {
          "output_type": "stream",
          "name": "stdout",
          "text": [
            "Fold 3 | Epoch 18 | Train Loss: 0.3251, Acc: 0.9975, F1: 0.9974 | Val Loss: 0.3359, Acc: 0.9933, F1: 0.9927\n"
          ]
        },
        {
          "output_type": "stream",
          "name": "stderr",
          "text": [
            "Epoch 19/20 [Train]: 100%|██████████| 150/150 [00:29<00:00,  5.03it/s]\n"
          ]
        },
        {
          "output_type": "stream",
          "name": "stdout",
          "text": [
            "Fold 3 | Epoch 19 | Train Loss: 0.3224, Acc: 0.9983, F1: 0.9983 | Val Loss: 0.3175, Acc: 0.9983, F1: 0.9983\n"
          ]
        },
        {
          "output_type": "stream",
          "name": "stderr",
          "text": [
            "Epoch 20/20 [Train]: 100%|██████████| 150/150 [00:29<00:00,  5.03it/s]\n",
            "/usr/local/lib/python3.11/dist-packages/torch/nn/modules/transformer.py:385: UserWarning: enable_nested_tensor is True, but self.use_nested_tensor is False because encoder_layer.self_attn.batch_first was not True(use batch_first for better inference performance)\n",
            "  warnings.warn(\n"
          ]
        },
        {
          "output_type": "stream",
          "name": "stdout",
          "text": [
            "Fold 3 | Epoch 20 | Train Loss: 0.3173, Acc: 0.9987, F1: 0.9987 | Val Loss: 0.3310, Acc: 0.9916, F1: 0.9908\n",
            "⏹️ Early stopping triggered.\n",
            "\n",
            "========== Fold 4/5 ==========\n"
          ]
        },
        {
          "output_type": "stream",
          "name": "stderr",
          "text": [
            "Epoch 1/20 [Train]: 100%|██████████| 150/150 [00:29<00:00,  5.04it/s]\n"
          ]
        },
        {
          "output_type": "stream",
          "name": "stdout",
          "text": [
            "Fold 4 | Epoch 1 | Train Loss: 1.1555, Acc: 0.3562, F1: 0.3483 | Val Loss: 1.0503, Acc: 0.4648, F1: 0.3683\n"
          ]
        },
        {
          "output_type": "stream",
          "name": "stderr",
          "text": [
            "Epoch 2/20 [Train]: 100%|██████████| 150/150 [00:29<00:00,  5.04it/s]\n"
          ]
        },
        {
          "output_type": "stream",
          "name": "stdout",
          "text": [
            "Fold 4 | Epoch 2 | Train Loss: 1.0525, Acc: 0.4476, F1: 0.4378 | Val Loss: 1.1721, Acc: 0.3859, F1: 0.3003\n"
          ]
        },
        {
          "output_type": "stream",
          "name": "stderr",
          "text": [
            "Epoch 3/20 [Train]: 100%|██████████| 150/150 [00:29<00:00,  5.03it/s]\n"
          ]
        },
        {
          "output_type": "stream",
          "name": "stdout",
          "text": [
            "Fold 4 | Epoch 3 | Train Loss: 0.9437, Acc: 0.5650, F1: 0.5579 | Val Loss: 0.8611, Acc: 0.6191, F1: 0.6273\n"
          ]
        },
        {
          "output_type": "stream",
          "name": "stderr",
          "text": [
            "Epoch 4/20 [Train]: 100%|██████████| 150/150 [00:29<00:00,  5.04it/s]\n"
          ]
        },
        {
          "output_type": "stream",
          "name": "stdout",
          "text": [
            "Fold 4 | Epoch 4 | Train Loss: 0.7836, Acc: 0.6873, F1: 0.6822 | Val Loss: 0.6893, Acc: 0.7869, F1: 0.7800\n"
          ]
        },
        {
          "output_type": "stream",
          "name": "stderr",
          "text": [
            "Epoch 5/20 [Train]: 100%|██████████| 150/150 [00:29<00:00,  5.01it/s]\n"
          ]
        },
        {
          "output_type": "stream",
          "name": "stdout",
          "text": [
            "Fold 4 | Epoch 5 | Train Loss: 0.6420, Acc: 0.8068, F1: 0.8040 | Val Loss: 0.5897, Acc: 0.8255, F1: 0.8129\n"
          ]
        },
        {
          "output_type": "stream",
          "name": "stderr",
          "text": [
            "Epoch 6/20 [Train]: 100%|██████████| 150/150 [00:29<00:00,  5.03it/s]\n"
          ]
        },
        {
          "output_type": "stream",
          "name": "stdout",
          "text": [
            "Fold 4 | Epoch 6 | Train Loss: 0.5469, Acc: 0.8747, F1: 0.8728 | Val Loss: 0.4852, Acc: 0.9128, F1: 0.9129\n"
          ]
        },
        {
          "output_type": "stream",
          "name": "stderr",
          "text": [
            "Epoch 7/20 [Train]: 100%|██████████| 150/150 [00:29<00:00,  5.01it/s]\n"
          ]
        },
        {
          "output_type": "stream",
          "name": "stdout",
          "text": [
            "Fold 4 | Epoch 7 | Train Loss: 0.4800, Acc: 0.9124, F1: 0.9117 | Val Loss: 0.4365, Acc: 0.9396, F1: 0.9385\n"
          ]
        },
        {
          "output_type": "stream",
          "name": "stderr",
          "text": [
            "Epoch 8/20 [Train]: 100%|██████████| 150/150 [00:29<00:00,  5.05it/s]\n"
          ]
        },
        {
          "output_type": "stream",
          "name": "stdout",
          "text": [
            "Fold 4 | Epoch 8 | Train Loss: 0.4385, Acc: 0.9438, F1: 0.9431 | Val Loss: 0.4261, Acc: 0.9530, F1: 0.9508\n"
          ]
        },
        {
          "output_type": "stream",
          "name": "stderr",
          "text": [
            "Epoch 9/20 [Train]: 100%|██████████| 150/150 [00:29<00:00,  5.02it/s]\n"
          ]
        },
        {
          "output_type": "stream",
          "name": "stdout",
          "text": [
            "Fold 4 | Epoch 9 | Train Loss: 0.3970, Acc: 0.9656, F1: 0.9654 | Val Loss: 0.3998, Acc: 0.9614, F1: 0.9596\n"
          ]
        },
        {
          "output_type": "stream",
          "name": "stderr",
          "text": [
            "Epoch 10/20 [Train]: 100%|██████████| 150/150 [00:29<00:00,  5.03it/s]\n"
          ]
        },
        {
          "output_type": "stream",
          "name": "stdout",
          "text": [
            "Fold 4 | Epoch 10 | Train Loss: 0.3754, Acc: 0.9778, F1: 0.9776 | Val Loss: 0.3491, Acc: 0.9883, F1: 0.9876\n"
          ]
        },
        {
          "output_type": "stream",
          "name": "stderr",
          "text": [
            "Epoch 11/20 [Train]: 100%|██████████| 150/150 [00:29<00:00,  5.04it/s]\n"
          ]
        },
        {
          "output_type": "stream",
          "name": "stdout",
          "text": [
            "Fold 4 | Epoch 11 | Train Loss: 0.3634, Acc: 0.9849, F1: 0.9845 | Val Loss: 0.3379, Acc: 0.9966, F1: 0.9965\n"
          ]
        },
        {
          "output_type": "stream",
          "name": "stderr",
          "text": [
            "Epoch 12/20 [Train]: 100%|██████████| 150/150 [00:29<00:00,  5.04it/s]\n"
          ]
        },
        {
          "output_type": "stream",
          "name": "stdout",
          "text": [
            "Fold 4 | Epoch 12 | Train Loss: 0.3528, Acc: 0.9912, F1: 0.9911 | Val Loss: 0.3373, Acc: 0.9933, F1: 0.9929\n"
          ]
        },
        {
          "output_type": "stream",
          "name": "stderr",
          "text": [
            "Epoch 13/20 [Train]: 100%|██████████| 150/150 [00:29<00:00,  5.03it/s]\n"
          ]
        },
        {
          "output_type": "stream",
          "name": "stdout",
          "text": [
            "Fold 4 | Epoch 13 | Train Loss: 0.3429, Acc: 0.9958, F1: 0.9958 | Val Loss: 0.3297, Acc: 0.9983, F1: 0.9983\n"
          ]
        },
        {
          "output_type": "stream",
          "name": "stderr",
          "text": [
            "Epoch 14/20 [Train]: 100%|██████████| 150/150 [00:29<00:00,  5.03it/s]\n"
          ]
        },
        {
          "output_type": "stream",
          "name": "stdout",
          "text": [
            "Fold 4 | Epoch 14 | Train Loss: 0.3342, Acc: 0.9979, F1: 0.9978 | Val Loss: 0.3435, Acc: 0.9950, F1: 0.9947\n"
          ]
        },
        {
          "output_type": "stream",
          "name": "stderr",
          "text": [
            "Epoch 15/20 [Train]: 100%|██████████| 150/150 [00:29<00:00,  5.03it/s]\n"
          ]
        },
        {
          "output_type": "stream",
          "name": "stdout",
          "text": [
            "Fold 4 | Epoch 15 | Train Loss: 0.3349, Acc: 0.9946, F1: 0.9945 | Val Loss: 0.3220, Acc: 0.9983, F1: 0.9982\n"
          ]
        },
        {
          "output_type": "stream",
          "name": "stderr",
          "text": [
            "Epoch 16/20 [Train]: 100%|██████████| 150/150 [00:29<00:00,  5.03it/s]\n"
          ]
        },
        {
          "output_type": "stream",
          "name": "stdout",
          "text": [
            "Fold 4 | Epoch 16 | Train Loss: 0.3231, Acc: 0.9987, F1: 0.9987 | Val Loss: 0.3211, Acc: 0.9983, F1: 0.9982\n"
          ]
        },
        {
          "output_type": "stream",
          "name": "stderr",
          "text": [
            "Epoch 17/20 [Train]: 100%|██████████| 150/150 [00:29<00:00,  5.05it/s]\n"
          ]
        },
        {
          "output_type": "stream",
          "name": "stdout",
          "text": [
            "Fold 4 | Epoch 17 | Train Loss: 0.3243, Acc: 0.9962, F1: 0.9961 | Val Loss: 0.3162, Acc: 1.0000, F1: 1.0000\n"
          ]
        },
        {
          "output_type": "stream",
          "name": "stderr",
          "text": [
            "Epoch 18/20 [Train]: 100%|██████████| 150/150 [00:29<00:00,  5.02it/s]\n"
          ]
        },
        {
          "output_type": "stream",
          "name": "stdout",
          "text": [
            "Fold 4 | Epoch 18 | Train Loss: 0.3179, Acc: 0.9979, F1: 0.9979 | Val Loss: 0.3144, Acc: 1.0000, F1: 1.0000\n"
          ]
        },
        {
          "output_type": "stream",
          "name": "stderr",
          "text": [
            "Epoch 19/20 [Train]: 100%|██████████| 150/150 [00:29<00:00,  5.04it/s]\n"
          ]
        },
        {
          "output_type": "stream",
          "name": "stdout",
          "text": [
            "Fold 4 | Epoch 19 | Train Loss: 0.3147, Acc: 0.9992, F1: 0.9991 | Val Loss: 0.3124, Acc: 0.9983, F1: 0.9982\n"
          ]
        },
        {
          "output_type": "stream",
          "name": "stderr",
          "text": [
            "Epoch 20/20 [Train]: 100%|██████████| 150/150 [00:30<00:00,  4.98it/s]\n",
            "/usr/local/lib/python3.11/dist-packages/torch/nn/modules/transformer.py:385: UserWarning: enable_nested_tensor is True, but self.use_nested_tensor is False because encoder_layer.self_attn.batch_first was not True(use batch_first for better inference performance)\n",
            "  warnings.warn(\n"
          ]
        },
        {
          "output_type": "stream",
          "name": "stdout",
          "text": [
            "Fold 4 | Epoch 20 | Train Loss: 0.3144, Acc: 0.9987, F1: 0.9987 | Val Loss: 0.3118, Acc: 0.9983, F1: 0.9982\n",
            "\n",
            "========== Fold 5/5 ==========\n"
          ]
        },
        {
          "output_type": "stream",
          "name": "stderr",
          "text": [
            "Epoch 1/20 [Train]: 100%|██████████| 150/150 [00:29<00:00,  5.06it/s]\n"
          ]
        },
        {
          "output_type": "stream",
          "name": "stdout",
          "text": [
            "Fold 5 | Epoch 1 | Train Loss: 1.1636, Acc: 0.3453, F1: 0.3370 | Val Loss: 1.0547, Acc: 0.4648, F1: 0.3397\n"
          ]
        },
        {
          "output_type": "stream",
          "name": "stderr",
          "text": [
            "Epoch 2/20 [Train]: 100%|██████████| 150/150 [00:29<00:00,  5.03it/s]\n"
          ]
        },
        {
          "output_type": "stream",
          "name": "stdout",
          "text": [
            "Fold 5 | Epoch 2 | Train Loss: 1.0678, Acc: 0.4514, F1: 0.4446 | Val Loss: 0.9568, Acc: 0.5201, F1: 0.4041\n"
          ]
        },
        {
          "output_type": "stream",
          "name": "stderr",
          "text": [
            "Epoch 3/20 [Train]: 100%|██████████| 150/150 [00:29<00:00,  5.04it/s]\n"
          ]
        },
        {
          "output_type": "stream",
          "name": "stdout",
          "text": [
            "Fold 5 | Epoch 3 | Train Loss: 0.9756, Acc: 0.4975, F1: 0.4954 | Val Loss: 0.8878, Acc: 0.5772, F1: 0.4786\n"
          ]
        },
        {
          "output_type": "stream",
          "name": "stderr",
          "text": [
            "Epoch 4/20 [Train]: 100%|██████████| 150/150 [00:29<00:00,  5.04it/s]\n"
          ]
        },
        {
          "output_type": "stream",
          "name": "stdout",
          "text": [
            "Fold 5 | Epoch 4 | Train Loss: 0.8297, Acc: 0.6526, F1: 0.6455 | Val Loss: 0.7033, Acc: 0.7500, F1: 0.7404\n"
          ]
        },
        {
          "output_type": "stream",
          "name": "stderr",
          "text": [
            "Epoch 5/20 [Train]: 100%|██████████| 150/150 [00:29<00:00,  5.05it/s]\n"
          ]
        },
        {
          "output_type": "stream",
          "name": "stdout",
          "text": [
            "Fold 5 | Epoch 5 | Train Loss: 0.6936, Acc: 0.7741, F1: 0.7710 | Val Loss: 0.6448, Acc: 0.7903, F1: 0.7684\n"
          ]
        },
        {
          "output_type": "stream",
          "name": "stderr",
          "text": [
            "Epoch 6/20 [Train]: 100%|██████████| 150/150 [00:29<00:00,  5.01it/s]\n"
          ]
        },
        {
          "output_type": "stream",
          "name": "stdout",
          "text": [
            "Fold 5 | Epoch 6 | Train Loss: 0.5695, Acc: 0.8521, F1: 0.8499 | Val Loss: 0.4747, Acc: 0.9144, F1: 0.9124\n"
          ]
        },
        {
          "output_type": "stream",
          "name": "stderr",
          "text": [
            "Epoch 7/20 [Train]: 100%|██████████| 150/150 [00:29<00:00,  5.02it/s]\n"
          ]
        },
        {
          "output_type": "stream",
          "name": "stdout",
          "text": [
            "Fold 5 | Epoch 7 | Train Loss: 0.4985, Acc: 0.9003, F1: 0.8983 | Val Loss: 0.4313, Acc: 0.9446, F1: 0.9425\n"
          ]
        },
        {
          "output_type": "stream",
          "name": "stderr",
          "text": [
            "Epoch 8/20 [Train]: 100%|██████████| 150/150 [00:29<00:00,  5.04it/s]\n"
          ]
        },
        {
          "output_type": "stream",
          "name": "stdout",
          "text": [
            "Fold 5 | Epoch 8 | Train Loss: 0.4431, Acc: 0.9371, F1: 0.9359 | Val Loss: 0.4371, Acc: 0.9463, F1: 0.9457\n"
          ]
        },
        {
          "output_type": "stream",
          "name": "stderr",
          "text": [
            "Epoch 9/20 [Train]: 100%|██████████| 150/150 [00:29<00:00,  5.02it/s]\n"
          ]
        },
        {
          "output_type": "stream",
          "name": "stdout",
          "text": [
            "Fold 5 | Epoch 9 | Train Loss: 0.4226, Acc: 0.9480, F1: 0.9469 | Val Loss: 0.3937, Acc: 0.9664, F1: 0.9654\n"
          ]
        },
        {
          "output_type": "stream",
          "name": "stderr",
          "text": [
            "Epoch 10/20 [Train]: 100%|██████████| 150/150 [00:29<00:00,  5.01it/s]\n"
          ]
        },
        {
          "output_type": "stream",
          "name": "stdout",
          "text": [
            "Fold 5 | Epoch 10 | Train Loss: 0.3840, Acc: 0.9728, F1: 0.9722 | Val Loss: 0.3605, Acc: 0.9832, F1: 0.9823\n"
          ]
        },
        {
          "output_type": "stream",
          "name": "stderr",
          "text": [
            "Epoch 11/20 [Train]: 100%|██████████| 150/150 [00:29<00:00,  5.00it/s]\n"
          ]
        },
        {
          "output_type": "stream",
          "name": "stdout",
          "text": [
            "Fold 5 | Epoch 11 | Train Loss: 0.3641, Acc: 0.9849, F1: 0.9843 | Val Loss: 0.3520, Acc: 0.9899, F1: 0.9893\n"
          ]
        },
        {
          "output_type": "stream",
          "name": "stderr",
          "text": [
            "Epoch 12/20 [Train]: 100%|██████████| 150/150 [00:29<00:00,  5.03it/s]\n"
          ]
        },
        {
          "output_type": "stream",
          "name": "stdout",
          "text": [
            "Fold 5 | Epoch 12 | Train Loss: 0.3506, Acc: 0.9899, F1: 0.9895 | Val Loss: 0.3384, Acc: 0.9899, F1: 0.9899\n"
          ]
        },
        {
          "output_type": "stream",
          "name": "stderr",
          "text": [
            "Epoch 13/20 [Train]: 100%|██████████| 150/150 [00:29<00:00,  5.00it/s]\n"
          ]
        },
        {
          "output_type": "stream",
          "name": "stdout",
          "text": [
            "Fold 5 | Epoch 13 | Train Loss: 0.3479, Acc: 0.9862, F1: 0.9859 | Val Loss: 0.3357, Acc: 0.9899, F1: 0.9900\n"
          ]
        },
        {
          "output_type": "stream",
          "name": "stderr",
          "text": [
            "Epoch 14/20 [Train]: 100%|██████████| 150/150 [00:29<00:00,  5.02it/s]\n"
          ]
        },
        {
          "output_type": "stream",
          "name": "stdout",
          "text": [
            "Fold 5 | Epoch 14 | Train Loss: 0.3307, Acc: 0.9958, F1: 0.9955 | Val Loss: 0.3365, Acc: 0.9916, F1: 0.9918\n"
          ]
        },
        {
          "output_type": "stream",
          "name": "stderr",
          "text": [
            "Epoch 15/20 [Train]: 100%|██████████| 150/150 [00:30<00:00,  5.00it/s]\n"
          ]
        },
        {
          "output_type": "stream",
          "name": "stdout",
          "text": [
            "Fold 5 | Epoch 15 | Train Loss: 0.3361, Acc: 0.9933, F1: 0.9933 | Val Loss: 0.3493, Acc: 0.9933, F1: 0.9929\n"
          ]
        },
        {
          "output_type": "stream",
          "name": "stderr",
          "text": [
            "Epoch 16/20 [Train]: 100%|██████████| 150/150 [00:29<00:00,  5.03it/s]\n"
          ]
        },
        {
          "output_type": "stream",
          "name": "stdout",
          "text": [
            "Fold 5 | Epoch 16 | Train Loss: 0.3295, Acc: 0.9954, F1: 0.9952 | Val Loss: 0.3217, Acc: 0.9950, F1: 0.9951\n"
          ]
        },
        {
          "output_type": "stream",
          "name": "stderr",
          "text": [
            "Epoch 17/20 [Train]: 100%|██████████| 150/150 [00:29<00:00,  5.02it/s]\n"
          ]
        },
        {
          "output_type": "stream",
          "name": "stdout",
          "text": [
            "Fold 5 | Epoch 17 | Train Loss: 0.3191, Acc: 0.9983, F1: 0.9983 | Val Loss: 0.3131, Acc: 0.9966, F1: 0.9967\n"
          ]
        },
        {
          "output_type": "stream",
          "name": "stderr",
          "text": [
            "Epoch 18/20 [Train]: 100%|██████████| 150/150 [00:29<00:00,  5.02it/s]\n"
          ]
        },
        {
          "output_type": "stream",
          "name": "stdout",
          "text": [
            "Fold 5 | Epoch 18 | Train Loss: 0.3196, Acc: 0.9975, F1: 0.9974 | Val Loss: 0.3203, Acc: 0.9950, F1: 0.9947\n"
          ]
        },
        {
          "output_type": "stream",
          "name": "stderr",
          "text": [
            "Epoch 19/20 [Train]: 100%|██████████| 150/150 [00:29<00:00,  5.05it/s]\n"
          ]
        },
        {
          "output_type": "stream",
          "name": "stdout",
          "text": [
            "Fold 5 | Epoch 19 | Train Loss: 0.3123, Acc: 0.9983, F1: 0.9983 | Val Loss: 0.3112, Acc: 0.9966, F1: 0.9967\n"
          ]
        },
        {
          "output_type": "stream",
          "name": "stderr",
          "text": [
            "Epoch 20/20 [Train]: 100%|██████████| 150/150 [00:29<00:00,  5.03it/s]\n"
          ]
        },
        {
          "output_type": "stream",
          "name": "stdout",
          "text": [
            "Fold 5 | Epoch 20 | Train Loss: 0.3078, Acc: 0.9996, F1: 0.9995 | Val Loss: 0.3094, Acc: 0.9966, F1: 0.9967\n",
            "\n",
            "========== Cross-validation Results ==========\n",
            "Per-fold acc: [1.0, 0.9966499162479062, 0.9983221476510067, 1.0, 0.9966442953020134]\n",
            "Mean acc: 0.9983 | Std: 0.0015\n"
          ]
        }
      ]
    }
  ]
}