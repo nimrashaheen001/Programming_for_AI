{
  "nbformat": 4,
  "nbformat_minor": 0,
  "metadata": {
    "colab": {
      "provenance": [],
      "authorship_tag": "ABX9TyP7Qger4nHDU5sA6SZUU3Cu",
      "include_colab_link": true
    },
    "kernelspec": {
      "name": "python3",
      "display_name": "Python 3"
    },
    "language_info": {
      "name": "python"
    }
  },
  "cells": [
    {
      "cell_type": "markdown",
      "metadata": {
        "id": "view-in-github",
        "colab_type": "text"
      },
      "source": [
        "<a href=\"https://colab.research.google.com/github/nimrashaheen001/Programming_for_AI/blob/main/CVassignment_4.ipynb\" target=\"_parent\"><img src=\"https://colab.research.google.com/assets/colab-badge.svg\" alt=\"Open In Colab\"/></a>"
      ]
    },
    {
      "cell_type": "markdown",
      "source": [
        "\n",
        "# ***CNN model for MNIST Handwritten Digit Classification***\n",
        "\n"
      ],
      "metadata": {
        "id": "qFIIDHoZ8a5g"
      }
    },
    {
      "cell_type": "code",
      "source": [
        "import numpy as np\n",
        "from tensorflow.keras.datasets import mnist\n",
        "from tensorflow.keras.utils import to_categorical\n",
        "from tensorflow.keras.models import Sequential\n",
        "from tensorflow.keras.layers import Conv2D, MaxPooling2D, Dense, Flatten, Dropout, BatchNormalization\n",
        "from tensorflow.keras.optimizers import Adam\n",
        "from tensorflow.keras.callbacks import ReduceLROnPlateau\n",
        "import matplotlib.pyplot as plt\n",
        "\n",
        "# Load and preprocess the MNIST dataset\n",
        "def load_and_preprocess_data():\n",
        "    # Load MNIST dataset\n",
        "    (X_train, y_train), (X_test, y_test) = mnist.load_data()\n",
        "\n",
        "    # Reshape data for CNN (add channel dimension)\n",
        "    X_train = X_train.reshape((X_train.shape[0], 28, 28, 1))\n",
        "    X_test = X_test.reshape((X_test.shape[0], 28, 28, 1))\n",
        "\n",
        "    # Normalize pixel values\n",
        "    X_train = X_train.astype('float32') / 255.0\n",
        "    X_test = X_test.astype('float32') / 255.0\n",
        "\n",
        "    # Convert labels to one-hot encoded format\n",
        "    y_train = to_categorical(y_train)\n",
        "    y_test = to_categorical(y_test)\n",
        "\n",
        "    return X_train, y_train, X_test, y_test\n",
        "\n",
        "# Define an improved CNN model\n",
        "def create_improved_model():\n",
        "    model = Sequential([\n",
        "        # First Convolutional Block\n",
        "        Conv2D(32, (3, 3), activation='relu', padding='same', input_shape=(28, 28, 1)),\n",
        "        BatchNormalization(),\n",
        "        Conv2D(32, (3, 3), activation='relu', padding='same'),\n",
        "        BatchNormalization(),\n",
        "        MaxPooling2D((2, 2)),\n",
        "        Dropout(0.25),\n",
        "\n",
        "        # Second Convolutional Block\n",
        "        Conv2D(64, (3, 3), activation='relu', padding='same'),\n",
        "        BatchNormalization(),\n",
        "        Conv2D(64, (3, 3), activation='relu', padding='same'),\n",
        "        BatchNormalization(),\n",
        "        MaxPooling2D((2, 2)),\n",
        "        Dropout(0.25),\n",
        "\n",
        "        # Third Convolutional Block\n",
        "        Conv2D(128, (3, 3), activation='relu', padding='same'),\n",
        "        BatchNormalization(),\n",
        "        Conv2D(128, (3, 3), activation='relu', padding='same'),\n",
        "        BatchNormalization(),\n",
        "        MaxPooling2D((2, 2)),\n",
        "        Dropout(0.25),\n",
        "\n",
        "        # Dense Layers\n",
        "        Flatten(),\n",
        "        Dense(512, activation='relu'),\n",
        "        BatchNormalization(),\n",
        "        Dropout(0.5),\n",
        "        Dense(10, activation='softmax')\n",
        "    ])\n",
        "\n",
        "    return model\n",
        "\n",
        "# Plot training history\n",
        "def plot_training_history(history):\n",
        "    plt.figure(figsize=(12, 4))\n",
        "\n",
        "    # Plot accuracy\n",
        "    plt.subplot(1, 2, 1)\n",
        "    plt.plot(history.history['accuracy'], label='Training Accuracy')\n",
        "    plt.plot(history.history['val_accuracy'], label='Validation Accuracy')\n",
        "    plt.title('Model Accuracy')\n",
        "    plt.xlabel('Epoch')\n",
        "    plt.ylabel('Accuracy')\n",
        "    plt.legend()\n",
        "\n",
        "    # Plot loss\n",
        "    plt.subplot(1, 2, 2)\n",
        "    plt.plot(history.history['loss'], label='Training Loss')\n",
        "    plt.plot(history.history['val_loss'], label='Validation Loss')\n",
        "    plt.title('Model Loss')\n",
        "    plt.xlabel('Epoch')\n",
        "    plt.ylabel('Loss')\n",
        "    plt.legend()\n",
        "\n",
        "    plt.tight_layout()\n",
        "    plt.show()\n",
        "\n",
        "def main():\n",
        "    # Load and preprocess data\n",
        "    print(\"Loading and preprocessing data...\")\n",
        "    X_train, y_train, X_test, y_test = load_and_preprocess_data()\n",
        "\n",
        "    # Create and compile model\n",
        "    print(\"Creating model...\")\n",
        "    model = create_improved_model()\n",
        "    optimizer = Adam(learning_rate=0.001)\n",
        "    model.compile(optimizer=optimizer,\n",
        "                 loss='categorical_crossentropy',\n",
        "                 metrics=['accuracy'])\n",
        "\n",
        "    # Define learning rate reduction callback\n",
        "    lr_reducer = ReduceLROnPlateau(monitor='val_loss',\n",
        "                                  factor=0.5,\n",
        "                                  patience=3,\n",
        "                                  verbose=1,\n",
        "                                  min_lr=1e-6)\n",
        "\n",
        "    # Train the model\n",
        "    print(\"Training model...\")\n",
        "    history = model.fit(X_train, y_train,\n",
        "                       batch_size=128,\n",
        "                       epochs=20,\n",
        "                       validation_split=0.2,\n",
        "                       callbacks=[lr_reducer],\n",
        "                       verbose=1)\n",
        "\n",
        "      # Save the trained model\n",
        "    print(\"\\nSaving model...\")\n",
        "    model.save('final_model.h5')\n",
        "    print(\"Model saved as 'final_model.h5'\")\n",
        "\n",
        "    # Evaluate the model\n",
        "    print(\"\\nEvaluating model...\")\n",
        "    test_loss, test_accuracy = model.evaluate(X_test, y_test, verbose=0)\n",
        "    print(f\"Test accuracy: {test_accuracy*100:.2f}%\")\n",
        "    print(f\"Test loss: {test_loss:.4f}\")\n",
        "\n",
        "    # Plot training history\n",
        "    plot_training_history(history)\n",
        "\n",
        "if __name__ == \"__main__\":\n",
        "    main()"
      ],
      "metadata": {
        "colab": {
          "base_uri": "https://localhost:8080/",
          "height": 1000
        },
        "id": "Oaul1UpQAPPT",
        "outputId": "9064ebcd-bfdd-4993-df14-50cc55e16f5b"
      },
      "execution_count": 7,
      "outputs": [
        {
          "output_type": "stream",
          "name": "stdout",
          "text": [
            "Loading and preprocessing data...\n",
            "Creating model...\n",
            "Training model...\n"
          ]
        },
        {
          "output_type": "stream",
          "name": "stderr",
          "text": [
            "/usr/local/lib/python3.10/dist-packages/keras/src/layers/convolutional/base_conv.py:107: UserWarning: Do not pass an `input_shape`/`input_dim` argument to a layer. When using Sequential models, prefer using an `Input(shape)` object as the first layer in the model instead.\n",
            "  super().__init__(activity_regularizer=activity_regularizer, **kwargs)\n"
          ]
        },
        {
          "output_type": "stream",
          "name": "stdout",
          "text": [
            "Epoch 1/20\n",
            "\u001b[1m375/375\u001b[0m \u001b[32m━━━━━━━━━━━━━━━━━━━━\u001b[0m\u001b[37m\u001b[0m \u001b[1m401s\u001b[0m 905ms/step - accuracy: 0.8293 - loss: 0.5774 - val_accuracy: 0.2201 - val_loss: 3.4095 - learning_rate: 0.0010\n",
            "Epoch 2/20\n",
            "\u001b[1m375/375\u001b[0m \u001b[32m━━━━━━━━━━━━━━━━━━━━\u001b[0m\u001b[37m\u001b[0m \u001b[1m380s\u001b[0m 900ms/step - accuracy: 0.9769 - loss: 0.0707 - val_accuracy: 0.9870 - val_loss: 0.0466 - learning_rate: 0.0010\n",
            "Epoch 3/20\n",
            "\u001b[1m375/375\u001b[0m \u001b[32m━━━━━━━━━━━━━━━━━━━━\u001b[0m\u001b[37m\u001b[0m \u001b[1m379s\u001b[0m 892ms/step - accuracy: 0.9848 - loss: 0.0485 - val_accuracy: 0.9862 - val_loss: 0.0463 - learning_rate: 0.0010\n",
            "Epoch 4/20\n",
            "\u001b[1m375/375\u001b[0m \u001b[32m━━━━━━━━━━━━━━━━━━━━\u001b[0m\u001b[37m\u001b[0m \u001b[1m380s\u001b[0m 887ms/step - accuracy: 0.9885 - loss: 0.0372 - val_accuracy: 0.9892 - val_loss: 0.0389 - learning_rate: 0.0010\n",
            "Epoch 5/20\n",
            "\u001b[1m375/375\u001b[0m \u001b[32m━━━━━━━━━━━━━━━━━━━━\u001b[0m\u001b[37m\u001b[0m \u001b[1m334s\u001b[0m 890ms/step - accuracy: 0.9889 - loss: 0.0328 - val_accuracy: 0.9927 - val_loss: 0.0271 - learning_rate: 0.0010\n",
            "Epoch 6/20\n",
            "\u001b[1m375/375\u001b[0m \u001b[32m━━━━━━━━━━━━━━━━━━━━\u001b[0m\u001b[37m\u001b[0m \u001b[1m382s\u001b[0m 890ms/step - accuracy: 0.9913 - loss: 0.0282 - val_accuracy: 0.9912 - val_loss: 0.0301 - learning_rate: 0.0010\n",
            "Epoch 7/20\n",
            "\u001b[1m375/375\u001b[0m \u001b[32m━━━━━━━━━━━━━━━━━━━━\u001b[0m\u001b[37m\u001b[0m \u001b[1m380s\u001b[0m 884ms/step - accuracy: 0.9917 - loss: 0.0260 - val_accuracy: 0.9909 - val_loss: 0.0324 - learning_rate: 0.0010\n",
            "Epoch 8/20\n",
            "\u001b[1m375/375\u001b[0m \u001b[32m━━━━━━━━━━━━━━━━━━━━\u001b[0m\u001b[37m\u001b[0m \u001b[1m393s\u001b[0m 913ms/step - accuracy: 0.9922 - loss: 0.0251 - val_accuracy: 0.9936 - val_loss: 0.0259 - learning_rate: 0.0010\n",
            "Epoch 9/20\n",
            "\u001b[1m375/375\u001b[0m \u001b[32m━━━━━━━━━━━━━━━━━━━━\u001b[0m\u001b[37m\u001b[0m \u001b[1m361s\u001b[0m 961ms/step - accuracy: 0.9922 - loss: 0.0217 - val_accuracy: 0.9924 - val_loss: 0.0281 - learning_rate: 0.0010\n",
            "Epoch 10/20\n",
            "\u001b[1m375/375\u001b[0m \u001b[32m━━━━━━━━━━━━━━━━━━━━\u001b[0m\u001b[37m\u001b[0m \u001b[1m356s\u001b[0m 893ms/step - accuracy: 0.9922 - loss: 0.0226 - val_accuracy: 0.9889 - val_loss: 0.0401 - learning_rate: 0.0010\n",
            "Epoch 11/20\n",
            "\u001b[1m375/375\u001b[0m \u001b[32m━━━━━━━━━━━━━━━━━━━━\u001b[0m\u001b[37m\u001b[0m \u001b[1m0s\u001b[0m 839ms/step - accuracy: 0.9945 - loss: 0.0179\n",
            "Epoch 11: ReduceLROnPlateau reducing learning rate to 0.0005000000237487257.\n",
            "\u001b[1m375/375\u001b[0m \u001b[32m━━━━━━━━━━━━━━━━━━━━\u001b[0m\u001b[37m\u001b[0m \u001b[1m382s\u001b[0m 894ms/step - accuracy: 0.9945 - loss: 0.0179 - val_accuracy: 0.9929 - val_loss: 0.0260 - learning_rate: 0.0010\n",
            "Epoch 12/20\n",
            "\u001b[1m375/375\u001b[0m \u001b[32m━━━━━━━━━━━━━━━━━━━━\u001b[0m\u001b[37m\u001b[0m \u001b[1m332s\u001b[0m 885ms/step - accuracy: 0.9946 - loss: 0.0158 - val_accuracy: 0.9955 - val_loss: 0.0197 - learning_rate: 5.0000e-04\n",
            "Epoch 13/20\n",
            "\u001b[1m375/375\u001b[0m \u001b[32m━━━━━━━━━━━━━━━━━━━━\u001b[0m\u001b[37m\u001b[0m \u001b[1m383s\u001b[0m 887ms/step - accuracy: 0.9970 - loss: 0.0093 - val_accuracy: 0.9940 - val_loss: 0.0211 - learning_rate: 5.0000e-04\n",
            "Epoch 14/20\n",
            "\u001b[1m375/375\u001b[0m \u001b[32m━━━━━━━━━━━━━━━━━━━━\u001b[0m\u001b[37m\u001b[0m \u001b[1m332s\u001b[0m 887ms/step - accuracy: 0.9976 - loss: 0.0078 - val_accuracy: 0.9950 - val_loss: 0.0206 - learning_rate: 5.0000e-04\n",
            "Epoch 15/20\n",
            "\u001b[1m375/375\u001b[0m \u001b[32m━━━━━━━━━━━━━━━━━━━━\u001b[0m\u001b[37m\u001b[0m \u001b[1m0s\u001b[0m 838ms/step - accuracy: 0.9967 - loss: 0.0086\n",
            "Epoch 15: ReduceLROnPlateau reducing learning rate to 0.0002500000118743628.\n",
            "\u001b[1m375/375\u001b[0m \u001b[32m━━━━━━━━━━━━━━━━━━━━\u001b[0m\u001b[37m\u001b[0m \u001b[1m384s\u001b[0m 892ms/step - accuracy: 0.9967 - loss: 0.0086 - val_accuracy: 0.9942 - val_loss: 0.0246 - learning_rate: 5.0000e-04\n",
            "Epoch 16/20\n",
            "\u001b[1m375/375\u001b[0m \u001b[32m━━━━━━━━━━━━━━━━━━━━\u001b[0m\u001b[37m\u001b[0m \u001b[1m379s\u001b[0m 886ms/step - accuracy: 0.9983 - loss: 0.0064 - val_accuracy: 0.9950 - val_loss: 0.0220 - learning_rate: 2.5000e-04\n",
            "Epoch 17/20\n",
            "\u001b[1m375/375\u001b[0m \u001b[32m━━━━━━━━━━━━━━━━━━━━\u001b[0m\u001b[37m\u001b[0m \u001b[1m384s\u001b[0m 890ms/step - accuracy: 0.9985 - loss: 0.0047 - val_accuracy: 0.9956 - val_loss: 0.0202 - learning_rate: 2.5000e-04\n",
            "Epoch 18/20\n",
            "\u001b[1m375/375\u001b[0m \u001b[32m━━━━━━━━━━━━━━━━━━━━\u001b[0m\u001b[37m\u001b[0m \u001b[1m0s\u001b[0m 839ms/step - accuracy: 0.9986 - loss: 0.0042\n",
            "Epoch 18: ReduceLROnPlateau reducing learning rate to 0.0001250000059371814.\n",
            "\u001b[1m375/375\u001b[0m \u001b[32m━━━━━━━━━━━━━━━━━━━━\u001b[0m\u001b[37m\u001b[0m \u001b[1m380s\u001b[0m 886ms/step - accuracy: 0.9986 - loss: 0.0042 - val_accuracy: 0.9943 - val_loss: 0.0237 - learning_rate: 2.5000e-04\n",
            "Epoch 19/20\n",
            "\u001b[1m375/375\u001b[0m \u001b[32m━━━━━━━━━━━━━━━━━━━━\u001b[0m\u001b[37m\u001b[0m \u001b[1m334s\u001b[0m 892ms/step - accuracy: 0.9985 - loss: 0.0044 - val_accuracy: 0.9954 - val_loss: 0.0224 - learning_rate: 1.2500e-04\n",
            "Epoch 20/20\n",
            "\u001b[1m375/375\u001b[0m \u001b[32m━━━━━━━━━━━━━━━━━━━━\u001b[0m\u001b[37m\u001b[0m \u001b[1m380s\u001b[0m 886ms/step - accuracy: 0.9987 - loss: 0.0034 - val_accuracy: 0.9955 - val_loss: 0.0220 - learning_rate: 1.2500e-04\n"
          ]
        },
        {
          "output_type": "stream",
          "name": "stderr",
          "text": [
            "WARNING:absl:You are saving your model as an HDF5 file via `model.save()` or `keras.saving.save_model(model)`. This file format is considered legacy. We recommend using instead the native Keras format, e.g. `model.save('my_model.keras')` or `keras.saving.save_model(model, 'my_model.keras')`. \n"
          ]
        },
        {
          "output_type": "stream",
          "name": "stdout",
          "text": [
            "\n",
            "Saving model...\n",
            "Model saved as 'final_model.h5'\n",
            "\n",
            "Evaluating model...\n",
            "Test accuracy: 99.61%\n",
            "Test loss: 0.0144\n"
          ]
        },
        {
          "output_type": "display_data",
          "data": {
            "text/plain": [
              "<Figure size 1200x400 with 2 Axes>"
            ],
            "image/png": "[encoded data removed]"
          },
          "metadata": {}
        }
      ]
    },
    {
      "cell_type": "markdown",
      "source": [
        "# ***Prediction through Sample image 1***"
      ],
      "metadata": {
        "id": "68KfSdSq8lni"
      }
    },
    {
      "cell_type": "code",
      "source": [
        "import numpy as np\n",
        "from tensorflow.keras.preprocessing.image import load_img, img_to_array\n",
        "from tensorflow.keras.models import load_model\n",
        "\n",
        "# Load and prepare the image\n",
        "def load_image(filename):\n",
        "    # Load the image in grayscale and resize it to 28x28\n",
        "    img = load_img(filename, color_mode=\"grayscale\", target_size=(28, 28))\n",
        "    # Convert the image to a NumPy array\n",
        "    img = img_to_array(img)\n",
        "    # Reshape the array into a single sample with 1 channel\n",
        "    img = img.reshape(1, 28, 28, 1)\n",
        "    # Normalize pixel values\n",
        "    img = img.astype('float32') / 255.0\n",
        "    return img\n",
        "\n",
        "# Load an image and predict the class\n",
        "def predict_digit(filename):\n",
        "    # Load the image\n",
        "    img = load_image(filename)\n",
        "    # Load the trained model\n",
        "    model = load_model('final_model.h5')\n",
        "    # Predict the class\n",
        "    prediction = model.predict(img, verbose=0)\n",
        "    digit = np.argmax(prediction)\n",
        "    print(f\"Predicted digit: {digit}\")\n",
        "\n",
        "# Example usage\n",
        "if __name__ == \"__main__\":\n",
        "    # Replace 'sample_image.png' with your image filename\n",
        "    predict_digit('Sample-image.png')\n"
      ],
      "metadata": {
        "colab": {
          "base_uri": "https://localhost:8080/"
        },
        "id": "gpraPqg1AN9v",
        "outputId": "dd81c11f-cd3a-4373-8d3d-873840ae787d"
      },
      "execution_count": 8,
      "outputs": [
        {
          "output_type": "stream",
          "name": "stderr",
          "text": [
            "WARNING:absl:Compiled the loaded model, but the compiled metrics have yet to be built. `model.compile_metrics` will be empty until you train or evaluate the model.\n"
          ]
        },
        {
          "output_type": "stream",
          "name": "stdout",
          "text": [
            "Predicted digit: 7\n"
          ]
        }
      ]
    },
    {
      "cell_type": "markdown",
      "source": [
        "# ***Prediction through Sample image 1***"
      ],
      "metadata": {
        "id": "EDhG9_dd8vmT"
      }
    },
    {
      "cell_type": "code",
      "source": [
        "import numpy as np\n",
        "from tensorflow.keras.preprocessing.image import load_img, img_to_array\n",
        "from tensorflow.keras.models import load_model\n",
        "\n",
        "# Load and prepare the image\n",
        "def load_image(filename):\n",
        "    # Load the image in grayscale and resize it to 28x28\n",
        "    img = load_img(filename, color_mode=\"grayscale\", target_size=(28, 28))\n",
        "    # Convert the image to a NumPy array\n",
        "    img = img_to_array(img)\n",
        "    # Reshape the array into a single sample with 1 channel\n",
        "    img = img.reshape(1, 28, 28, 1)\n",
        "    # Normalize pixel values\n",
        "    img = img.astype('float32') / 255.0\n",
        "    return img\n",
        "\n",
        "# Load an image and predict the class\n",
        "def predict_digit(filename):\n",
        "    # Load the image\n",
        "    img = load_image(filename)\n",
        "    # Load the trained model\n",
        "    model = load_model('final_model.h5')\n",
        "    # Predict the class\n",
        "    prediction = model.predict(img, verbose=0)\n",
        "    digit = np.argmax(prediction)\n",
        "    print(f\"Predicted digit: {digit}\")\n",
        "\n",
        "# Example usage\n",
        "if __name__ == \"__main__\":\n",
        "    # Replace 'sample_image.png' with your image filename\n",
        "    predict_digit('img1.png')"
      ],
      "metadata": {
        "colab": {
          "base_uri": "https://localhost:8080/"
        },
        "id": "J2u9jmvqANyW",
        "outputId": "307cba2f-d5db-45e7-8975-bbe9dead466b"
      },
      "execution_count": 9,
      "outputs": [
        {
          "output_type": "stream",
          "name": "stderr",
          "text": [
            "WARNING:absl:Compiled the loaded model, but the compiled metrics have yet to be built. `model.compile_metrics` will be empty until you train or evaluate the model.\n"
          ]
        },
        {
          "output_type": "stream",
          "name": "stdout",
          "text": [
            "Predicted digit: 5\n"
          ]
        }
      ]
    }
  ]
}